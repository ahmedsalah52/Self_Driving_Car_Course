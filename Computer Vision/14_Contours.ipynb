{
 "metadata": {
  "language_info": {
   "codemirror_mode": {
    "name": "ipython",
    "version": 3
   },
   "file_extension": ".py",
   "mimetype": "text/x-python",
   "name": "python",
   "nbconvert_exporter": "python",
   "pygments_lexer": "ipython3",
   "version": "3.8.5"
  },
  "orig_nbformat": 2,
  "kernelspec": {
   "name": "python385jvsc74a57bd0e42243f72fa198d5d7b499bc77ec7a85778f1261c8f7ca8e772194d316f1b31e",
   "display_name": "Python 3.8.5 64-bit ('base': conda)"
  },
  "metadata": {
   "interpreter": {
    "hash": "e42243f72fa198d5d7b499bc77ec7a85778f1261c8f7ca8e772194d316f1b31e"
   }
  }
 },
 "nbformat": 4,
 "nbformat_minor": 2,
 "cells": [
  {
   "source": [
    "# Contours Lab\n",
    "\n",
    "In this lab we need to explore contours shapes.\n",
    "\n",
    "![](Files/Contours/lab.png)\n",
    "\n",
    "## Required\n",
    "\n",
    "- Erase the 3 small shapes.\n",
    "- Fill the rectangle with blue color.\n",
    "- Fill the oval with red color.\n",
    "\n",
    "## Grade\n",
    "\n",
    "10"
   ],
   "cell_type": "markdown",
   "metadata": {}
  },
  {
   "source": [],
   "cell_type": "markdown",
   "metadata": {}
  },
  {
   "cell_type": "code",
   "execution_count": 80,
   "metadata": {},
   "outputs": [],
   "source": [
    "import numpy as np\n",
    "import cv2 as cv\n",
    "\n",
    "im = cv.imread('Files/contours/input.jpeg')\n",
    "imgray = cv.cvtColor(im, cv.COLOR_BGR2GRAY)\n",
    "ret, thresh = cv.threshold(imgray, 127, 255, 0)\n",
    "inv = cv.bitwise_not(thresh)\n",
    "contours, hierarchy = cv.findContours(inv, cv.RETR_LIST, cv.CHAIN_APPROX_SIMPLE)\n",
    "#cv.fillPoly(im, contours, (0,255,0), lineType=cv.LINE_AA)\n",
    "\n",
    "for contour in contours:\n",
    "    if cv.contourArea(contour) < 600:\n",
    "        cv.drawContours(im, [contour], 0, (255,255,255), -1)\n",
    "        cv.drawContours(im, [contour], 0, (255,255,255), 5)\n",
    "\n",
    "    else:\n",
    "        cv.drawContours(im, [contour], 0, (0,0,0), -1)\n",
    "\n",
    "imgray = cv.cvtColor(im, cv.COLOR_BGR2GRAY)\n",
    "ret, thresh = cv.threshold(imgray, 127, 255, 0)\n",
    "inv = cv.bitwise_not(thresh)\n",
    "contours, hierarchy = cv.findContours(inv, cv.RETR_LIST, cv.CHAIN_APPROX_SIMPLE)\n",
    "\n",
    "cv.drawContours(im, contours, 0, (255,0,0), -1)\n",
    "cv.drawContours(im, contours, 1, (0,0,255), -1)\n",
    "\n",
    "cv.imshow(\"thresh\", im)\n",
    "cv.imwrite('Files/contours/output.jpeg', im)\n",
    "\n",
    "cv.waitKey(0) \n",
    "  \n",
    "cv.destroyAllWindows() "
   ]
  },
  {
   "cell_type": "code",
   "execution_count": null,
   "metadata": {},
   "outputs": [],
   "source": [
    "\n",
    "\n",
    "  "
   ]
  }
 ]
}
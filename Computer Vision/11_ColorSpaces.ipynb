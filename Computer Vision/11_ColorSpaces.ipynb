{
 "cells": [
  {
   "source": [
    "# Color spaces lab\n",
    "\n",
    "We need to get familier with colorspaces, channel slicing, and single channels changes.\n",
    "\n",
    "---\n",
    "\n",
    "## Task 1\n",
    "\n",
    "In the carkyo image use the HSV colorspace to:\n",
    "- Add 10 to all S channel values.\n",
    "- Subtract 5 from H channel.\n",
    "- Myltiply V channel by 1.25.\n",
    "- Save image again in BGR.\n",
    "- Describe the results in your words.\n",
    "  - What is the effect of each change?\n",
    "  - What problem did you face and how you fixed it?\n",
    "\n",
    "## Task 2\n",
    "\n",
    "- Create YCrCb image.\n",
    "- Multiply Y channel by 1.25 in YCrCb colorspace.\n",
    "- Describe the result.\n",
    "\n",
    "---\n",
    "\n",
    "## Grade\n",
    "\n",
    "- 15\n",
    "  - 10 for HSV task.\n",
    "  - 3 for YCrCb task.\n",
    "  - 2 for finishing within the lab time.\n",
    "\n",
    "---\n",
    "\n",
    "## Output should be like this:\n",
    "\n",
    "### HSV\n",
    "![Image](Files/output/hsv.png)\n",
    "\n",
    "### YCrCb\n",
    "![Image](Files/output/yCrCb.png)"
   ],
   "cell_type": "markdown",
   "metadata": {}
  },
  {
   "cell_type": "code",
   "execution_count": 15,
   "metadata": {},
   "outputs": [],
   "source": [
    "import cv2\n",
    "import numpy as np\n",
    "\n",
    "import matplotlib.pyplot as plt\n",
    "import matplotlib.colors\n",
    "\n",
    "# For displaying image inline in the notebook\n",
    "from PIL import Image\n"
   ]
  },
  {
   "cell_type": "code",
   "execution_count": 4,
   "metadata": {},
   "outputs": [],
   "source": [
    "\n",
    "img = cv2.imread('Files/001.jpg')\n",
    "\n",
    "HSV = cv2.cvtColor(img, cv2.COLOR_BGR2HSV)\n",
    "\n",
    "# at first an overflow happend specially at the v channel edit, then I limited all the channels to avoid overflow\n",
    "\n",
    "HSV[:,:,0] = np.maximum(HSV[:,:,0]  - 5 , 0)\n",
    "HSV[:,:,1] = np.minimum(HSV[:,:,1]  + 10 , 255)\n",
    "HSV[:,:,2] = np.minimum(HSV[:,:,2]  * 1.25, 255)\n",
    "\n",
    "new_bgr = cv2.cvtColor(HSV, cv2.COLOR_HSV2BGR)\n",
    "\n",
    "cv2.imshow(\"image\", new_bgr)\n",
    "cv2.imwrite('Files/hsv.jpg',new_bgr)\n",
    "#waits for user to press any key \n",
    "#(this is necessary to avoid Python kernel form crashing)\n",
    "cv2.waitKey(0) \n",
    "  \n",
    "#closing all open windows \n",
    "cv2.destroyAllWindows() "
   ]
  },
  {
   "cell_type": "code",
   "execution_count": 5,
   "metadata": {},
   "outputs": [],
   "source": [
    "\n",
    "img = cv2.imread('Files/001.jpg')\n",
    "\n",
    "y = cv2.cvtColor(img, cv2.COLOR_BGR2YCrCb)\n",
    "\n",
    "# at first an overflow happend specially at the v channel edit, then I limited all the channels to avoid overflow\n",
    "\n",
    "y[:,:,0] = np.minimum(y[:,:,0]  * 1.25, 255)\n",
    "\n",
    "new_bgr = cv2.cvtColor(y, cv2.COLOR_YCrCb2BGR)\n",
    "\n",
    "cv2.imshow(\"image\", new_bgr)\n",
    "cv2.imwrite('Files/y.jpg',new_bgr)\n",
    "#waits for user to press any key \n",
    "#(this is necessary to avoid Python kernel form crashing)\n",
    "cv2.waitKey(0) \n",
    "  \n",
    "#closing all open windows \n",
    "cv2.destroyAllWindows() "
   ]
  },
  {
   "cell_type": "code",
   "execution_count": null,
   "metadata": {},
   "outputs": [],
   "source": []
  }
 ],
 "metadata": {
  "kernelspec": {
   "name": "python385jvsc74a57bd0e42243f72fa198d5d7b499bc77ec7a85778f1261c8f7ca8e772194d316f1b31e",
   "display_name": "Python 3.8.5 64-bit ('base': conda)"
  },
  "language_info": {
   "codemirror_mode": {
    "name": "ipython",
    "version": 3
   },
   "file_extension": ".py",
   "mimetype": "text/x-python",
   "name": "python",
   "nbconvert_exporter": "python",
   "pygments_lexer": "ipython3",
   "version": "3.8.5"
  },
  "metadata": {
   "interpreter": {
    "hash": "e42243f72fa198d5d7b499bc77ec7a85778f1261c8f7ca8e772194d316f1b31e"
   }
  }
 },
 "nbformat": 4,
 "nbformat_minor": 5
}
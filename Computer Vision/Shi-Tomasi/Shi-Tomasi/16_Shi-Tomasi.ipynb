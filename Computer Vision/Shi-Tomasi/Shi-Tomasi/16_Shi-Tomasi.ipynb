{
 "metadata": {
  "language_info": {
   "codemirror_mode": {
    "name": "ipython",
    "version": 3
   },
   "file_extension": ".py",
   "mimetype": "text/x-python",
   "name": "python",
   "nbconvert_exporter": "python",
   "pygments_lexer": "ipython3",
   "version": 3
  },
  "orig_nbformat": 2
 },
 "nbformat": 4,
 "nbformat_minor": 2,
 "cells": [
  {
   "source": [
    "# Corner Dtection\n",
    "\n",
    "- Understand and Explore `Shi-Tomasi` corner detection.\n",
    "\n",
    "## Task\n",
    "\n",
    "- Create ROS Image Subscriber.\n",
    "- Get image using CV-Bridge.\n",
    "- Apply Shi-Tomasi corner detection on the image.\n",
    "- Draw output points on a black image.\n",
    "- Show both original and corners output image.\n",
    "\n",
    "## Grade\n",
    "- 12"
   ],
   "cell_type": "markdown",
   "metadata": {}
  },
  {
   "cell_type": "code",
   "execution_count": null,
   "metadata": {},
   "outputs": [],
   "source": []
  }
 ]
}
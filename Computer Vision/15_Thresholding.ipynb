{
 "cells": [
  {
   "source": [
    "# Thresholding lab\n",
    "\n",
    "## Goal\n",
    "\n",
    "In this lab we need to explore and threshold using colorspaces we learned in the first section of this module.\n",
    "\n",
    "Use whatever colorspace or channel you need to achieve a result as clear as you can throughout the whole video.\n",
    "\n",
    "You will find the video in 'Files/Threshold/Lanes.mp4'\n",
    "\n",
    "## Criteria\n",
    "\n",
    "- Output must be a video of binary frames.\n",
    "- Lanes must be as clear as you can.\n",
    "\n",
    "## Example\n",
    "\n",
    "### Input\n",
    "\n",
    "![Image](Files/Threshold/labInput.png)\n",
    "\n",
    "\n",
    "### Output\n",
    "\n",
    "![Image](Files/Threshold/labout.png)\n",
    "\n",
    "## Grade\n",
    "\n",
    "10"
   ],
   "cell_type": "markdown",
   "metadata": {}
  },
  {
   "cell_type": "code",
   "execution_count": 24,
   "metadata": {},
   "outputs": [],
   "source": [
    "def to_binary(img):\n",
    "    gray = cv2.cvtColor(img, cv2.COLOR_BGR2GRAY)\n",
    "    ret ,new = cv2.threshold(gray,180,255,cv2.THRESH_BINARY)\n",
    "    return np.array(new) "
   ]
  },
  {
   "cell_type": "code",
   "execution_count": 2,
   "metadata": {},
   "outputs": [],
   "source": [
    "def to_binary_hls(img ,  thresh=(0, 255)):\n",
    "    blur_image = cv2.GaussianBlur(img, (11,11),0)\n",
    "\n",
    "    hls = cv2.cvtColor(blur_image, cv2.COLOR_RGB2HLS)\n",
    "    H = hls[:,:,0]\n",
    "    L = hls[:,:,1]\n",
    "    S = hls[:,:,2]\n",
    "    \n",
    "    image = L\n",
    "\n",
    "    bottom_padding = 70 # Front bumper compensation\n",
    "    height = image.shape[0]\n",
    "    width = image.shape[1]\n",
    "    bottom_left = [0, height-bottom_padding]\n",
    "    bottom_right = [width, height-bottom_padding]\n",
    "    top_right = [width*1/2.5, height*1/2.8]\n",
    "    top_left = [width*2/3.5, height*1/2.8]\n",
    "    vertices = [np.array([bottom_left, bottom_right, top_left, top_right], dtype=np.int32)]\n",
    "    mask = np.zeros_like(image)  \n",
    "    cv2.fillPoly(mask, vertices, 255)\n",
    "    masked_image = cv2.bitwise_and(image, mask)\n",
    "\n",
    "    \n",
    "    ret ,new = cv2.threshold(masked_image,thresh[0],thresh[1],cv2.THRESH_BINARY)\n",
    "\n",
    "    return new"
   ]
  },
  {
   "cell_type": "code",
   "execution_count": 57,
   "metadata": {},
   "outputs": [],
   "source": []
  },
  {
   "cell_type": "code",
   "execution_count": 10,
   "metadata": {
    "tags": []
   },
   "outputs": [],
   "source": [
    "import numpy as np\n",
    "import cv2\n",
    "\n",
    "cap = cv2.VideoCapture('Files/Threshold/Lanes.mp4')\n",
    "ret =True\n",
    "size = (720, 1280)\n",
    "fourcc =  cv2.VideoWriter_fourcc(*'DIVX')\n",
    "out = cv2.VideoWriter('Files/Threshold/Lanes_out.avi',fourcc, 60, (size[1],size[0]))\n",
    "\n",
    "while(ret):\n",
    "    # Capture frame-by-frame\n",
    "    ret, frame = cap.read()\n",
    "    # Our operations on the frame come here\n",
    "    if ret :\n",
    "        new_img = to_binary_hls(frame ,  thresh=(180, 255))\n",
    "    # Display the resulting frame\n",
    "    cv2.imshow('frame',new_img)\n",
    "\n",
    "    vid_img = cv2.cvtColor(new_img, cv2.COLOR_GRAY2RGB)\n",
    "    if new_img.shape == (720, 1280) : out.write(vid_img)\n",
    "    else: print(new_img.shape)\n",
    "\n",
    "\n",
    "    if cv2.waitKey(1) & 0xFF == ord('q'):\n",
    "        break\n",
    "\n",
    "# When everything done, release the capture\n",
    "cap.release()\n",
    "cv2.destroyAllWindows()\n",
    "out.release()"
   ]
  },
  {
   "cell_type": "code",
   "execution_count": null,
   "metadata": {},
   "outputs": [],
   "source": []
  },
  {
   "cell_type": "code",
   "execution_count": null,
   "metadata": {},
   "outputs": [],
   "source": []
  }
 ],
 "metadata": {
  "kernelspec": {
   "name": "python385jvsc74a57bd0e42243f72fa198d5d7b499bc77ec7a85778f1261c8f7ca8e772194d316f1b31e",
   "display_name": "Python 3.8.5 64-bit ('base': conda)"
  },
  "language_info": {
   "codemirror_mode": {
    "name": "ipython",
    "version": 3
   },
   "file_extension": ".py",
   "mimetype": "text/x-python",
   "name": "python",
   "nbconvert_exporter": "python",
   "pygments_lexer": "ipython3",
   "version": "3.8.5"
  },
  "metadata": {
   "interpreter": {
    "hash": "e42243f72fa198d5d7b499bc77ec7a85778f1261c8f7ca8e772194d316f1b31e"
   }
  }
 },
 "nbformat": 4,
 "nbformat_minor": 5
}
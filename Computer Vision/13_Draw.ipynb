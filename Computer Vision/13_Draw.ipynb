{
 "cells": [
  {
   "source": [
    "# Draw with you mouse !\n",
    "\n",
    "---\n",
    "\n",
    "## Task\n",
    "\n",
    "We need to get familier with using mouse events in opencv.\n",
    "\n",
    "## Criteria\n",
    "\n",
    "Use 5 diffrent mouse events `with mouse click in the center except for the text` to draw:\n",
    "- 10*10 green square.\n",
    "- 20*10 red rectangle.\n",
    "- 15 in raduis solid blue circle.\n",
    "- half-circle arch in yellow.\n",
    "- Write your name as a text in any color.\n",
    "\n",
    "---\n",
    "\n",
    "## Grade\n",
    "\n",
    "- 10\n",
    "  - 8 for the correct answer.\n",
    "  - 2 for finishing before the end of the lab.\n",
    "\n",
    "---\n"
   ],
   "cell_type": "markdown",
   "metadata": {}
  },
  {
   "cell_type": "code",
   "execution_count": 1,
   "metadata": {},
   "outputs": [],
   "source": [
    "import numpy as np\n",
    "import cv2\n",
    "img = np.zeros([500,500,3],dtype=np.uint8)\n",
    "\n",
    "while True:\n",
    "    cv2.imshow('blank',img)\n",
    "    if cv2.waitKey(1) & 0xFF == ord('q'):\n",
    "        break\n",
    "  \n",
    "# closing all open windows\n",
    "cv2.destroyAllWindows()"
   ]
  },
  {
   "cell_type": "code",
   "execution_count": 3,
   "metadata": {},
   "outputs": [],
   "source": [
    "\n"
   ]
  },
  {
   "cell_type": "code",
   "execution_count": 4,
   "metadata": {},
   "outputs": [
    {
     "output_type": "stream",
     "name": "stdout",
     "text": [
      "['EVENT_FLAG_ALTKEY', 'EVENT_FLAG_CTRLKEY', 'EVENT_FLAG_LBUTTON', 'EVENT_FLAG_MBUTTON', 'EVENT_FLAG_RBUTTON', 'EVENT_FLAG_SHIFTKEY', 'EVENT_LBUTTONDBLCLK', 'EVENT_LBUTTONDOWN', 'EVENT_LBUTTONUP', 'EVENT_MBUTTONDBLCLK', 'EVENT_MBUTTONDOWN', 'EVENT_MBUTTONUP', 'EVENT_MOUSEHWHEEL', 'EVENT_MOUSEMOVE', 'EVENT_MOUSEWHEEL', 'EVENT_RBUTTONDBLCLK', 'EVENT_RBUTTONDOWN', 'EVENT_RBUTTONUP']\n"
     ]
    }
   ],
   "source": [
    "import cv2  \n",
    "mouse_events = [j for j in dir(cv2) if 'EVENT' in j]  \n",
    "print(mouse_events)  "
   ]
  },
  {
   "cell_type": "code",
   "execution_count": 12,
   "metadata": {},
   "outputs": [],
   "source": [
    "import cv2  \n",
    "import numpy as np  \n",
    "# Creating mouse callback function  \n",
    "def TEST(event,x,y,flags,param):  \n",
    "    if event != 0:\n",
    "        print(event)\n",
    "# Creating a black image, a window and bind the function to window  \n",
    "img = np.zeros((512,512,3), np.uint8)  \n",
    "cv2.namedWindow('image')  \n",
    "cv2.setMouseCallback('image',TEST)  \n",
    "while(1):  \n",
    "    cv2.imshow('image',img)  \n",
    "    if cv2.waitKey(1) & 0xFF == ord('q'):  \n",
    "        break  \n",
    "cv2.destroyAllWindows()  \n"
   ]
  },
  {
   "cell_type": "code",
   "execution_count": 17,
   "metadata": {},
   "outputs": [
    {
     "output_type": "stream",
     "name": "stdout",
     "text": [
      "5\n"
     ]
    }
   ],
   "source": [
    "#press   L 1 cv2.EVENT_LBUTTONDOWN\n",
    "#release L 4 cv2.EVENT_LBUTTONUP\n",
    "\n",
    "#press   R 2 cv2.EVENT_RBUTTONDOWN\n",
    "#release R 5 cv2.EVENT_RBUTTONUP\n",
    "\n",
    "#press   M 3 cv2.EVENT_MBUTTONDOWN\n",
    "#release M 6 cv2.EVENT_MBUTTONUP\n"
   ]
  },
  {
   "cell_type": "code",
   "execution_count": 25,
   "metadata": {},
   "outputs": [],
   "source": [
    "\n",
    "font                   = cv2.FONT_HERSHEY_SIMPLEX\n",
    "bottomLeftCornerOfText = (10,500)\n",
    "fontScale              = 1\n",
    "fontColor              = (255,255,255)\n",
    "lineType               = 2\n",
    "\n",
    "cv2.putText(img,'Hello World!', \n",
    "    (x,y), \n",
    "    cv2.FONT_HERSHEY_SIMPLEX, \n",
    "    1,\n",
    "    (255,255,255),\n",
    "    2)"
   ]
  },
  {
   "cell_type": "code",
   "execution_count": 31,
   "metadata": {},
   "outputs": [],
   "source": [
    "import cv2  \n",
    "import numpy as np  \n",
    "# Creating mouse callback function  \n",
    "def draw(event,x,y,flags,param):  \n",
    "    if(event == cv2.EVENT_LBUTTONDOWN):  \n",
    "        cv2.rectangle(img, (x,y), (x+15,y+15), (0,255, 0), -1)\n",
    "    elif (event == cv2.EVENT_LBUTTONUP): \n",
    "        cv2.rectangle(img, (x,y), (x+20,y+10), (0,0, 255), -1)\n",
    "    elif (event == cv2.EVENT_RBUTTONDOWN): \n",
    "        cv2.circle(img, (x,y), 15, (255,0, 0), -1)\n",
    "    elif (event == cv2.EVENT_RBUTTONUP): \n",
    "        cv2.ellipse(img,  (x,y), (15,15), 180, 180, 360, (0,255, 255), 3)\n",
    "    elif (event == cv2.EVENT_MBUTTONUP): \n",
    "\n",
    "        cv2.putText(img,'Salah', \n",
    "        (x,y), \n",
    "        cv2.FONT_HERSHEY_SIMPLEX, \n",
    "        1,\n",
    "        (255,255,255),\n",
    "        2)\n",
    "# Creating a black image, a window and bind the function to window  \n",
    "img = np.zeros((512,512,3), np.uint8)  \n",
    "cv2.namedWindow('image')  \n",
    "cv2.setMouseCallback('image',draw)  \n",
    "while(1):  \n",
    "    cv2.imshow('image',img)  \n",
    "    if cv2.waitKey(1) & 0xFF == ord('q'):  \n",
    "        break  \n",
    "cv2.destroyAllWindows()  "
   ]
  },
  {
   "cell_type": "code",
   "execution_count": null,
   "metadata": {},
   "outputs": [],
   "source": []
  }
 ],
 "metadata": {
  "kernelspec": {
   "name": "python385jvsc74a57bd0e42243f72fa198d5d7b499bc77ec7a85778f1261c8f7ca8e772194d316f1b31e",
   "display_name": "Python 3.8.5 64-bit ('base': conda)"
  },
  "language_info": {
   "codemirror_mode": {
    "name": "ipython",
    "version": 3
   },
   "file_extension": ".py",
   "mimetype": "text/x-python",
   "name": "python",
   "nbconvert_exporter": "python",
   "pygments_lexer": "ipython3",
   "version": "3.8.5"
  },
  "metadata": {
   "interpreter": {
    "hash": "e42243f72fa198d5d7b499bc77ec7a85778f1261c8f7ca8e772194d316f1b31e"
   }
  }
 },
 "nbformat": 4,
 "nbformat_minor": 5
}
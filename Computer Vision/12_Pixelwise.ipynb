{
 "metadata": {
  "language_info": {
   "codemirror_mode": {
    "name": "ipython",
    "version": 3
   },
   "file_extension": ".py",
   "mimetype": "text/x-python",
   "name": "python",
   "nbconvert_exporter": "python",
   "pygments_lexer": "ipython3",
   "version": "3.8.5"
  },
  "orig_nbformat": 2,
  "kernelspec": {
   "name": "python385jvsc74a57bd0e42243f72fa198d5d7b499bc77ec7a85778f1261c8f7ca8e772194d316f1b31e",
   "display_name": "Python 3.8.5 64-bit ('base': conda)"
  },
  "metadata": {
   "interpreter": {
    "hash": "e42243f72fa198d5d7b499bc77ec7a85778f1261c8f7ca8e772194d316f1b31e"
   }
  }
 },
 "nbformat": 4,
 "nbformat_minor": 2,
 "cells": [
  {
   "source": [
    "# Lighting again\n",
    "\n",
    "## Task\n",
    "\n",
    "In this lab we need to create a black image with one vertical and one horizontal lines that appear in random positions each frame with random color\n",
    "\n",
    "## Output should be like this\n",
    "![Video](Files/12_output.gif)\n",
    "\n",
    "## Criteria\n",
    "\n",
    "- Image width must be higher than height.\n",
    "- Image color must be black.\n",
    "- The 2 lines must:\n",
    "    - Have random color for each one.\n",
    "    - Appear independant of each other.\n",
    "\n",
    "## Grade\n",
    "10"
   ],
   "cell_type": "markdown",
   "metadata": {}
  },
  {
   "cell_type": "code",
   "execution_count": 2,
   "metadata": {},
   "outputs": [],
   "source": [
    "import numpy as np\n",
    "from matplotlib import pyplot as plt\n",
    "import random\n",
    "import cv2\n",
    "img = np.zeros((256,512,3), np.uint8)\n"
   ]
  },
  {
   "cell_type": "code",
   "execution_count": 8,
   "metadata": {
    "tags": []
   },
   "outputs": [],
   "source": [
    "while(1):\n",
    "        \n",
    "    r_pos = int(random.random() *255)\n",
    "    c_pos = int(random.random() *511)\n",
    "    r_color = int(random.random() *255)\n",
    "    c_color = int(random.random() *255)\n",
    "\n",
    "    r_r = int(random.random() *255)\n",
    "    g_r = int(random.random() *255)\n",
    "    b_r = int(random.random() *255)\n",
    "    r_c = int(random.random() *255)\n",
    "    g_c = int(random.random() *255)\n",
    "    b_c = int(random.random() *255)\n",
    "\n",
    "    img[r_pos, :] = (b_r,g_r,r_r)\n",
    "    img[:,c_pos] = (b_c,g_c,r_c)\n",
    "\n",
    "    cv2.imshow('Image', img) ;  \n",
    "    #plt.imshow(img, cmap='gray');\n",
    "    img[r_pos, :] = 0\n",
    "    img[:,c_pos] = 0\n",
    "    k = cv2.waitKey(200)\n",
    "    if k == ord('q'):\n",
    "        break\n",
    "\n",
    "\n",
    "cv2.destroyAllWindows()\n",
    "\n",
    "\n"
   ]
  },
  {
   "cell_type": "code",
   "execution_count": null,
   "metadata": {},
   "outputs": [],
   "source": []
  },
  {
   "cell_type": "code",
   "execution_count": null,
   "metadata": {},
   "outputs": [],
   "source": []
  }
 ]
}
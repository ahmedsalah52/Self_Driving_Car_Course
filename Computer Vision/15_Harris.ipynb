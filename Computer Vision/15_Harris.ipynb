{
 "metadata": {
  "language_info": {
   "codemirror_mode": {
    "name": "ipython",
    "version": 3
   },
   "file_extension": ".py",
   "mimetype": "text/x-python",
   "name": "python",
   "nbconvert_exporter": "python",
   "pygments_lexer": "ipython3",
   "version": "3.8.5"
  },
  "orig_nbformat": 2,
  "kernelspec": {
   "name": "python385jvsc74a57bd0e42243f72fa198d5d7b499bc77ec7a85778f1261c8f7ca8e772194d316f1b31e",
   "display_name": "Python 3.8.5 64-bit ('base': conda)"
  },
  "metadata": {
   "interpreter": {
    "hash": "e42243f72fa198d5d7b499bc77ec7a85778f1261c8f7ca8e772194d316f1b31e"
   }
  }
 },
 "nbformat": 4,
 "nbformat_minor": 2,
 "cells": [
  {
   "source": [
    "# Corner Dtection\n",
    "\n",
    "- Understand and Explore `Harris` corner detection.\n",
    "- Using OpenCV, apply it to all images in Chess folder.\n",
    "\n",
    "## Criteria\n",
    "\n",
    "- Detect as much chessboard corners as you can in all images.\n",
    "\n",
    "## Grade\n",
    "- 12"
   ],
   "cell_type": "markdown",
   "metadata": {}
  },
  {
   "cell_type": "code",
   "execution_count": 2,
   "metadata": {},
   "outputs": [
    {
     "output_type": "stream",
     "name": "stdout",
     "text": [
      "7\n"
     ]
    }
   ],
   "source": [
    "# load input images\n",
    "import glob \n",
    "import numpy as np\n",
    "import cv2 as cv\n",
    "import timeit\n",
    "\n",
    "images =[]\n",
    "for img in glob.glob('Files/Chess/inputs/*'):\n",
    "    images.append(cv.imread(img))\n",
    "\n",
    "print(len(images))"
   ]
  },
  {
   "cell_type": "code",
   "execution_count": 3,
   "metadata": {},
   "outputs": [],
   "source": [
    "#manually resize images\n",
    "def nothing(x):\n",
    "    pass\n",
    "\n",
    "cv.namedWindow('output')\n",
    "cv.createTrackbar('img_num', 'output', 0, len(images)-1, nothing)\n",
    "\n",
    "cv.createTrackbar('x', 'output', 0, 5000, nothing)\n",
    "cv.createTrackbar('y', 'output', 0, 5000, nothing)\n",
    "cv.createTrackbar('h', 'output', 100, 5000, nothing)\n",
    "cv.createTrackbar('w', 'output', 100, 5000, nothing)\n",
    "cv.createTrackbar('save', 'output', 0, 1, nothing)\n",
    "\n",
    "while(1):\n",
    "    num = cv.getTrackbarPos('img_num', 'output')\n",
    "    x = cv.getTrackbarPos('x', 'output')\n",
    "    y = cv.getTrackbarPos('y', 'output')\n",
    "    h = cv.getTrackbarPos('h', 'output')\n",
    "    w = cv.getTrackbarPos('w', 'output')\n",
    "    save = cv.getTrackbarPos('save','output')\n",
    "   \n",
    "\n",
    "    img = images[num]\n",
    "    \n",
    "    crop_img = img[y:y+h, x:x+w]\n",
    "    cv.imshow(\"output\", crop_img)\n",
    "\n",
    "    if save == 1:\n",
    "        cv.imwrite('Files/Chess/pre/'+'img '+str(num)+'.png',crop_img)\n",
    "    k = cv.waitKey(1) & 0xFF\n",
    "    if k == 27:\n",
    "        break\n",
    "\n",
    "cv.destroyAllWindows()\n"
   ]
  },
  {
   "cell_type": "code",
   "execution_count": 4,
   "metadata": {},
   "outputs": [],
   "source": [
    "#load resized images\n",
    "images =[]\n",
    "for img in glob.glob('Files/Chess/pre/*'):\n",
    "    images.append(cv.imread(img))\n"
   ]
  },
  {
   "cell_type": "code",
   "execution_count": 6,
   "metadata": {},
   "outputs": [
    {
     "output_type": "stream",
     "name": "stdout",
     "text": [
      "[0.006728249999923719, 0.0028720209998027713, 0.004082312999798887, 0.002760702000159654, 0.008629919999748381, 0.030079326000304718, 0.003232237000247551]\n"
     ]
    }
   ],
   "source": [
    "#apply harris \n",
    "def nothing(x):\n",
    "    pass\n",
    "time = [0,0,0,0,0,0,0]\n",
    "cv.namedWindow('output')\n",
    "cv.createTrackbar('img_num', 'output', 0, len(images)-1, nothing)\n",
    "\n",
    "cv.createTrackbar('blockSize', 'output', 1, 10, nothing)\n",
    "cv.createTrackbar('ksize', 'output', 1, 10, nothing)\n",
    "cv.createTrackbar('K', 'output', 1, 100, nothing)\n",
    "cv.createTrackbar('thres', 'output', 0, 1000, nothing)\n",
    "cv.createTrackbar('save', 'output', 0, 1, nothing)\n",
    "\n",
    "while(1):\n",
    "    num = cv.getTrackbarPos('img_num', 'output')\n",
    "    blockSize = cv.getTrackbarPos('blockSize', 'output')\n",
    "    ksize = cv.getTrackbarPos('ksize', 'output')\n",
    "    k = cv.getTrackbarPos('K', 'output')\n",
    "    thres = cv.getTrackbarPos('thres', 'output')\n",
    "    save = cv.getTrackbarPos('save','output')\n",
    "   \n",
    "\n",
    "    start = timeit.default_timer()\n",
    "\n",
    "    img = images[num]\n",
    "    width = 600\n",
    "    height = int((width * img.shape[0])/ img.shape[1])\n",
    "    dim = (width, height)\n",
    "    img = cv.resize(img, dim, interpolation = cv.INTER_AREA)\n",
    "\n",
    "    gray = cv.cvtColor(img,cv.COLOR_BGR2GRAY)\n",
    "    if ksize%2 == 0:\n",
    "        ksize +=1\n",
    "    if blockSize == 0:\n",
    "        blockSize =1\n",
    "    dst = cv.cornerHarris(gray,blockSize,ksize,0.01*k)\n",
    "    #result is dilated for marking the corners, not important\n",
    "    dst = cv.dilate(dst,None)\n",
    "    # Threshold for an optimal value, it may vary depending on the image.\n",
    "    img[dst>0.001*thres*dst.max()]=[0,0,255]\n",
    "    cv.imshow('output',img)\n",
    "    stop = timeit.default_timer()\n",
    "    if save == 1:\n",
    "        #print('Time: ', stop - start ,' for image number: ',num)\n",
    "        time[num]  =  stop - start\n",
    "        cv.imwrite('Files/Chess/output2/'+'output '+str(num)+'.png',img)\n",
    "        #print('save')\n",
    "    k = cv.waitKey(1) & 0xFF\n",
    "    if k == 27:\n",
    "        break\n",
    "\n",
    "cv.destroyAllWindows()\n",
    "print(time)"
   ]
  },
  {
   "cell_type": "code",
   "execution_count": null,
   "metadata": {},
   "outputs": [],
   "source": []
  }
 ]
}
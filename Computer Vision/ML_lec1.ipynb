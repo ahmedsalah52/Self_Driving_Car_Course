{
 "metadata": {
  "language_info": {
   "codemirror_mode": {
    "name": "ipython",
    "version": 3
   },
   "file_extension": ".py",
   "mimetype": "text/x-python",
   "name": "python",
   "nbconvert_exporter": "python",
   "pygments_lexer": "ipython3",
   "version": "3.8.10"
  },
  "orig_nbformat": 4,
  "kernelspec": {
   "name": "python3",
   "display_name": "Python 3.8.10 64-bit ('tracking-gpu8': conda)"
  },
  "interpreter": {
   "hash": "1cece3d157a3d6da7fe84be21b48f6ecdb0c40d8e8868f99b0884e143c57a1f9"
  }
 },
 "nbformat": 4,
 "nbformat_minor": 2,
 "cells": [
  {
   "cell_type": "code",
   "execution_count": 1,
   "metadata": {},
   "outputs": [],
   "source": [
    "import tensorflow as tf\n",
    "import numpy as np"
   ]
  },
  {
   "cell_type": "code",
   "execution_count": null,
   "metadata": {},
   "outputs": [],
   "source": [
    "c = np.array([-40,-10,0,8,15,22,38],dtype = float)\n",
    "f = np.array([-40,14,32,46,59,72,100],dtype = float)\n",
    "\n"
   ]
  }
 ]
}
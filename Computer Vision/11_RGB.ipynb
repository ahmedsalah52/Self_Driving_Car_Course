{
 "metadata": {
  "language_info": {
   "codemirror_mode": {
    "name": "ipython",
    "version": 3
   },
   "file_extension": ".py",
   "mimetype": "text/x-python",
   "name": "python",
   "nbconvert_exporter": "python",
   "pygments_lexer": "ipython3",
   "version": "3.8.5"
  },
  "orig_nbformat": 2,
  "kernelspec": {
   "name": "python385jvsc74a57bd0e42243f72fa198d5d7b499bc77ec7a85778f1261c8f7ca8e772194d316f1b31e",
   "display_name": "Python 3.8.5 64-bit ('base': conda)"
  },
  "metadata": {
   "interpreter": {
    "hash": "e42243f72fa198d5d7b499bc77ec7a85778f1261c8f7ca8e772194d316f1b31e"
   }
  }
 },
 "nbformat": 4,
 "nbformat_minor": 2,
 "cells": [
  {
   "source": [
    "# Playing around\n",
    "\n",
    "## Task\n",
    "\n",
    "Write a script to generate this random colors video for 10 seconds.\n",
    "\n",
    "## Output\n",
    "\n",
    "![this video](Files/11_output.gif)\n",
    "\n",
    "## Criteria\n",
    "- Must use opencv for saving the video.\n",
    "- Colors must be random in the three (R, G, and B) channels.\n",
    "- View video frames while the code is running.\n",
    "\n",
    "## Grade\n",
    "10"
   ],
   "cell_type": "markdown",
   "metadata": {}
  },
  {
   "cell_type": "code",
   "execution_count": 6,
   "metadata": {},
   "outputs": [],
   "source": [
    "import cv2\n",
    "import numpy as np\n",
    "from matplotlib import pyplot as plt\n",
    "import random\n",
    "import time"
   ]
  },
  {
   "cell_type": "code",
   "execution_count": 7,
   "metadata": {},
   "outputs": [],
   "source": [
    "def generate_frame(rows,cols):\n",
    "    img = np.zeros((rows, cols, 3), np.uint8)\n",
    "    r = random.random() *255\n",
    "    g = random.random() *255\n",
    "    b = random.random() *255\n",
    "    img[:] = [b,g,r]\n",
    "    return img\n",
    "    "
   ]
  },
  {
   "cell_type": "code",
   "execution_count": 10,
   "metadata": {},
   "outputs": [],
   "source": [
    "#create a video\n",
    "\n",
    "img_array = []\n",
    "size = (480, 640)\n",
    "fourcc =  cv2.VideoWriter_fourcc(*'DIVX')\n",
    "out = cv2.VideoWriter('project1.avi',fourcc, 10, size)\n",
    "img_array = []\n",
    "for i in range(110):\n",
    "    img =  generate_frame(size[0],size[1])\n",
    "    cv2.imshow('Image', img)\n",
    "    out.write(img)\n",
    "    cv2.waitKey(1)\n",
    "    \n",
    "cv2.destroyAllWindows()\n",
    "out.release()"
   ]
  },
  {
   "cell_type": "code",
   "execution_count": null,
   "metadata": {},
   "outputs": [],
   "source": []
  }
 ]
}
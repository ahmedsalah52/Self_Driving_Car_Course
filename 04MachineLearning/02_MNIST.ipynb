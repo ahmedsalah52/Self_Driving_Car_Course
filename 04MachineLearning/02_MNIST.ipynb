{
  "cells": [
    {
      "cell_type": "markdown",
      "metadata": {
        "colab_type": "text",
        "id": "punL79CN7Ox6"
      },
      "source": [
        "##### Copyright 2018 The TensorFlow Authors."
      ]
    },
    {
      "cell_type": "code",
      "execution_count": 3,
      "metadata": {
        "cellView": "form",
        "colab": {},
        "colab_type": "code",
        "id": "_ckMIh7O7s6D"
      },
      "outputs": [],
      "source": [
        "#@title Licensed under the Apache License, Version 2.0 (the \"License\");\n",
        "# you may not use this file except in compliance with the License.\n",
        "# You may obtain a copy of the License at\n",
        "#\n",
        "# https://www.apache.org/licenses/LICENSE-2.0\n",
        "#\n",
        "# Unless required by applicable law or agreed to in writing, software\n",
        "# distributed under the License is distributed on an \"AS IS\" BASIS,\n",
        "# WITHOUT WARRANTIES OR CONDITIONS OF ANY KIND, either express or implied.\n",
        "# See the License for the specific language governing permissions and\n",
        "# limitations under the License."
      ]
    },
    {
      "cell_type": "code",
      "execution_count": 4,
      "metadata": {
        "cellView": "form",
        "colab": {},
        "colab_type": "code",
        "id": "vasWnqRgy1H4"
      },
      "outputs": [],
      "source": [
        "#@title MIT License\n",
        "#\n",
        "# Copyright (c) 2017 François Chollet\n",
        "#\n",
        "# Permission is hereby granted, free of charge, to any person obtaining a\n",
        "# copy of this software and associated documentation files (the \"Software\"),\n",
        "# to deal in the Software without restriction, including without limitation\n",
        "# the rights to use, copy, modify, merge, publish, distribute, sublicense,\n",
        "# and/or sell copies of the Software, and to permit persons to whom the\n",
        "# Software is furnished to do so, subject to the following conditions:\n",
        "#\n",
        "# The above copyright notice and this permission notice shall be included in\n",
        "# all copies or substantial portions of the Software.\n",
        "#\n",
        "# THE SOFTWARE IS PROVIDED \"AS IS\", WITHOUT WARRANTY OF ANY KIND, EXPRESS OR\n",
        "# IMPLIED, INCLUDING BUT NOT LIMITED TO THE WARRANTIES OF MERCHANTABILITY,\n",
        "# FITNESS FOR A PARTICULAR PURPOSE AND NONINFRINGEMENT. IN NO EVENT SHALL\n",
        "# THE AUTHORS OR COPYRIGHT HOLDERS BE LIABLE FOR ANY CLAIM, DAMAGES OR OTHER\n",
        "# LIABILITY, WHETHER IN AN ACTION OF CONTRACT, TORT OR OTHERWISE, ARISING\n",
        "# FROM, OUT OF OR IN CONNECTION WITH THE SOFTWARE OR THE USE OR OTHER\n",
        "# DEALINGS IN THE SOFTWARE."
      ]
    },
    {
      "cell_type": "markdown",
      "metadata": {
        "colab_type": "text",
        "id": "jYysdyb-CaWM"
      },
      "source": [
        "# Classifying Images of Clothing"
      ]
    },
    {
      "cell_type": "markdown",
      "metadata": {
        "colab_type": "text",
        "id": "S5Uhzt6vVIB2"
      },
      "source": [
        "<table class=\"tfo-notebook-buttons\" align=\"left\">\n",
        "  <td>\n",
        "    <a target=\"_blank\" href=\"https://colab.research.google.com/github/tensorflow/examples/blob/master/courses/udacity_intro_to_tensorflow_for_deep_learning/l03c01_classifying_images_of_clothing.ipynb\"><img src=\"https://www.tensorflow.org/images/colab_logo_32px.png\" />Run in Google Colab</a>\n",
        "  </td>\n",
        "  <td>\n",
        "    <a target=\"_blank\" href=\"https://github.com/tensorflow/examples/blob/master/courses/udacity_intro_to_tensorflow_for_deep_learning/l03c01_classifying_images_of_clothing.ipynb\"><img src=\"https://www.tensorflow.org/images/GitHub-Mark-32px.png\" />View source on GitHub</a>\n",
        "  </td>\n",
        "</table>"
      ]
    },
    {
      "cell_type": "markdown",
      "metadata": {
        "colab_type": "text",
        "id": "FbVhjPpzn6BM"
      },
      "source": [
        "In this tutorial, we'll build and train a neural network to classify images of clothing, like sneakers and shirts.\n",
        "\n",
        "It's okay if you don't understand everything. This is a fast-paced overview of a complete TensorFlow program, with explanations along the way. The goal is to get the general sense of a TensorFlow project, not to catch every detail.\n",
        "\n",
        "This guide uses [tf.keras](https://www.tensorflow.org/guide/keras), a high-level API to build and train models in TensorFlow."
      ]
    },
    {
      "cell_type": "markdown",
      "metadata": {
        "colab_type": "text",
        "id": "H0tMfX2vR0uD"
      },
      "source": [
        "## Install and import dependencies\n",
        "\n",
        "We'll need [TensorFlow Datasets](https://www.tensorflow.org/datasets/), an API that simplifies downloading and accessing datasets, and provides several sample datasets to work with. We're also using a few helper libraries."
      ]
    },
    {
      "cell_type": "code",
      "execution_count": 5,
      "metadata": {
        "colab": {},
        "colab_type": "code",
        "id": "P7mUJVqcINSM"
      },
      "outputs": [
        {
          "output_type": "stream",
          "name": "stdout",
          "text": [
            "Requirement already satisfied: tensorflow_datasets in /home/ahmed/anaconda3/envs/tracking-gpu8/lib/python3.8/site-packages (4.3.0)\n",
            "Requirement already satisfied: promise in /home/ahmed/anaconda3/envs/tracking-gpu8/lib/python3.8/site-packages (from tensorflow_datasets) (2.3)\n",
            "Requirement already satisfied: termcolor in /home/ahmed/.local/lib/python3.8/site-packages (from tensorflow_datasets) (1.1.0)\n",
            "Requirement already satisfied: future in /home/ahmed/anaconda3/envs/tracking-gpu8/lib/python3.8/site-packages (from tensorflow_datasets) (0.18.2)\n",
            "Requirement already satisfied: numpy in /home/ahmed/anaconda3/envs/tracking-gpu8/lib/python3.8/site-packages (from tensorflow_datasets) (1.19.5)\n",
            "Requirement already satisfied: tqdm in /home/ahmed/.local/lib/python3.8/site-packages (from tensorflow_datasets) (4.61.0)\n",
            "Requirement already satisfied: absl-py in /home/ahmed/.local/lib/python3.8/site-packages (from tensorflow_datasets) (0.12.0)\n",
            "Requirement already satisfied: dill in /home/ahmed/anaconda3/envs/tracking-gpu8/lib/python3.8/site-packages (from tensorflow_datasets) (0.3.4)\n",
            "Requirement already satisfied: requests>=2.19.0 in /home/ahmed/anaconda3/envs/tracking-gpu8/lib/python3.8/site-packages (from tensorflow_datasets) (2.25.1)\n",
            "Requirement already satisfied: tensorflow-metadata in /home/ahmed/anaconda3/envs/tracking-gpu8/lib/python3.8/site-packages (from tensorflow_datasets) (1.0.0)\n",
            "Requirement already satisfied: attrs>=18.1.0 in /home/ahmed/anaconda3/envs/tracking-gpu8/lib/python3.8/site-packages (from tensorflow_datasets) (21.2.0)\n",
            "Requirement already satisfied: importlib-resources in /home/ahmed/anaconda3/envs/tracking-gpu8/lib/python3.8/site-packages (from tensorflow_datasets) (5.1.4)\n",
            "Requirement already satisfied: protobuf>=3.12.2 in /home/ahmed/.local/lib/python3.8/site-packages (from tensorflow_datasets) (3.17.2)\n",
            "Requirement already satisfied: six in /home/ahmed/anaconda3/envs/tracking-gpu8/lib/python3.8/site-packages (from tensorflow_datasets) (1.15.0)\n",
            "Requirement already satisfied: idna<3,>=2.5 in /home/ahmed/anaconda3/envs/tracking-gpu8/lib/python3.8/site-packages (from requests>=2.19.0->tensorflow_datasets) (2.10)\n",
            "Requirement already satisfied: chardet<5,>=3.0.2 in /home/ahmed/anaconda3/envs/tracking-gpu8/lib/python3.8/site-packages (from requests>=2.19.0->tensorflow_datasets) (4.0.0)\n",
            "Requirement already satisfied: urllib3<1.27,>=1.21.1 in /home/ahmed/anaconda3/envs/tracking-gpu8/lib/python3.8/site-packages (from requests>=2.19.0->tensorflow_datasets) (1.26.5)\n",
            "Requirement already satisfied: certifi>=2017.4.17 in /home/ahmed/anaconda3/envs/tracking-gpu8/lib/python3.8/site-packages (from requests>=2.19.0->tensorflow_datasets) (2021.5.30)\n",
            "Requirement already satisfied: zipp>=3.1.0 in /home/ahmed/anaconda3/envs/tracking-gpu8/lib/python3.8/site-packages (from importlib-resources->tensorflow_datasets) (3.4.1)\n",
            "Requirement already satisfied: googleapis-common-protos<2,>=1.52.0 in /home/ahmed/anaconda3/envs/tracking-gpu8/lib/python3.8/site-packages (from tensorflow-metadata->tensorflow_datasets) (1.53.0)\n"
          ]
        }
      ],
      "source": [
        "!pip install -U tensorflow_datasets"
      ]
    },
    {
      "cell_type": "code",
      "execution_count": 6,
      "metadata": {
        "colab": {},
        "colab_type": "code",
        "id": "_FxXYSCXGQqQ"
      },
      "outputs": [
        {
          "output_type": "stream",
          "name": "stderr",
          "text": [
            "WARNING:root:Limited tf.compat.v2.summary API due to missing TensorBoard installation.\n",
            "WARNING:root:Limited tf.compat.v2.summary API due to missing TensorBoard installation.\n",
            "WARNING:root:Limited tf.compat.v2.summary API due to missing TensorBoard installation.\n",
            "WARNING:root:Limited tf.summary API due to missing TensorBoard installation.\n"
          ]
        }
      ],
      "source": [
        "from tensorflow.keras.callbacks import ModelCheckpoint ,EarlyStopping\n",
        "\n",
        "import tensorflow as tf\n",
        "\n"
      ]
    },
    {
      "cell_type": "code",
      "execution_count": 7,
      "metadata": {
        "colab": {},
        "colab_type": "code",
        "id": "1UbK0Uq7GWaO"
      },
      "outputs": [
        {
          "output_type": "stream",
          "name": "stderr",
          "text": [
            "WARNING:root:Limited tf.compat.v2.summary API due to missing TensorBoard installation.\n",
            "WARNING:root:Limited tf.compat.v2.summary API due to missing TensorBoard installation.\n",
            "WARNING:root:Limited tf.compat.v2.summary API due to missing TensorBoard installation.\n"
          ]
        }
      ],
      "source": [
        "# Import TensorFlow Datasets\n",
        "import tensorflow_datasets as tfds\n",
        "tfds.disable_progress_bar()\n",
        "\n",
        "# Helper libraries\n",
        "import math\n",
        "import numpy as np\n",
        "import matplotlib.pyplot as plt"
      ]
    },
    {
      "cell_type": "code",
      "execution_count": 8,
      "metadata": {
        "colab": {},
        "colab_type": "code",
        "id": "590z76KRGtKk"
      },
      "outputs": [],
      "source": [
        "import logging\n",
        "logger = tf.get_logger()\n",
        "logger.setLevel(logging.ERROR)"
      ]
    },
    {
      "cell_type": "markdown",
      "metadata": {
        "colab_type": "text",
        "id": "yR0EdgrLCaWR"
      },
      "source": [
        "## Import the Fashion MNIST dataset"
      ]
    },
    {
      "cell_type": "markdown",
      "metadata": {
        "colab_type": "text",
        "id": "DLdCchMdCaWQ"
      },
      "source": [
        "This guide uses the [Fashion MNIST](https://github.com/zalandoresearch/fashion-mnist) dataset, which contains 70,000 grayscale images in 10 categories. The images show individual articles of clothing at low resolution (28 $\\times$ 28 pixels), as seen here:\n",
        "\n",
        "<table>\n",
        "  <tr><td>\n",
        "    <img src=\"https://tensorflow.org/images/fashion-mnist-sprite.png\"\n",
        "         alt=\"Fashion MNIST sprite\" width=\"600\">\n",
        "  </td></tr>\n",
        "  <tr><td align=\"center\">\n",
        "    <b>Figure 1.</b> <a href=\"https://github.com/zalandoresearch/fashion-mnist\">Fashion-MNIST samples</a> (by Zalando, MIT License).<br/>&nbsp;\n",
        "  </td></tr>\n",
        "</table>\n",
        "\n",
        "Fashion MNIST is intended as a drop-in replacement for the classic [MNIST](http://yann.lecun.com/exdb/mnist/) dataset—often used as the \"Hello, World\" of machine learning programs for computer vision. The MNIST dataset contains images of handwritten digits (0, 1, 2, etc) in an identical format to the articles of clothing we'll use here.\n",
        "\n",
        "This guide uses Fashion MNIST for variety, and because it's a slightly more challenging problem than regular MNIST. Both datasets are relatively small and are used to verify that an algorithm works as expected. They're good starting points to test and debug code.\n",
        "\n",
        "We will use 60,000 images to train the network and 10,000 images to evaluate how accurately the network learned to classify images. You can access the Fashion MNIST directly from TensorFlow, using the [Datasets](https://www.tensorflow.org/datasets) API:"
      ]
    },
    {
      "cell_type": "code",
      "execution_count": 9,
      "metadata": {
        "colab": {},
        "colab_type": "code",
        "id": "7MqDQO0KCaWS"
      },
      "outputs": [],
      "source": [
        "dataset, metadata = tfds.load('fashion_mnist', as_supervised=True, with_info=True)\n",
        "train_dataset, test_dataset = dataset['train'], dataset['test']"
      ]
    },
    {
      "cell_type": "markdown",
      "metadata": {
        "colab_type": "text",
        "id": "t9FDsUlxCaWW"
      },
      "source": [
        "Loading the dataset returns metadata as well as a *training dataset* and *test dataset*.\n",
        "\n",
        "* The model is trained using `train_dataset`.\n",
        "* The model is tested against `test_dataset`.\n",
        "\n",
        "The images are 28 $\\times$ 28 arrays, with pixel values in the range `[0, 255]`. The *labels* are an array of integers, in the range `[0, 9]`. These correspond to the *class* of clothing the image represents:\n",
        "\n",
        "<table>\n",
        "  <tr>\n",
        "    <th>Label</th>\n",
        "    <th>Class</th>\n",
        "  </tr>\n",
        "  <tr>\n",
        "    <td>0</td>\n",
        "    <td>T-shirt/top</td>\n",
        "  </tr>\n",
        "  <tr>\n",
        "    <td>1</td>\n",
        "    <td>Trouser</td>\n",
        "  </tr>\n",
        "    <tr>\n",
        "    <td>2</td>\n",
        "    <td>Pullover</td>\n",
        "  </tr>\n",
        "    <tr>\n",
        "    <td>3</td>\n",
        "    <td>Dress</td>\n",
        "  </tr>\n",
        "    <tr>\n",
        "    <td>4</td>\n",
        "    <td>Coat</td>\n",
        "  </tr>\n",
        "    <tr>\n",
        "    <td>5</td>\n",
        "    <td>Sandal</td>\n",
        "  </tr>\n",
        "    <tr>\n",
        "    <td>6</td>\n",
        "    <td>Shirt</td>\n",
        "  </tr>\n",
        "    <tr>\n",
        "    <td>7</td>\n",
        "    <td>Sneaker</td>\n",
        "  </tr>\n",
        "    <tr>\n",
        "    <td>8</td>\n",
        "    <td>Bag</td>\n",
        "  </tr>\n",
        "    <tr>\n",
        "    <td>9</td>\n",
        "    <td>Ankle boot</td>\n",
        "  </tr>\n",
        "</table>\n",
        "\n",
        "Each image is mapped to a single label. Since the *class names* are not included with the dataset, store them here to use later when plotting the images:"
      ]
    },
    {
      "cell_type": "code",
      "execution_count": 10,
      "metadata": {
        "colab": {},
        "colab_type": "code",
        "id": "IjnLH5S2CaWx"
      },
      "outputs": [],
      "source": [
        "class_names = ['T-shirt/top', 'Trouser', 'Pullover', 'Dress', 'Coat',\n",
        "               'Sandal',      'Shirt',   'Sneaker',  'Bag',   'Ankle boot']"
      ]
    },
    {
      "cell_type": "markdown",
      "metadata": {
        "colab_type": "text",
        "id": "Brm0b_KACaWX"
      },
      "source": [
        "### Explore the data\n",
        "\n",
        "Let's explore the format of the dataset before training the model. The following shows there are 60,000 images in the training set, and 10000 images in the test set:"
      ]
    },
    {
      "cell_type": "code",
      "execution_count": 11,
      "metadata": {
        "colab": {},
        "colab_type": "code",
        "id": "MaOTZxFzi48X"
      },
      "outputs": [
        {
          "output_type": "stream",
          "name": "stdout",
          "text": [
            "Number of training examples: 60000\nNumber of test examples:     10000\n"
          ]
        }
      ],
      "source": [
        "num_train_examples = metadata.splits['train'].num_examples\n",
        "\n",
        "num_test_examples = metadata.splits['test'].num_examples\n",
        "print(\"Number of training examples: {}\".format(num_train_examples))\n",
        "print(\"Number of test examples:     {}\".format(num_test_examples))"
      ]
    },
    {
      "cell_type": "markdown",
      "metadata": {
        "colab_type": "text",
        "id": "ES6uQoLKCaWr"
      },
      "source": [
        "## Preprocess the data\n",
        "\n",
        "The value of each pixel in the image data is an integer in the range `[0,255]`. For the model to work properly, these values need to be normalized to the range `[0,1]`. So here we create a normalization function, and then apply it to each image in the test and train datasets."
      ]
    },
    {
      "cell_type": "code",
      "execution_count": 12,
      "metadata": {
        "colab": {},
        "colab_type": "code",
        "id": "nAsH3Zm-76pB"
      },
      "outputs": [],
      "source": [
        "def normalize(images, labels):\n",
        "  images = tf.cast(images, tf.float32)\n",
        "  images /= 255\n",
        "  return images, labels\n",
        "\n",
        "# The map function applies the normalize function to each element in the train\n",
        "# and test datasets\n",
        "train_dataset =  train_dataset.map(normalize)\n",
        "test_dataset  =  test_dataset.map(normalize)\n",
        "\n",
        "# The first time you use the dataset, the images will be loaded from disk\n",
        "# Caching will keep them in memory, making training faster\n",
        "train_dataset =  train_dataset.cache()\n",
        "test_dataset  =  test_dataset.cache()"
      ]
    },
    {
      "cell_type": "markdown",
      "metadata": {
        "colab_type": "text",
        "id": "lIQbEiJGXM-q"
      },
      "source": [
        "### Explore the processed data\n",
        "\n",
        "Let's plot an image to see what it looks like."
      ]
    },
    {
      "cell_type": "code",
      "execution_count": 13,
      "metadata": {
        "colab": {},
        "colab_type": "code",
        "id": "oSzE9l7PjHx0"
      },
      "outputs": [
        {
          "output_type": "display_data",
          "data": {
            "text/plain": "<Figure size 432x288 with 2 Axes>",
            "image/png": "[encoded data removed]"
          },
          "metadata": {
            "needs_background": "light"
          }
        }
      ],
      "source": [
        "# Take a single image, and remove the color dimension by reshaping\n",
        "for image, label in test_dataset.take(1):\n",
        "  break\n",
        "image = image.numpy().reshape((28,28))\n",
        "\n",
        "# Plot the image - voila a piece of fashion clothing\n",
        "plt.figure()\n",
        "plt.imshow(image, cmap=plt.cm.binary)\n",
        "plt.colorbar()\n",
        "plt.grid(False)\n",
        "plt.show()"
      ]
    },
    {
      "cell_type": "markdown",
      "metadata": {
        "colab_type": "text",
        "id": "Ee638AlnCaWz"
      },
      "source": [
        "Display the first 25 images from the *training set* and display the class name below each image. Verify that the data is in the correct format and we're ready to build and train the network."
      ]
    },
    {
      "cell_type": "code",
      "execution_count": 14,
      "metadata": {
        "colab": {},
        "colab_type": "code",
        "id": "oZTImqg_CaW1"
      },
      "outputs": [
        {
          "output_type": "display_data",
          "data": {
            "text/plain": "<Figure size 720x720 with 25 Axes>",
            "image/png": "[encoded data removed]"
          },
          "metadata": {}
        }
      ],
      "source": [
        "plt.figure(figsize=(10,10))\n",
        "i = 0\n",
        "for (image, label) in test_dataset.take(25):\n",
        "    image = image.numpy().reshape((28,28))\n",
        "    plt.subplot(5,5,i+1)\n",
        "    plt.xticks([])\n",
        "    plt.yticks([])\n",
        "    plt.grid(False)\n",
        "    plt.imshow(image, cmap=plt.cm.binary)\n",
        "    plt.xlabel(class_names[label])\n",
        "    i += 1\n",
        "plt.show()"
      ]
    },
    {
      "cell_type": "markdown",
      "metadata": {
        "colab_type": "text",
        "id": "59veuiEZCaW4"
      },
      "source": [
        "## Build the model\n",
        "\n",
        "Building the neural network requires configuring the layers of the model, then compiling the model."
      ]
    },
    {
      "cell_type": "markdown",
      "metadata": {
        "colab_type": "text",
        "id": "Gxg1XGm0eOBy"
      },
      "source": [
        "### Setup the layers\n",
        "\n",
        "The basic building block of a neural network is the *layer*. A layer extracts a representation from the data fed into it. Hopefully, a series of connected layers results in a representation that is meaningful for the problem at hand.\n",
        "\n",
        "Much of deep learning consists of chaining together simple layers. Most layers, like `tf.keras.layers.Dense`, have internal parameters which are adjusted (\"learned\") during training."
      ]
    },
    {
      "cell_type": "code",
      "execution_count": 15,
      "metadata": {
        "colab": {},
        "colab_type": "code",
        "id": "9ODch-OFCaW4"
      },
      "outputs": [],
      "source": [
        "model = tf.keras.Sequential()\n",
        "model.add(tf.keras.layers.Flatten(input_shape=(28, 28, 1)))\n",
        "model.add(tf.keras.layers.Dense(512, activation=tf.nn.relu))\n",
        "model.add(tf.keras.layers.Dense(256, activation=tf.nn.relu))\n",
        "model.add(tf.keras.layers.Dense(128, activation=tf.nn.relu))\n",
        "model.add(tf.keras.layers.Dense(64, activation=tf.nn.relu))\n",
        "model.add(tf.keras.layers.Dense(32, activation=tf.nn.relu))\n",
        "model.add(tf.keras.layers.Dense(10))\n",
        "#model.add(tf.keras.layers.Softmax())\n",
        "\n",
        " "
      ]
    },
    {
      "cell_type": "markdown",
      "metadata": {
        "colab_type": "text",
        "id": "gut8A_7rCaW6"
      },
      "source": [
        "This network has three layers:\n",
        "\n",
        "* **input** `tf.keras.layers.Flatten` — This layer transforms the images from a 2d-array of 28 $\\times$ 28 pixels, to a 1d-array of 784 pixels (28\\*28). Think of this layer as unstacking rows of pixels in the image and lining them up. This layer has no parameters to learn, as it only reformats the data.\n",
        "\n",
        "* **\"hidden\"** `tf.keras.layers.Dense`— A densely connected layer of 128 neurons. Each neuron (or node) takes input from all 784 nodes in the previous layer, weighting that input according to hidden parameters which will be learned during training, and outputs a single value to the next layer.\n",
        "\n",
        "* **output** `tf.keras.layers.Dense` — A 10-node layer, with each node representing a class of clothing. As in the previous layer, each node takes input from the 128 nodes in the layer before it. Each node weights the input according to learned parameters and outputs a *logit*. A logit is the log-odds that the model assigns to a class. A logit can be converted to a probability using the `tf.nn.softmax` function.\n",
        "\n",
        "\n",
        "### Compile the model\n",
        "\n",
        "Before the model is ready for training, it needs a few more settings. These are added during the model's *compile* step:\n",
        "\n",
        "\n",
        "* *Loss function* — An algorithm for measuring how far the model's outputs are from the desired output. The goal of training is this measures loss.\n",
        "* *Optimizer* —An algorithm for adjusting the inner parameters of the model in order to minimize loss.\n",
        "* *Metrics* —Used to monitor the training and testing steps. The following example uses *accuracy*, the fraction of the images that are correctly classified."
      ]
    },
    {
      "cell_type": "code",
      "execution_count": 16,
      "metadata": {
        "colab": {},
        "colab_type": "code",
        "id": "Lhan11blCaW7"
      },
      "outputs": [],
      "source": [
        "model.compile(optimizer=tf.keras.optimizers.Adam(0.0001),\n",
        "              loss=tf.keras.losses.SparseCategoricalCrossentropy(from_logits=True),\n",
        "              metrics=['accuracy'])"
      ]
    },
    {
      "cell_type": "markdown",
      "metadata": {
        "colab_type": "text",
        "id": "qKF6uW-BCaW-"
      },
      "source": [
        "## Train the model\n",
        "\n",
        "First, we define the iteration behavior for the train dataset:\n",
        "1. Repeat forever by specifying `dataset.repeat()` (the `epochs` parameter described below limits how long we perform training).\n",
        "2. The `dataset.shuffle(60000)` randomizes the order so our model cannot learn anything from the order of the examples.\n",
        "3. And `dataset.batch(32)` tells `model.fit` to use batches of 32 images and labels when updating the model variables.\n",
        "\n",
        "Training is performed by calling the `model.fit` method:\n",
        "1. Feed the training data to the model using `train_dataset`.\n",
        "2. The model learns to associate images and labels.\n",
        "3. The `epochs=5` parameter limits training to 5 full iterations of the training dataset, so a total of 5 * 60000 = 300000 examples.\n",
        "\n",
        "(Don't worry about `steps_per_epoch`, the requirement to have this flag will soon be removed.)"
      ]
    },
    {
      "cell_type": "code",
      "execution_count": null,
      "metadata": {},
      "outputs": [],
      "source": []
    },
    {
      "cell_type": "code",
      "execution_count": 17,
      "metadata": {
        "colab": {},
        "colab_type": "code",
        "id": "o_Dp8971McQ1"
      },
      "outputs": [],
      "source": [
        "BATCH_SIZE = 32\n",
        "train_dataset = train_dataset.cache().repeat().shuffle(num_train_examples).batch(BATCH_SIZE)\n",
        "test_dataset = test_dataset.cache().batch(BATCH_SIZE)"
      ]
    },
    {
      "cell_type": "code",
      "execution_count": 14,
      "metadata": {
        "colab": {},
        "colab_type": "code",
        "id": "xvwvpA64CaW_"
      },
      "outputs": [
        {
          "output_type": "stream",
          "name": "stdout",
          "text": [
            "Epoch 1/50\n",
            "1875/1875 [==============================] - 3s 1ms/step - loss: 0.5967 - accuracy: 0.8026\n",
            "Epoch 2/50\n",
            "1875/1875 [==============================] - 3s 1ms/step - loss: 0.4024 - accuracy: 0.8591\n",
            "Epoch 3/50\n",
            "1875/1875 [==============================] - 3s 1ms/step - loss: 0.3557 - accuracy: 0.8722\n",
            "Epoch 4/50\n",
            "1875/1875 [==============================] - 3s 1ms/step - loss: 0.3244 - accuracy: 0.8828\n",
            "Epoch 5/50\n",
            "1875/1875 [==============================] - 3s 1ms/step - loss: 0.2967 - accuracy: 0.8918\n",
            "Epoch 6/50\n",
            "1875/1875 [==============================] - 3s 1ms/step - loss: 0.2874 - accuracy: 0.8946\n",
            "Epoch 7/50\n",
            "1875/1875 [==============================] - 3s 1ms/step - loss: 0.2665 - accuracy: 0.9018\n",
            "Epoch 8/50\n",
            "1875/1875 [==============================] - 3s 1ms/step - loss: 0.2573 - accuracy: 0.9043\n",
            "Epoch 9/50\n",
            "1875/1875 [==============================] - 3s 1ms/step - loss: 0.2455 - accuracy: 0.9089\n",
            "Epoch 10/50\n",
            "1875/1875 [==============================] - 3s 1ms/step - loss: 0.2312 - accuracy: 0.9157\n",
            "Epoch 11/50\n",
            "1875/1875 [==============================] - 3s 1ms/step - loss: 0.2193 - accuracy: 0.9197\n",
            "Epoch 12/50\n",
            "1875/1875 [==============================] - 2s 1ms/step - loss: 0.2103 - accuracy: 0.9225\n",
            "Epoch 13/50\n",
            "1875/1875 [==============================] - 2s 1ms/step - loss: 0.1996 - accuracy: 0.9255\n",
            "Epoch 14/50\n",
            "1875/1875 [==============================] - 3s 1ms/step - loss: 0.1946 - accuracy: 0.9286\n",
            "Epoch 15/50\n",
            "1875/1875 [==============================] - 3s 1ms/step - loss: 0.1871 - accuracy: 0.9311\n",
            "Epoch 16/50\n",
            "1875/1875 [==============================] - 3s 1ms/step - loss: 0.1795 - accuracy: 0.9325\n",
            "Epoch 17/50\n",
            "1875/1875 [==============================] - 3s 1ms/step - loss: 0.1688 - accuracy: 0.9368\n",
            "Epoch 18/50\n",
            "1875/1875 [==============================] - 3s 1ms/step - loss: 0.1637 - accuracy: 0.9384\n",
            "Epoch 19/50\n",
            "1875/1875 [==============================] - 3s 1ms/step - loss: 0.1544 - accuracy: 0.9429\n",
            "Epoch 20/50\n",
            "1875/1875 [==============================] - 3s 1ms/step - loss: 0.1473 - accuracy: 0.9455\n",
            "Epoch 21/50\n",
            "1875/1875 [==============================] - 3s 1ms/step - loss: 0.1412 - accuracy: 0.9479\n",
            "Epoch 22/50\n",
            "1875/1875 [==============================] - 3s 1ms/step - loss: 0.1390 - accuracy: 0.9482\n",
            "Epoch 23/50\n",
            "1875/1875 [==============================] - 3s 1ms/step - loss: 0.1304 - accuracy: 0.9518\n",
            "Epoch 24/50\n",
            "1875/1875 [==============================] - 3s 1ms/step - loss: 0.1210 - accuracy: 0.9549\n",
            "Epoch 25/50\n",
            "1875/1875 [==============================] - 2s 1ms/step - loss: 0.1214 - accuracy: 0.9552\n",
            "Epoch 26/50\n",
            "1875/1875 [==============================] - 2s 1ms/step - loss: 0.1151 - accuracy: 0.9563\n",
            "Epoch 27/50\n",
            "1875/1875 [==============================] - 2s 1ms/step - loss: 0.1052 - accuracy: 0.9610\n",
            "Epoch 28/50\n",
            "1875/1875 [==============================] - 3s 1ms/step - loss: 0.1069 - accuracy: 0.9599\n",
            "Epoch 29/50\n",
            "1875/1875 [==============================] - 3s 1ms/step - loss: 0.1004 - accuracy: 0.9632\n",
            "Epoch 30/50\n",
            "1875/1875 [==============================] - 3s 1ms/step - loss: 0.0959 - accuracy: 0.9643\n",
            "Epoch 31/50\n",
            "1875/1875 [==============================] - 3s 1ms/step - loss: 0.0924 - accuracy: 0.9653\n",
            "Epoch 32/50\n",
            "1875/1875 [==============================] - 3s 1ms/step - loss: 0.0879 - accuracy: 0.9678\n",
            "Epoch 33/50\n",
            "1875/1875 [==============================] - 3s 1ms/step - loss: 0.0840 - accuracy: 0.9682\n",
            "Epoch 34/50\n",
            "1875/1875 [==============================] - 3s 1ms/step - loss: 0.0814 - accuracy: 0.9705\n",
            "Epoch 35/50\n",
            "1875/1875 [==============================] - 3s 1ms/step - loss: 0.0771 - accuracy: 0.9713\n",
            "Epoch 36/50\n",
            "1875/1875 [==============================] - 3s 1ms/step - loss: 0.0785 - accuracy: 0.9703\n",
            "Epoch 37/50\n",
            "1875/1875 [==============================] - 3s 1ms/step - loss: 0.0703 - accuracy: 0.9738\n",
            "Epoch 38/50\n",
            "1875/1875 [==============================] - 3s 1ms/step - loss: 0.0692 - accuracy: 0.9739\n",
            "Epoch 39/50\n",
            "1875/1875 [==============================] - 3s 1ms/step - loss: 0.0666 - accuracy: 0.9755\n",
            "Epoch 40/50\n",
            "1875/1875 [==============================] - 3s 1ms/step - loss: 0.0648 - accuracy: 0.9761\n",
            "Epoch 41/50\n",
            "1875/1875 [==============================] - 3s 1ms/step - loss: 0.0660 - accuracy: 0.9755\n",
            "Epoch 42/50\n",
            "1875/1875 [==============================] - 3s 1ms/step - loss: 0.0608 - accuracy: 0.9769\n",
            "Epoch 43/50\n",
            "1875/1875 [==============================] - 3s 1ms/step - loss: 0.0588 - accuracy: 0.9781\n",
            "Epoch 44/50\n",
            "1875/1875 [==============================] - 3s 1ms/step - loss: 0.0572 - accuracy: 0.9789\n",
            "Epoch 45/50\n",
            "1875/1875 [==============================] - 3s 1ms/step - loss: 0.0563 - accuracy: 0.9790\n",
            "Epoch 46/50\n",
            "1875/1875 [==============================] - 2s 1ms/step - loss: 0.0530 - accuracy: 0.9805\n",
            "Epoch 47/50\n",
            "1875/1875 [==============================] - 2s 1ms/step - loss: 0.0525 - accuracy: 0.9807\n",
            "Epoch 48/50\n",
            "1875/1875 [==============================] - 2s 1ms/step - loss: 0.0520 - accuracy: 0.9804\n",
            "Epoch 49/50\n",
            "1875/1875 [==============================] - 2s 1ms/step - loss: 0.0496 - accuracy: 0.9818\n",
            "Epoch 50/50\n",
            "1875/1875 [==============================] - 3s 1ms/step - loss: 0.0486 - accuracy: 0.9814\n"
          ]
        },
        {
          "output_type": "execute_result",
          "data": {
            "text/plain": [
              "<tensorflow.python.keras.callbacks.History at 0x7f2d7c71f7c0>"
            ]
          },
          "metadata": {},
          "execution_count": 14
        }
      ],
      "source": [
        "model.fit(train_dataset, epochs=50, steps_per_epoch=math.ceil(num_train_examples/BATCH_SIZE))"
      ]
    },
    {
      "cell_type": "code",
      "execution_count": 16,
      "metadata": {},
      "outputs": [],
      "source": [
        "model.save('model89.h5')\n"
      ]
    },
    {
      "cell_type": "code",
      "execution_count": 19,
      "metadata": {},
      "outputs": [],
      "source": [
        "from numba import cuda \n",
        "\n",
        "device = cuda.get_current_device()\n",
        "device.reset()"
      ]
    },
    {
      "cell_type": "markdown",
      "metadata": {
        "colab_type": "text",
        "id": "W3ZVOhugCaXA"
      },
      "source": [
        "As the model trains, the loss and accuracy metrics are displayed. This model reaches an accuracy of about 0.88 (or 88%) on the training data."
      ]
    },
    {
      "cell_type": "code",
      "execution_count": 18,
      "metadata": {
        "tags": [
          "outputPrepend"
        ]
      },
      "outputs": [
        {
          "output_type": "stream",
          "name": "stdout",
          "text": [
            "acy: 0.8714\n",
            "Epoch 3/1000\n",
            "5990/6000 [============================>.] - ETA: 0s - loss: 0.2540 - accuracy: 0.9067\n",
            "Epoch 00003: val_accuracy improved from 0.87140 to 0.88670, saving model to best_model.h5\n",
            "6000/6000 [==============================] - 9s 1ms/step - loss: 0.2540 - accuracy: 0.9067 - val_loss: 0.3195 - val_accuracy: 0.8867\n",
            "Epoch 4/1000\n",
            "6000/6000 [==============================] - ETA: 0s - loss: 0.2174 - accuracy: 0.9186\n",
            "Epoch 00004: val_accuracy improved from 0.88670 to 0.88690, saving model to best_model.h5\n",
            "6000/6000 [==============================] - 8s 1ms/step - loss: 0.2174 - accuracy: 0.9186 - val_loss: 0.3330 - val_accuracy: 0.8869\n",
            "Epoch 5/1000\n",
            "5970/6000 [============================>.] - ETA: 0s - loss: 0.1899 - accuracy: 0.9294\n",
            "Epoch 00005: val_accuracy improved from 0.88690 to 0.88940, saving model to best_model.h5\n",
            "6000/6000 [==============================] - 9s 1ms/step - loss: 0.1897 - accuracy: 0.9295 - val_loss: 0.3480 - val_accuracy: 0.8894\n",
            "Epoch 6/1000\n",
            "5993/6000 [============================>.] - ETA: 0s - loss: 0.1653 - accuracy: 0.9379\n",
            "Epoch 00006: val_accuracy improved from 0.88940 to 0.89600, saving model to best_model.h5\n",
            "6000/6000 [==============================] - 9s 1ms/step - loss: 0.1653 - accuracy: 0.9379 - val_loss: 0.3246 - val_accuracy: 0.8960\n",
            "Epoch 7/1000\n",
            "5980/6000 [============================>.] - ETA: 0s - loss: 0.1442 - accuracy: 0.9462\n",
            "Epoch 00007: val_accuracy improved from 0.89600 to 0.89810, saving model to best_model.h5\n",
            "6000/6000 [==============================] - 9s 2ms/step - loss: 0.1441 - accuracy: 0.9463 - val_loss: 0.3439 - val_accuracy: 0.8981\n",
            "Epoch 8/1000\n",
            "5993/6000 [============================>.] - ETA: 0s - loss: 0.1257 - accuracy: 0.9532\n",
            "Epoch 00008: val_accuracy did not improve from 0.89810\n",
            "6000/6000 [==============================] - 9s 1ms/step - loss: 0.1257 - accuracy: 0.9532 - val_loss: 0.3757 - val_accuracy: 0.8920\n",
            "Epoch 9/1000\n",
            "5963/6000 [============================>.] - ETA: 0s - loss: 0.1098 - accuracy: 0.9588\n",
            "Epoch 00009: val_accuracy did not improve from 0.89810\n",
            "6000/6000 [==============================] - 8s 1ms/step - loss: 0.1097 - accuracy: 0.9588 - val_loss: 0.3982 - val_accuracy: 0.8936\n",
            "Epoch 10/1000\n",
            "5991/6000 [============================>.] - ETA: 0s - loss: 0.0973 - accuracy: 0.9642\n",
            "Epoch 00010: val_accuracy did not improve from 0.89810\n",
            "6000/6000 [==============================] - 8s 1ms/step - loss: 0.0973 - accuracy: 0.9642 - val_loss: 0.4253 - val_accuracy: 0.8955\n",
            "Epoch 11/1000\n",
            "5987/6000 [============================>.] - ETA: 0s - loss: 0.0858 - accuracy: 0.9679\n",
            "Epoch 00011: val_accuracy did not improve from 0.89810\n",
            "6000/6000 [==============================] - 8s 1ms/step - loss: 0.0858 - accuracy: 0.9679 - val_loss: 0.4265 - val_accuracy: 0.8954\n",
            "Epoch 12/1000\n",
            "5976/6000 [============================>.] - ETA: 0s - loss: 0.0771 - accuracy: 0.9707\n",
            "Epoch 00012: val_accuracy did not improve from 0.89810\n",
            "6000/6000 [==============================] - 8s 1ms/step - loss: 0.0771 - accuracy: 0.9707 - val_loss: 0.4549 - val_accuracy: 0.8954\n",
            "Epoch 13/1000\n",
            "5971/6000 [============================>.] - ETA: 0s - loss: 0.0681 - accuracy: 0.9747\n",
            "Epoch 00013: val_accuracy did not improve from 0.89810\n",
            "6000/6000 [==============================] - 8s 1ms/step - loss: 0.0680 - accuracy: 0.9747 - val_loss: 0.4997 - val_accuracy: 0.8958\n",
            "Epoch 14/1000\n",
            "5986/6000 [============================>.] - ETA: 0s - loss: 0.0624 - accuracy: 0.9766\n",
            "Epoch 00014: val_accuracy did not improve from 0.89810\n",
            "6000/6000 [==============================] - 8s 1ms/step - loss: 0.0623 - accuracy: 0.9767 - val_loss: 0.5246 - val_accuracy: 0.8962\n",
            "Epoch 15/1000\n",
            "5965/6000 [============================>.] - ETA: 0s - loss: 0.0568 - accuracy: 0.9785\n",
            "Epoch 00015: val_accuracy did not improve from 0.89810\n",
            "6000/6000 [==============================] - 8s 1ms/step - loss: 0.0567 - accuracy: 0.9786 - val_loss: 0.5234 - val_accuracy: 0.8950\n",
            "Epoch 16/1000\n",
            "5979/6000 [============================>.] - ETA: 0s - loss: 0.0507 - accuracy: 0.9811\n",
            "Epoch 00016: val_accuracy did not improve from 0.89810\n",
            "6000/6000 [==============================] - 8s 1ms/step - loss: 0.0506 - accuracy: 0.9811 - val_loss: 0.6194 - val_accuracy: 0.8970\n",
            "Epoch 17/1000\n",
            "5971/6000 [============================>.] - ETA: 0s - loss: 0.0476 - accuracy: 0.9820\n",
            "Epoch 00017: val_accuracy improved from 0.89810 to 0.89930, saving model to best_model.h5\n",
            "6000/6000 [==============================] - 8s 1ms/step - loss: 0.0475 - accuracy: 0.9820 - val_loss: 0.5719 - val_accuracy: 0.8993\n",
            "Epoch 18/1000\n",
            "5999/6000 [============================>.] - ETA: 0s - loss: 0.0437 - accuracy: 0.9837\n",
            "Epoch 00018: val_accuracy did not improve from 0.89930\n",
            "6000/6000 [==============================] - 8s 1ms/step - loss: 0.0437 - accuracy: 0.9837 - val_loss: 0.5838 - val_accuracy: 0.8957\n",
            "Epoch 19/1000\n",
            "5991/6000 [============================>.] - ETA: 0s - loss: 0.0413 - accuracy: 0.9847\n",
            "Epoch 00019: val_accuracy did not improve from 0.89930\n",
            "6000/6000 [==============================] - 8s 1ms/step - loss: 0.0412 - accuracy: 0.9847 - val_loss: 0.5811 - val_accuracy: 0.8986\n",
            "Epoch 20/1000\n",
            "5983/6000 [============================>.] - ETA: 0s - loss: 0.0381 - accuracy: 0.9860\n",
            "Epoch 00020: val_accuracy did not improve from 0.89930\n",
            "6000/6000 [==============================] - 8s 1ms/step - loss: 0.0382 - accuracy: 0.9860 - val_loss: 0.5998 - val_accuracy: 0.8979\n",
            "Epoch 21/1000\n",
            "5997/6000 [============================>.] - ETA: 0s - loss: 0.0361 - accuracy: 0.9866\n",
            "Epoch 00021: val_accuracy did not improve from 0.89930\n",
            "6000/6000 [==============================] - 8s 1ms/step - loss: 0.0361 - accuracy: 0.9866 - val_loss: 0.6884 - val_accuracy: 0.8945\n",
            "Epoch 22/1000\n",
            "5986/6000 [============================>.] - ETA: 0s - loss: 0.0327 - accuracy: 0.9882\n",
            "Epoch 00022: val_accuracy did not improve from 0.89930\n",
            "6000/6000 [==============================] - 8s 1ms/step - loss: 0.0327 - accuracy: 0.9882 - val_loss: 0.6371 - val_accuracy: 0.8967\n",
            "Epoch 23/1000\n",
            "5988/6000 [============================>.] - ETA: 0s - loss: 0.0319 - accuracy: 0.9887\n",
            "Epoch 00023: val_accuracy did not improve from 0.89930\n",
            "6000/6000 [==============================] - 8s 1ms/step - loss: 0.0319 - accuracy: 0.9886 - val_loss: 0.7082 - val_accuracy: 0.8932\n",
            "Epoch 24/1000\n",
            "5969/6000 [============================>.] - ETA: 0s - loss: 0.0296 - accuracy: 0.9891\n",
            "Epoch 00024: val_accuracy did not improve from 0.89930\n",
            "6000/6000 [==============================] - 8s 1ms/step - loss: 0.0298 - accuracy: 0.9891 - val_loss: 0.6822 - val_accuracy: 0.8974\n",
            "Epoch 25/1000\n",
            "5966/6000 [============================>.] - ETA: 0s - loss: 0.0295 - accuracy: 0.9893\n",
            "Epoch 00025: val_accuracy did not improve from 0.89930\n",
            "6000/6000 [==============================] - 8s 1ms/step - loss: 0.0295 - accuracy: 0.9893 - val_loss: 0.6886 - val_accuracy: 0.8953\n",
            "Epoch 26/1000\n",
            "5979/6000 [============================>.] - ETA: 0s - loss: 0.0269 - accuracy: 0.9903\n",
            "Epoch 00026: val_accuracy improved from 0.89930 to 0.89960, saving model to best_model.h5\n",
            "6000/6000 [==============================] - 8s 1ms/step - loss: 0.0268 - accuracy: 0.9903 - val_loss: 0.7127 - val_accuracy: 0.8996\n",
            "Epoch 27/1000\n",
            "5982/6000 [============================>.] - ETA: 0s - loss: 0.0269 - accuracy: 0.9904\n",
            "Epoch 00027: val_accuracy did not improve from 0.89960\n",
            "6000/6000 [==============================] - 8s 1ms/step - loss: 0.0268 - accuracy: 0.9904 - val_loss: 0.7201 - val_accuracy: 0.8965\n",
            "Epoch 28/1000\n",
            "5998/6000 [============================>.] - ETA: 0s - loss: 0.0249 - accuracy: 0.9910\n",
            "Epoch 00028: val_accuracy did not improve from 0.89960\n",
            "6000/6000 [==============================] - 8s 1ms/step - loss: 0.0249 - accuracy: 0.9910 - val_loss: 0.7086 - val_accuracy: 0.8954\n",
            "Epoch 29/1000\n",
            "5984/6000 [============================>.] - ETA: 0s - loss: 0.0244 - accuracy: 0.9912\n",
            "Epoch 00029: val_accuracy did not improve from 0.89960\n",
            "6000/6000 [==============================] - 8s 1ms/step - loss: 0.0244 - accuracy: 0.9912 - val_loss: 0.6969 - val_accuracy: 0.8984\n",
            "Epoch 30/1000\n",
            "5988/6000 [============================>.] - ETA: 0s - loss: 0.0237 - accuracy: 0.9916\n",
            "Epoch 00030: val_accuracy did not improve from 0.89960\n",
            "6000/6000 [==============================] - 9s 1ms/step - loss: 0.0238 - accuracy: 0.9916 - val_loss: 0.7835 - val_accuracy: 0.8966\n",
            "Epoch 31/1000\n",
            "5967/6000 [============================>.] - ETA: 0s - loss: 0.0223 - accuracy: 0.9922\n",
            "Epoch 00031: val_accuracy did not improve from 0.89960\n",
            "6000/6000 [==============================] - 8s 1ms/step - loss: 0.0223 - accuracy: 0.9922 - val_loss: 0.7963 - val_accuracy: 0.8958\n",
            "Epoch 32/1000\n",
            "5992/6000 [============================>.] - ETA: 0s - loss: 0.0216 - accuracy: 0.9924\n",
            "Epoch 00032: val_accuracy did not improve from 0.89960\n",
            "6000/6000 [==============================] - 9s 1ms/step - loss: 0.0216 - accuracy: 0.9924 - val_loss: 0.7604 - val_accuracy: 0.8987\n",
            "Epoch 33/1000\n",
            "5970/6000 [============================>.] - ETA: 0s - loss: 0.0200 - accuracy: 0.9928\n",
            "Epoch 00033: val_accuracy did not improve from 0.89960\n",
            "6000/6000 [==============================] - 9s 1ms/step - loss: 0.0199 - accuracy: 0.9928 - val_loss: 0.8192 - val_accuracy: 0.8955\n",
            "Epoch 34/1000\n",
            "5973/6000 [============================>.] - ETA: 0s - loss: 0.0203 - accuracy: 0.9929\n",
            "Epoch 00034: val_accuracy did not improve from 0.89960\n",
            "6000/6000 [==============================] - 8s 1ms/step - loss: 0.0204 - accuracy: 0.9929 - val_loss: 0.7881 - val_accuracy: 0.8945\n",
            "Epoch 35/1000\n",
            "5989/6000 [============================>.] - ETA: 0s - loss: 0.0196 - accuracy: 0.9931\n",
            "Epoch 00035: val_accuracy improved from 0.89960 to 0.90110, saving model to best_model.h5\n",
            "6000/6000 [==============================] - 9s 1ms/step - loss: 0.0196 - accuracy: 0.9932 - val_loss: 0.7927 - val_accuracy: 0.9011\n",
            "Epoch 36/1000\n",
            "5986/6000 [============================>.] - ETA: 0s - loss: 0.0186 - accuracy: 0.9935\n",
            "Epoch 00036: val_accuracy did not improve from 0.90110\n",
            "6000/6000 [==============================] - 9s 1ms/step - loss: 0.0187 - accuracy: 0.9935 - val_loss: 0.8207 - val_accuracy: 0.8934\n",
            "Epoch 37/1000\n",
            "5983/6000 [============================>.] - ETA: 0s - loss: 0.0176 - accuracy: 0.9940\n",
            "Epoch 00037: val_accuracy did not improve from 0.90110\n",
            "6000/6000 [==============================] - 9s 1ms/step - loss: 0.0176 - accuracy: 0.9940 - val_loss: 0.8106 - val_accuracy: 0.8941\n",
            "Epoch 38/1000\n",
            "5990/6000 [============================>.] - ETA: 0s - loss: 0.0181 - accuracy: 0.9938\n",
            "Epoch 00038: val_accuracy did not improve from 0.90110\n",
            "6000/6000 [==============================] - 9s 1ms/step - loss: 0.0181 - accuracy: 0.9938 - val_loss: 0.7773 - val_accuracy: 0.8972\n",
            "Epoch 39/1000\n",
            "6000/6000 [==============================] - ETA: 0s - loss: 0.0171 - accuracy: 0.9942\n",
            "Epoch 00039: val_accuracy did not improve from 0.90110\n",
            "6000/6000 [==============================] - 9s 1ms/step - loss: 0.0171 - accuracy: 0.9942 - val_loss: 0.8356 - val_accuracy: 0.8977\n",
            "Epoch 40/1000\n",
            "5998/6000 [============================>.] - ETA: 0s - loss: 0.0165 - accuracy: 0.9944\n",
            "Epoch 00040: val_accuracy improved from 0.90110 to 0.90230, saving model to best_model.h5\n",
            "6000/6000 [==============================] - 8s 1ms/step - loss: 0.0165 - accuracy: 0.9944 - val_loss: 0.8337 - val_accuracy: 0.9023\n",
            "Epoch 41/1000\n",
            "5974/6000 [============================>.] - ETA: 0s - loss: 0.0158 - accuracy: 0.9946\n",
            "Epoch 00041: val_accuracy did not improve from 0.90230\n",
            "6000/6000 [==============================] - 8s 1ms/step - loss: 0.0158 - accuracy: 0.9946 - val_loss: 0.8801 - val_accuracy: 0.8960\n",
            "Epoch 42/1000\n",
            "5964/6000 [============================>.] - ETA: 0s - loss: 0.0168 - accuracy: 0.9945\n",
            "Epoch 00042: val_accuracy did not improve from 0.90230\n",
            "6000/6000 [==============================] - 8s 1ms/step - loss: 0.0168 - accuracy: 0.9945 - val_loss: 0.9741 - val_accuracy: 0.8910\n",
            "Epoch 43/1000\n",
            "5986/6000 [============================>.] - ETA: 0s - loss: 0.0151 - accuracy: 0.9950\n",
            "Epoch 00043: val_accuracy did not improve from 0.90230\n",
            "6000/6000 [==============================] - 8s 1ms/step - loss: 0.0151 - accuracy: 0.9950 - val_loss: 0.8832 - val_accuracy: 0.8936\n",
            "Epoch 44/1000\n",
            "5984/6000 [============================>.] - ETA: 0s - loss: 0.0150 - accuracy: 0.9948\n",
            "Epoch 00044: val_accuracy did not improve from 0.90230\n",
            "6000/6000 [==============================] - 8s 1ms/step - loss: 0.0150 - accuracy: 0.9948 - val_loss: 0.8326 - val_accuracy: 0.8995\n",
            "Epoch 45/1000\n",
            "5993/6000 [============================>.] - ETA: 0s - loss: 0.0147 - accuracy: 0.9951\n",
            "Epoch 00045: val_accuracy did not improve from 0.90230\n",
            "6000/6000 [==============================] - 8s 1ms/step - loss: 0.0147 - accuracy: 0.9951 - val_loss: 0.8722 - val_accuracy: 0.8931\n",
            "Epoch 46/1000\n",
            "5975/6000 [============================>.] - ETA: 0s - loss: 0.0149 - accuracy: 0.9952\n",
            "Epoch 00046: val_accuracy did not improve from 0.90230\n",
            "6000/6000 [==============================] - 8s 1ms/step - loss: 0.0148 - accuracy: 0.9952 - val_loss: 0.8634 - val_accuracy: 0.8997\n",
            "Epoch 47/1000\n",
            "5990/6000 [============================>.] - ETA: 0s - loss: 0.0133 - accuracy: 0.9956\n",
            "Epoch 00047: val_accuracy did not improve from 0.90230\n",
            "6000/6000 [==============================] - 8s 1ms/step - loss: 0.0134 - accuracy: 0.9956 - val_loss: 0.8971 - val_accuracy: 0.8883\n",
            "Epoch 48/1000\n",
            "5985/6000 [============================>.] - ETA: 0s - loss: 0.0133 - accuracy: 0.9955\n",
            "Epoch 00048: val_accuracy did not improve from 0.90230\n",
            "6000/6000 [==============================] - 8s 1ms/step - loss: 0.0133 - accuracy: 0.9955 - val_loss: 0.8980 - val_accuracy: 0.8933\n",
            "Epoch 49/1000\n",
            "5989/6000 [============================>.] - ETA: 0s - loss: 0.0156 - accuracy: 0.9951\n",
            "Epoch 00049: val_accuracy did not improve from 0.90230\n",
            "6000/6000 [==============================] - 8s 1ms/step - loss: 0.0156 - accuracy: 0.9950 - val_loss: 0.8689 - val_accuracy: 0.8971\n",
            "Epoch 50/1000\n",
            "5976/6000 [============================>.] - ETA: 0s - loss: 0.0127 - accuracy: 0.9957\n",
            "Epoch 00050: val_accuracy did not improve from 0.90230\n",
            "6000/6000 [==============================] - 8s 1ms/step - loss: 0.0126 - accuracy: 0.9957 - val_loss: 0.8801 - val_accuracy: 0.8994\n",
            "Epoch 51/1000\n",
            "5994/6000 [============================>.] - ETA: 0s - loss: 0.0127 - accuracy: 0.9960\n",
            "Epoch 00051: val_accuracy did not improve from 0.90230\n",
            "6000/6000 [==============================] - 8s 1ms/step - loss: 0.0127 - accuracy: 0.9960 - val_loss: 0.8773 - val_accuracy: 0.8984\n",
            "Epoch 52/1000\n",
            "5978/6000 [============================>.] - ETA: 0s - loss: 0.0129 - accuracy: 0.9958\n",
            "Epoch 00052: val_accuracy did not improve from 0.90230\n",
            "6000/6000 [==============================] - 8s 1ms/step - loss: 0.0129 - accuracy: 0.9958 - val_loss: 0.8731 - val_accuracy: 0.8999\n",
            "Epoch 53/1000\n",
            "5988/6000 [============================>.] - ETA: 0s - loss: 0.0129 - accuracy: 0.9958\n",
            "Epoch 00053: val_accuracy did not improve from 0.90230\n",
            "6000/6000 [==============================] - 8s 1ms/step - loss: 0.0129 - accuracy: 0.9958 - val_loss: 0.9397 - val_accuracy: 0.8892\n",
            "Epoch 54/1000\n",
            "5975/6000 [============================>.] - ETA: 0s - loss: 0.0126 - accuracy: 0.9958\n",
            "Epoch 00054: val_accuracy did not improve from 0.90230\n",
            "6000/6000 [==============================] - 9s 1ms/step - loss: 0.0126 - accuracy: 0.9958 - val_loss: 0.8691 - val_accuracy: 0.8998\n",
            "Epoch 55/1000\n",
            "5990/6000 [============================>.] - ETA: 0s - loss: 0.0120 - accuracy: 0.9960\n",
            "Epoch 00055: val_accuracy did not improve from 0.90230\n",
            "6000/6000 [==============================] - 9s 1ms/step - loss: 0.0119 - accuracy: 0.9960 - val_loss: 0.9521 - val_accuracy: 0.8988\n",
            "Epoch 56/1000\n",
            "5999/6000 [============================>.] - ETA: 0s - loss: 0.0121 - accuracy: 0.9961\n",
            "Epoch 00056: val_accuracy did not improve from 0.90230\n",
            "6000/6000 [==============================] - 9s 1ms/step - loss: 0.0121 - accuracy: 0.9961 - val_loss: 0.8605 - val_accuracy: 0.9015\n",
            "Epoch 57/1000\n",
            "5986/6000 [============================>.] - ETA: 0s - loss: 0.0112 - accuracy: 0.9963\n",
            "Epoch 00057: val_accuracy did not improve from 0.90230\n",
            "6000/6000 [==============================] - 8s 1ms/step - loss: 0.0112 - accuracy: 0.9963 - val_loss: 0.8652 - val_accuracy: 0.9000\n",
            "Epoch 58/1000\n",
            "6000/6000 [==============================] - ETA: 0s - loss: 0.0106 - accuracy: 0.9967\n",
            "Epoch 00058: val_accuracy did not improve from 0.90230\n",
            "6000/6000 [==============================] - 8s 1ms/step - loss: 0.0106 - accuracy: 0.9967 - val_loss: 0.9457 - val_accuracy: 0.8953\n",
            "Epoch 59/1000\n",
            "5993/6000 [============================>.] - ETA: 0s - loss: 0.0105 - accuracy: 0.9965\n",
            "Epoch 00059: val_accuracy did not improve from 0.90230\n",
            "6000/6000 [==============================] - 8s 1ms/step - loss: 0.0105 - accuracy: 0.9965 - val_loss: 0.9531 - val_accuracy: 0.8906\n",
            "Epoch 60/1000\n",
            "5972/6000 [============================>.] - ETA: 0s - loss: 0.0114 - accuracy: 0.9962\n",
            "Epoch 00060: val_accuracy did not improve from 0.90230\n",
            "6000/6000 [==============================] - 8s 1ms/step - loss: 0.0114 - accuracy: 0.9962 - val_loss: 1.0109 - val_accuracy: 0.8969\n",
            "Epoch 61/1000\n",
            "5971/6000 [============================>.] - ETA: 0s - loss: 0.0102 - accuracy: 0.9967\n",
            "Epoch 00061: val_accuracy did not improve from 0.90230\n",
            "6000/6000 [==============================] - 8s 1ms/step - loss: 0.0102 - accuracy: 0.9967 - val_loss: 0.9101 - val_accuracy: 0.9014\n",
            "Epoch 62/1000\n",
            "5997/6000 [============================>.] - ETA: 0s - loss: 0.0118 - accuracy: 0.9962\n",
            "Epoch 00062: val_accuracy did not improve from 0.90230\n",
            "6000/6000 [==============================] - 8s 1ms/step - loss: 0.0118 - accuracy: 0.9962 - val_loss: 0.9069 - val_accuracy: 0.8978\n",
            "Epoch 63/1000\n",
            "5998/6000 [============================>.] - ETA: 0s - loss: 0.0105 - accuracy: 0.9967\n",
            "Epoch 00063: val_accuracy did not improve from 0.90230\n",
            "6000/6000 [==============================] - 8s 1ms/step - loss: 0.0105 - accuracy: 0.9967 - val_loss: 0.8894 - val_accuracy: 0.9000\n",
            "Epoch 64/1000\n",
            "5984/6000 [============================>.] - ETA: 0s - loss: 0.0093 - accuracy: 0.9970\n",
            "Epoch 00064: val_accuracy did not improve from 0.90230\n",
            "6000/6000 [==============================] - 8s 1ms/step - loss: 0.0093 - accuracy: 0.9970 - val_loss: 0.9881 - val_accuracy: 0.8993\n",
            "Epoch 65/1000\n",
            "5965/6000 [============================>.] - ETA: 0s - loss: 0.0108 - accuracy: 0.9964\n",
            "Epoch 00065: val_accuracy did not improve from 0.90230\n",
            "6000/6000 [==============================] - 8s 1ms/step - loss: 0.0108 - accuracy: 0.9964 - val_loss: 0.9106 - val_accuracy: 0.8993\n",
            "Epoch 66/1000\n",
            "5983/6000 [============================>.] - ETA: 0s - loss: 0.0109 - accuracy: 0.9965\n",
            "Epoch 00066: val_accuracy did not improve from 0.90230\n",
            "6000/6000 [==============================] - 8s 1ms/step - loss: 0.0109 - accuracy: 0.9965 - val_loss: 0.9071 - val_accuracy: 0.9005\n",
            "Epoch 67/1000\n",
            "5984/6000 [============================>.] - ETA: 0s - loss: 0.0097 - accuracy: 0.9968\n",
            "Epoch 00067: val_accuracy did not improve from 0.90230\n",
            "6000/6000 [==============================] - 8s 1ms/step - loss: 0.0098 - accuracy: 0.9968 - val_loss: 0.9426 - val_accuracy: 0.8918\n",
            "Epoch 68/1000\n",
            "5993/6000 [============================>.] - ETA: 0s - loss: 0.0101 - accuracy: 0.9966\n",
            "Epoch 00068: val_accuracy did not improve from 0.90230\n",
            "6000/6000 [==============================] - 8s 1ms/step - loss: 0.0100 - accuracy: 0.9966 - val_loss: 0.9804 - val_accuracy: 0.8991\n",
            "Epoch 69/1000\n",
            "5977/6000 [============================>.] - ETA: 0s - loss: 0.0080 - accuracy: 0.9975\n",
            "Epoch 00069: val_accuracy did not improve from 0.90230\n",
            "6000/6000 [==============================] - 8s 1ms/step - loss: 0.0083 - accuracy: 0.9974 - val_loss: 0.9687 - val_accuracy: 0.8939\n",
            "Epoch 70/1000\n",
            "5979/6000 [============================>.] - ETA: 0s - loss: 0.0105 - accuracy: 0.9969\n",
            "Epoch 00070: val_accuracy did not improve from 0.90230\n",
            "6000/6000 [==============================] - 8s 1ms/step - loss: 0.0105 - accuracy: 0.9969 - val_loss: 0.9573 - val_accuracy: 0.8983\n",
            "Epoch 00070: early stopping\n"
          ]
        }
      ],
      "source": [
        "\n",
        "#import tensorflow as tf \n",
        "\n",
        "\n",
        "es = EarlyStopping(monitor='val_accuracy', mode='max', verbose=1, patience=30)\n",
        "mc = ModelCheckpoint('best_model.h5', monitor='val_accuracy', mode='max', save_best_only=True , verbose=1)\n",
        "cb_list= [es , mc]\n",
        "history_object = model.fit(train_dataset, steps_per_epoch= 6000 ,\n",
        "validation_data=test_dataset, validation_steps=10000,verbose = 1 , workers=16\n",
        "                                    ,max_queue_size=1000, callbacks=cb_list , epochs = 1000) \n",
        "\n"
      ]
    },
    {
      "cell_type": "markdown",
      "metadata": {
        "colab_type": "text",
        "id": "oEw4bZgGCaXB"
      },
      "source": [
        "## Evaluate accuracy\n",
        "\n",
        "Next, compare how the model performs on the test dataset. Use all examples we have in the test dataset to assess accuracy."
      ]
    },
    {
      "cell_type": "code",
      "execution_count": 20,
      "metadata": {},
      "outputs": [
        {
          "output_type": "stream",
          "name": "stdout",
          "text": [
            "313/313 [==============================] - 0s 891us/step - loss: 0.8337 - accuracy: 0.9023\n",
            "Accuracy on test dataset: 0.9023000001907349\n"
          ]
        }
      ],
      "source": [
        "\n",
        "model = tf.keras.models.load_model('best_model.h5')\n",
        "test_loss, test_accuracy = model.evaluate(test_dataset, steps=math.ceil(num_test_examples/32))\n",
        "print('Accuracy on test dataset:', test_accuracy)"
      ]
    },
    {
      "cell_type": "code",
      "execution_count": 22,
      "metadata": {},
      "outputs": [
        {
          "output_type": "stream",
          "name": "stdout",
          "text": [
            "313/313 [==============================] - 0s 936us/step - loss: 0.5524 - accuracy: 0.8919\n",
            "Accuracy on test dataset: 0.8919000029563904\n"
          ]
        }
      ],
      "source": [
        "model = tf.keras.models.load_model('model89.h5')\n",
        "test_loss, test_accuracy = model.evaluate(test_dataset, steps=math.ceil(num_test_examples/32))\n",
        "print('Accuracy on test dataset:', test_accuracy)"
      ]
    },
    {
      "cell_type": "markdown",
      "metadata": {
        "colab_type": "text",
        "id": "yWfgsmVXCaXG"
      },
      "source": [
        "As it turns out, the accuracy on the test dataset is smaller than the accuracy on the training dataset. This is completely normal, since the model was trained on the `train_dataset`. When the model sees images it has never seen during training, (that is, from the `test_dataset`), we can expect performance to go down. "
      ]
    },
    {
      "cell_type": "markdown",
      "metadata": {
        "colab_type": "text",
        "id": "xsoS7CPDCaXH"
      },
      "source": [
        "## Make predictions and explore\n",
        "\n",
        "With the model trained, we can use it to make predictions about some images."
      ]
    },
    {
      "cell_type": "code",
      "execution_count": 23,
      "metadata": {
        "colab": {},
        "colab_type": "code",
        "id": "Ccoz4conNCpl"
      },
      "outputs": [],
      "source": [
        "for test_images, test_labels in test_dataset.take(1):\n",
        "  test_images = test_images.numpy()\n",
        "  test_labels = test_labels.numpy()\n",
        "  predictions = model.predict(test_images)"
      ]
    },
    {
      "cell_type": "code",
      "execution_count": 41,
      "metadata": {},
      "outputs": [
        {
          "output_type": "stream",
          "name": "stdout",
          "text": [
            "(32,)\n"
          ]
        }
      ],
      "source": [
        "print(test_labels.shape)"
      ]
    },
    {
      "cell_type": "code",
      "execution_count": 48,
      "metadata": {},
      "outputs": [
        {
          "output_type": "stream",
          "name": "stdout",
          "text": [
            "[-4.0705242e+00 -1.4759572e+00 -8.4324045e+00 -4.8171787e+00\n -3.0737051e+01 -5.7190180e+00  2.8345360e+01 -3.0499557e+01\n -1.2478745e+01  2.4576211e-02  1.5554534e+01  5.1657100e+00\n  3.9572990e+00  3.0547261e+00 -9.7752647e+00  1.5742757e+01\n -2.6396757e+01 -1.4214830e+01  4.5368910e+00 -7.0946379e+00\n  1.8862776e+01 -3.9636369e+00 -2.7298899e+00 -4.4242454e+00\n  1.2546906e+01 -1.2496333e+01 -1.0477752e+01 -5.2532291e+00\n  7.8851728e+00  3.6967692e+00 -4.9991636e+00 -2.2159098e+01]\n"
          ]
        }
      ],
      "source": [
        "print(predictions[:,0])"
      ]
    },
    {
      "cell_type": "code",
      "execution_count": 51,
      "metadata": {},
      "outputs": [
        {
          "output_type": "stream",
          "name": "stdout",
          "text": [
            "[0.0000000e+00 0.0000000e+00 0.0000000e+00 0.0000000e+00 0.0000000e+00\n 0.0000000e+00 2.8345360e+01 0.0000000e+00 0.0000000e+00 2.4576211e-02\n 1.5554534e+01 5.1657100e+00 3.9572990e+00 3.0547261e+00 0.0000000e+00\n 1.5742757e+01 0.0000000e+00 0.0000000e+00 4.5368910e+00 0.0000000e+00\n 1.8862776e+01 0.0000000e+00 0.0000000e+00 0.0000000e+00 1.2546906e+01\n 0.0000000e+00 0.0000000e+00 0.0000000e+00 7.8851728e+00 3.6967692e+00\n 0.0000000e+00 0.0000000e+00]\n"
          ]
        }
      ],
      "source": [
        "pred = tf.nn.relu(predictions[:,0]).numpy()\n",
        "print(pred)"
      ]
    },
    {
      "cell_type": "code",
      "execution_count": 52,
      "metadata": {},
      "outputs": [],
      "source": [
        "confusion_matrix = tf.math.confusion_matrix(\n",
        "    test_labels, pred, num_classes=None, weights=None, dtype=tf.dtypes.int32,\n",
        "    name=None\n",
        ")"
      ]
    },
    {
      "cell_type": "code",
      "execution_count": 53,
      "metadata": {},
      "outputs": [
        {
          "output_type": "stream",
          "name": "stdout",
          "text": [
            "tf.Tensor(\n[[0 0 0 0 0 0 0 0 0 0 0 0 0 0 0 2 0 0 1 0 0 0 0 0 0 0 0 0 1]\n [1 0 0 0 0 0 0 0 0 0 0 0 0 0 0 0 0 0 0 0 0 0 0 0 0 0 0 0 0]\n [1 0 0 1 1 0 0 1 0 0 0 0 1 0 0 0 0 0 0 0 0 0 0 0 0 0 0 0 0]\n [0 0 0 1 0 0 0 0 0 0 0 0 0 0 0 0 0 0 0 0 0 0 0 0 0 0 0 0 0]\n [7 0 0 1 0 0 0 0 0 0 0 0 0 0 0 0 0 0 0 0 0 0 0 0 0 0 0 0 0]\n [3 0 0 0 0 0 0 0 0 0 0 0 0 0 0 0 0 0 0 0 0 0 0 0 0 0 0 0 0]\n [0 0 0 0 0 0 0 0 0 0 0 0 0 0 0 0 0 0 0 0 0 0 0 0 0 0 0 0 0]\n [7 0 0 0 0 0 0 0 0 0 0 0 0 0 0 0 0 0 0 0 0 0 0 0 0 0 0 0 0]\n [0 0 0 0 0 1 0 0 0 0 0 0 0 0 0 0 0 0 0 0 0 0 0 0 0 0 0 0 0]\n [2 0 0 0 0 0 0 0 0 0 0 0 0 0 0 0 0 0 0 0 0 0 0 0 0 0 0 0 0]\n [0 0 0 0 0 0 0 0 0 0 0 0 0 0 0 0 0 0 0 0 0 0 0 0 0 0 0 0 0]\n [0 0 0 0 0 0 0 0 0 0 0 0 0 0 0 0 0 0 0 0 0 0 0 0 0 0 0 0 0]\n [0 0 0 0 0 0 0 0 0 0 0 0 0 0 0 0 0 0 0 0 0 0 0 0 0 0 0 0 0]\n [0 0 0 0 0 0 0 0 0 0 0 0 0 0 0 0 0 0 0 0 0 0 0 0 0 0 0 0 0]\n [0 0 0 0 0 0 0 0 0 0 0 0 0 0 0 0 0 0 0 0 0 0 0 0 0 0 0 0 0]\n [0 0 0 0 0 0 0 0 0 0 0 0 0 0 0 0 0 0 0 0 0 0 0 0 0 0 0 0 0]\n [0 0 0 0 0 0 0 0 0 0 0 0 0 0 0 0 0 0 0 0 0 0 0 0 0 0 0 0 0]\n [0 0 0 0 0 0 0 0 0 0 0 0 0 0 0 0 0 0 0 0 0 0 0 0 0 0 0 0 0]\n [0 0 0 0 0 0 0 0 0 0 0 0 0 0 0 0 0 0 0 0 0 0 0 0 0 0 0 0 0]\n [0 0 0 0 0 0 0 0 0 0 0 0 0 0 0 0 0 0 0 0 0 0 0 0 0 0 0 0 0]\n [0 0 0 0 0 0 0 0 0 0 0 0 0 0 0 0 0 0 0 0 0 0 0 0 0 0 0 0 0]\n [0 0 0 0 0 0 0 0 0 0 0 0 0 0 0 0 0 0 0 0 0 0 0 0 0 0 0 0 0]\n [0 0 0 0 0 0 0 0 0 0 0 0 0 0 0 0 0 0 0 0 0 0 0 0 0 0 0 0 0]\n [0 0 0 0 0 0 0 0 0 0 0 0 0 0 0 0 0 0 0 0 0 0 0 0 0 0 0 0 0]\n [0 0 0 0 0 0 0 0 0 0 0 0 0 0 0 0 0 0 0 0 0 0 0 0 0 0 0 0 0]\n [0 0 0 0 0 0 0 0 0 0 0 0 0 0 0 0 0 0 0 0 0 0 0 0 0 0 0 0 0]\n [0 0 0 0 0 0 0 0 0 0 0 0 0 0 0 0 0 0 0 0 0 0 0 0 0 0 0 0 0]\n [0 0 0 0 0 0 0 0 0 0 0 0 0 0 0 0 0 0 0 0 0 0 0 0 0 0 0 0 0]\n [0 0 0 0 0 0 0 0 0 0 0 0 0 0 0 0 0 0 0 0 0 0 0 0 0 0 0 0 0]], shape=(29, 29), dtype=int32)\n"
          ]
        }
      ],
      "source": [
        "print(confusion_matrix)"
      ]
    },
    {
      "cell_type": "code",
      "execution_count": 54,
      "metadata": {
        "colab": {},
        "colab_type": "code",
        "id": "Gl91RPhdCaXI"
      },
      "outputs": [
        {
          "output_type": "execute_result",
          "data": {
            "text/plain": [
              "TensorShape([29, 29])"
            ]
          },
          "metadata": {},
          "execution_count": 54
        }
      ],
      "source": [
        "confusion_matrix.shape\n"
      ]
    },
    {
      "cell_type": "markdown",
      "metadata": {
        "colab_type": "text",
        "id": "x9Kk1voUCaXJ"
      },
      "source": [
        "Here, the model has predicted the label for each image in the testing set. Let's take a look at the first prediction:"
      ]
    },
    {
      "cell_type": "code",
      "execution_count": 25,
      "metadata": {
        "colab": {},
        "colab_type": "code",
        "id": "3DmJEUinCaXK"
      },
      "outputs": [
        {
          "output_type": "execute_result",
          "data": {
            "text/plain": [
              "array([ -4.070524 ,  -7.1569057,   6.263895 ,  -5.136093 ,  13.085526 ,\n",
              "        -7.8210983,   9.346786 , -20.34008  ,  -4.235302 , -18.464306 ],\n",
              "      dtype=float32)"
            ]
          },
          "metadata": {},
          "execution_count": 25
        }
      ],
      "source": [
        "predictions[0]"
      ]
    },
    {
      "cell_type": "markdown",
      "metadata": {
        "colab_type": "text",
        "id": "-hw1hgeSCaXN"
      },
      "source": [
        "A prediction is an array of 10 numbers. These describe the \"confidence\" of the model that the image corresponds to each of the 10 different articles of clothing. We can see which label has the highest confidence value:"
      ]
    },
    {
      "cell_type": "code",
      "execution_count": 26,
      "metadata": {
        "colab": {},
        "colab_type": "code",
        "id": "qsqenuPnCaXO"
      },
      "outputs": [
        {
          "output_type": "execute_result",
          "data": {
            "text/plain": [
              "4"
            ]
          },
          "metadata": {},
          "execution_count": 26
        }
      ],
      "source": [
        "np.argmax(predictions[0])"
      ]
    },
    {
      "cell_type": "markdown",
      "metadata": {
        "colab_type": "text",
        "id": "E51yS7iCCaXO"
      },
      "source": [
        "So the model is most confident that this image is a shirt, or `class_names[6]`. And we can check the test label to see this is correct:"
      ]
    },
    {
      "cell_type": "code",
      "execution_count": 27,
      "metadata": {
        "colab": {},
        "colab_type": "code",
        "id": "Sd7Pgsu6CaXP"
      },
      "outputs": [
        {
          "output_type": "execute_result",
          "data": {
            "text/plain": [
              "4"
            ]
          },
          "metadata": {},
          "execution_count": 27
        }
      ],
      "source": [
        "test_labels[0]"
      ]
    },
    {
      "cell_type": "markdown",
      "metadata": {
        "colab_type": "text",
        "id": "ygh2yYC972ne"
      },
      "source": [
        "We can graph this to look at the full set of 10 class predictions"
      ]
    },
    {
      "cell_type": "code",
      "execution_count": 28,
      "metadata": {
        "colab": {},
        "colab_type": "code",
        "id": "DvYmmrpIy6Y1"
      },
      "outputs": [],
      "source": [
        "def plot_image(i, predictions_array, true_labels, images):\n",
        "  predictions_array, true_label, img = predictions_array[i], true_labels[i], images[i]\n",
        "  predictions_array = tf.nn.softmax(predictions_array)\n",
        "  plt.grid(False)\n",
        "  plt.xticks([])\n",
        "  plt.yticks([])\n",
        "  \n",
        "  plt.imshow(img[...,0], cmap=plt.cm.binary)\n",
        "\n",
        "  predicted_label = np.argmax(predictions_array)\n",
        "  if predicted_label == true_label:\n",
        "    color = 'blue'\n",
        "  else:\n",
        "    color = 'red'\n",
        "  \n",
        "  plt.xlabel(\"{} {:2.0f}% ({})\".format(class_names[predicted_label],\n",
        "                                100*np.max(predictions_array),\n",
        "                                class_names[true_label]),\n",
        "                                color=color)\n",
        "\n",
        "def plot_value_array(i, predictions_array, true_label):\n",
        "  predictions_array, true_label = predictions_array[i], true_label[i]\n",
        "  predictions_array = tf.nn.softmax(predictions_array)\n",
        "  plt.grid(False)\n",
        "  plt.xticks([])\n",
        "  plt.yticks([])\n",
        "  thisplot = plt.bar(range(10), predictions_array, color=\"#777777\")\n",
        "  plt.ylim([0, 1]) \n",
        "  predicted_label = np.argmax(predictions_array)\n",
        "  \n",
        "  thisplot[predicted_label].set_color('red')\n",
        "  thisplot[true_label].set_color('blue')"
      ]
    },
    {
      "cell_type": "markdown",
      "metadata": {
        "colab_type": "text",
        "id": "d4Ov9OFDMmOD"
      },
      "source": [
        "Let's look at the 0th image, predictions, and prediction array. "
      ]
    },
    {
      "cell_type": "code",
      "execution_count": 29,
      "metadata": {
        "colab": {},
        "colab_type": "code",
        "id": "HV5jw-5HwSmO"
      },
      "outputs": [
        {
          "output_type": "display_data",
          "data": {
            "text/plain": "<Figure size 432x216 with 2 Axes>",
            "image/png": "[encoded data removed]"
          },
          "metadata": {}
        }
      ],
      "source": [
        "i = 0\n",
        "plt.figure(figsize=(6,3))\n",
        "plt.subplot(1,2,1)\n",
        "plot_image(i, predictions, test_labels, test_images)\n",
        "plt.subplot(1,2,2)\n",
        "plot_value_array(i, predictions, test_labels)"
      ]
    },
    {
      "cell_type": "code",
      "execution_count": 30,
      "metadata": {
        "colab": {},
        "colab_type": "code",
        "id": "Ko-uzOufSCSe"
      },
      "outputs": [
        {
          "output_type": "display_data",
          "data": {
            "text/plain": "<Figure size 432x216 with 2 Axes>",
            "image/png": "[encoded data removed]"
          },
          "metadata": {}
        }
      ],
      "source": [
        "i = 12\n",
        "plt.figure(figsize=(6,3))\n",
        "plt.subplot(1,2,1)\n",
        "plot_image(i, predictions, test_labels, test_images)\n",
        "plt.subplot(1,2,2)\n",
        "plot_value_array(i, predictions, test_labels)"
      ]
    },
    {
      "cell_type": "markdown",
      "metadata": {
        "colab_type": "text",
        "id": "kgdvGD52CaXR"
      },
      "source": [
        "Let's plot several images with their predictions. Correct prediction labels are blue and incorrect prediction labels are red. The number gives the percent (out of 100) for the predicted label. Note that it can be wrong even when very confident. "
      ]
    },
    {
      "cell_type": "code",
      "execution_count": 31,
      "metadata": {
        "colab": {},
        "colab_type": "code",
        "id": "hQlnbqaw2Qu_"
      },
      "outputs": [
        {
          "output_type": "display_data",
          "data": {
            "text/plain": "<Figure size 864x720 with 30 Axes>",
            "image/png": "[encoded data removed]"
          },
          "metadata": {}
        }
      ],
      "source": [
        "# Plot the first X test images, their predicted label, and the true label\n",
        "# Color correct predictions in blue, incorrect predictions in red\n",
        "num_rows = 5\n",
        "num_cols = 3\n",
        "num_images = num_rows*num_cols\n",
        "plt.figure(figsize=(2*2*num_cols, 2*num_rows))\n",
        "for i in range(num_images):\n",
        "  plt.subplot(num_rows, 2*num_cols, 2*i+1)\n",
        "  plot_image(i, predictions, test_labels, test_images)\n",
        "  plt.subplot(num_rows, 2*num_cols, 2*i+2)\n",
        "  plot_value_array(i, predictions, test_labels)\n"
      ]
    },
    {
      "cell_type": "markdown",
      "metadata": {
        "colab_type": "text",
        "id": "R32zteKHCaXT"
      },
      "source": [
        "Finally, use the trained model to make a prediction about a single image. "
      ]
    },
    {
      "cell_type": "code",
      "execution_count": 32,
      "metadata": {
        "colab": {},
        "colab_type": "code",
        "id": "yRJ7JU7JCaXT"
      },
      "outputs": [
        {
          "output_type": "stream",
          "name": "stdout",
          "text": [
            "(28, 28, 1)\n"
          ]
        }
      ],
      "source": [
        "# Grab an image from the test dataset\n",
        "img = test_images[0]\n",
        "\n",
        "print(img.shape)"
      ]
    },
    {
      "cell_type": "markdown",
      "metadata": {
        "colab_type": "text",
        "id": "vz3bVp21CaXV"
      },
      "source": [
        "`tf.keras` models are optimized to make predictions on a *batch*, or collection, of examples at once. So even though we're using a single image, we need to add it to a list:"
      ]
    },
    {
      "cell_type": "code",
      "execution_count": 33,
      "metadata": {
        "colab": {},
        "colab_type": "code",
        "id": "lDFh5yF_CaXW"
      },
      "outputs": [
        {
          "output_type": "stream",
          "name": "stdout",
          "text": [
            "(1, 28, 28, 1)\n"
          ]
        }
      ],
      "source": [
        "# Add the image to a batch where it's the only member.\n",
        "img = np.array([img])\n",
        "\n",
        "print(img.shape)"
      ]
    },
    {
      "cell_type": "markdown",
      "metadata": {
        "colab_type": "text",
        "id": "EQ5wLTkcCaXY"
      },
      "source": [
        "Now predict the image:"
      ]
    },
    {
      "cell_type": "code",
      "execution_count": 34,
      "metadata": {
        "colab": {},
        "colab_type": "code",
        "id": "o_rzNSdrCaXY"
      },
      "outputs": [
        {
          "output_type": "stream",
          "name": "stdout",
          "text": [
            "[[ -4.070525   -7.1569057   6.263894   -5.136093   13.085525   -7.821097\n    9.346785  -20.340078   -4.2353015 -18.464306 ]]\n"
          ]
        }
      ],
      "source": [
        "predictions_single = model.predict(img)\n",
        "\n",
        "print(predictions_single)"
      ]
    },
    {
      "cell_type": "code",
      "execution_count": 35,
      "metadata": {
        "colab": {},
        "colab_type": "code",
        "id": "6Ai-cpLjO-3A"
      },
      "outputs": [
        {
          "output_type": "display_data",
          "data": {
            "text/plain": "<Figure size 432x288 with 1 Axes>",
            "image/png": "[encoded data removed]"
          },
          "metadata": {
            "needs_background": "light"
          }
        }
      ],
      "source": [
        "plot_value_array(0, predictions_single, test_labels)\n",
        "_ = plt.xticks(range(10), class_names, rotation=45)"
      ]
    },
    {
      "cell_type": "markdown",
      "metadata": {
        "colab_type": "text",
        "id": "cU1Y2OAMCaXb"
      },
      "source": [
        "`model.predict` returns a list of lists, one for each image in the batch of data. Grab the predictions for our (only) image in the batch:"
      ]
    },
    {
      "cell_type": "code",
      "execution_count": 36,
      "metadata": {
        "colab": {},
        "colab_type": "code",
        "id": "2tRmdq_8CaXb"
      },
      "outputs": [
        {
          "output_type": "execute_result",
          "data": {
            "text/plain": [
              "4"
            ]
          },
          "metadata": {},
          "execution_count": 36
        }
      ],
      "source": [
        "np.argmax(predictions_single[0])"
      ]
    },
    {
      "cell_type": "markdown",
      "metadata": {
        "colab_type": "text",
        "id": "YFc2HbEVCaXd"
      },
      "source": [
        "And, as before, the model predicts a label of 6 (shirt)."
      ]
    },
    {
      "cell_type": "markdown",
      "metadata": {
        "colab_type": "text",
        "id": "-KtnHECKZni_"
      },
      "source": [
        "# Exercises\n",
        "\n",
        "Experiment with different models and see how the accuracy results differ. In particular change the following parameters:\n",
        "*   Set training epochs set to 1\n",
        "*   Number of neurons in the Dense layer following the Flatten one. For example, go really low (e.g. 10) in ranges up to 512 and see how accuracy changes\n",
        "*   Add additional Dense layers between the Flatten and the final `Dense(10)`, experiment with different units in these layers\n",
        "*   Don't normalize the pixel values, and see the effect that has\n",
        "\n",
        "\n",
        "Remember to enable GPU to make everything run faster (Runtime -> Change runtime type -> Hardware accelerator -> GPU).\n",
        "Also, if you run into trouble, simply reset the entire environment and start from the beginning:\n",
        "*   Edit -> Clear all outputs\n",
        "*   Runtime -> Reset all runtimes"
      ]
    },
    {
      "cell_type": "code",
      "execution_count": null,
      "metadata": {},
      "outputs": [],
      "source": []
    },
    {
      "cell_type": "code",
      "execution_count": null,
      "metadata": {},
      "outputs": [],
      "source": []
    }
  ],
  "metadata": {
    "accelerator": "GPU",
    "colab": {
      "collapsed_sections": [],
      "name": "l03c01_classifying_images_of_clothing.ipynb",
      "private_outputs": true,
      "provenance": [],
      "toc_visible": true
    },
    "kernelspec": {
      "name": "python3",
      "display_name": "Python 3.8.10 64-bit ('tracking-gpu8': conda)"
    },
    "interpreter": {
      "hash": "1cece3d157a3d6da7fe84be21b48f6ecdb0c40d8e8868f99b0884e143c57a1f9"
    }
  },
  "nbformat": 4,
  "nbformat_minor": 0
}
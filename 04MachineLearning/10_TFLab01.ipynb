{
 "metadata": {
  "language_info": {
   "codemirror_mode": {
    "name": "ipython",
    "version": 3
   },
   "file_extension": ".py",
   "mimetype": "text/x-python",
   "name": "python",
   "nbconvert_exporter": "python",
   "pygments_lexer": "ipython3",
   "version": "3.8.10"
  },
  "orig_nbformat": 2,
  "kernelspec": {
   "name": "python3",
   "display_name": "Python 3.8.10 64-bit ('tracking-gpu8': conda)"
  },
  "interpreter": {
   "hash": "1cece3d157a3d6da7fe84be21b48f6ecdb0c40d8e8868f99b0884e143c57a1f9"
  }
 },
 "nbformat": 4,
 "nbformat_minor": 2,
 "cells": [
  {
   "source": [
    "# Tensorflow Lab\n",
    "\n",
    "z = 5x - 3y + 7\n",
    "\n",
    "## Task:\n",
    "\n",
    "Given the previous equation:\n",
    "- Generate 10 random values for `x` and `y` as input with max. value = 100.\n",
    "- Generate z for the above values.\n",
    "- Create a model with 2 inputs to accept x and y and predicts z.\n",
    "- You must show the results:\n",
    "    - Model summary.\n",
    "    - Loss AND ACC. VS epochs.\n",
    "    - Weights.\n",
    "    - Predict output for 3 diffrent inputs.\n",
    "\n",
    "## Cariteria:\n",
    "\n",
    "- Model must be 1 neuron only.\n",
    "- Acc. must be 90% at least."
   ],
   "cell_type": "markdown",
   "metadata": {}
  },
  {
   "cell_type": "code",
   "execution_count": 57,
   "metadata": {},
   "outputs": [
    {
     "output_type": "stream",
     "name": "stdout",
     "text": [
      "2.2.0\n2.2.0\n"
     ]
    }
   ],
   "source": [
    "import tensorflow as tf\n",
    "import numpy as np\n",
    "import time\n",
    "print (tf.version.VERSION)\n",
    "print (tf.__version__)"
   ]
  },
  {
   "cell_type": "code",
   "execution_count": 2,
   "metadata": {},
   "outputs": [
    {
     "output_type": "stream",
     "name": "stdout",
     "text": [
      "x : [78.08017949 63.38180372 47.99215827 92.68791078 53.04110021 30.3496856\n 81.22820391 84.42600543 55.33850732 88.1219672 ]\ny : [47.31149036 65.19346692 76.80107537 20.27606113 30.42585741 64.06789684\n 88.28072745 73.81951573 52.84074966 78.15388924]\nz : [255.46642634 128.32861783  16.55756525 409.61137054 180.92792883\n -33.4552625  148.29883717 207.67147994 125.17028765 213.14816828]\n"
     ]
    }
   ],
   "source": [
    "\n",
    "x = np.random.uniform(low=0, high=100, size=(10,))\n",
    "y = np.random.uniform(low=0, high=100, size=(10,))\n",
    "z = (5*x) - (3*y )+7\n",
    "print(\"x :\" , x)\n",
    "print(\"y :\" , y)\n",
    "print(\"z :\" ,z)"
   ]
  },
  {
   "cell_type": "code",
   "execution_count": 7,
   "metadata": {},
   "outputs": [
    {
     "output_type": "stream",
     "name": "stdout",
     "text": [
      "[[78.08017949 47.31149036]\n [63.38180372 65.19346692]\n [47.99215827 76.80107537]\n [92.68791078 20.27606113]\n [53.04110021 30.42585741]\n [30.3496856  64.06789684]\n [81.22820391 88.28072745]\n [84.42600543 73.81951573]\n [55.33850732 52.84074966]\n [88.1219672  78.15388924]]\n"
     ]
    }
   ],
   "source": [
    "inputs = list(zip(x, y))\n",
    "inputs = np.array(inputs,  dtype=float)\n",
    "\n",
    "print(inputs)"
   ]
  },
  {
   "cell_type": "code",
   "execution_count": 36,
   "metadata": {},
   "outputs": [
    {
     "output_type": "stream",
     "name": "stdout",
     "text": [
      "x : [83.41816494 64.15694268 46.73077939 97.64620125 50.18755325 77.40079916\n 56.21521822 93.61645672 24.83348189 88.45384709]\ny : [5.56011999e+01 3.69584060e+01 5.51179088e-02 3.23971019e+01\n 2.64342295e+01 2.20232857e+01 4.80731626e+01 3.98066343e+01\n 8.62533474e+01 4.67034537e+01]\nz : [ 257.28722499  216.90949551  240.48854323  398.03970052  178.63507776\n  327.93413864  143.85660316  355.66238074 -127.59263284  309.15887423]\n[[8.34181649e+01 5.56011999e+01]\n [6.41569427e+01 3.69584060e+01]\n [4.67307794e+01 5.51179088e-02]\n [9.76462013e+01 3.23971019e+01]\n [5.01875532e+01 2.64342295e+01]\n [7.74007992e+01 2.20232857e+01]\n [5.62152182e+01 4.80731626e+01]\n [9.36164567e+01 3.98066343e+01]\n [2.48334819e+01 8.62533474e+01]\n [8.84538471e+01 4.67034537e+01]]\n"
     ]
    }
   ],
   "source": [
    "x_valid = np.random.uniform(low=0, high=100, size=(10,))\n",
    "y_valid = np.random.uniform(low=0, high=100, size=(10,))\n",
    "z_valid = (5*x_valid) - (3*y_valid )+7\n",
    "print(\"x :\" , x_valid)\n",
    "print(\"y :\" , y_valid)\n",
    "print(\"z :\" ,z_valid)\n",
    "inputs_valid = list(zip(x_valid, y_valid))\n",
    "inputs_valid = np.array(inputs_valid,  dtype=float)\n",
    "\n",
    "print(inputs_valid)"
   ]
  },
  {
   "cell_type": "code",
   "execution_count": 37,
   "metadata": {},
   "outputs": [],
   "source": [
    "model = tf.keras.Sequential(\n",
    "    tf.keras.layers.Dense(units=1, input_shape=[2])\n",
    ")"
   ]
  },
  {
   "cell_type": "code",
   "execution_count": 46,
   "metadata": {},
   "outputs": [],
   "source": [
    "model.compile(\n",
    "        loss='mean_squared_error',\n",
    "        optimizer=tf.keras.optimizers.Adam(0.1),\n",
    "        metrics=[\"mean_squared_error\"]\n",
    "    )"
   ]
  },
  {
   "cell_type": "code",
   "execution_count": 47,
   "metadata": {},
   "outputs": [
    {
     "output_type": "stream",
     "name": "stdout",
     "text": [
      "Model: \"sequential_2\"\n_________________________________________________________________\nLayer (type)                 Output Shape              Param #   \n=================================================================\ndense_2 (Dense)              (None, 1)                 3         \n=================================================================\nTotal params: 3\nTrainable params: 3\nNon-trainable params: 0\n_________________________________________________________________\n"
     ]
    }
   ],
   "source": [
    "model.summary()"
   ]
  },
  {
   "cell_type": "code",
   "execution_count": 48,
   "metadata": {},
   "outputs": [
    {
     "output_type": "stream",
     "name": "stdout",
     "text": [
      "Failed to import pydot. You must install pydot and graphviz for `pydotprint` to work.\n"
     ]
    }
   ],
   "source": [
    "tf.keras.utils.plot_model(\n",
    "        model,\n",
    "        to_file='Files/model.png',\n",
    "        show_layer_names=True,\n",
    "        show_shapes=True\n",
    "    )"
   ]
  },
  {
   "cell_type": "code",
   "execution_count": 49,
   "metadata": {
    "tags": [
     "outputPrepend"
    ]
   },
   "outputs": [
    {
     "output_type": "stream",
     "name": "stdout",
     "text": [
      " 7.6670e-07 - mean_squared_error: 7.6670e-07 - val_loss: 1.1988e-06 - val_mean_squared_error: 1.1988e-06\n",
      "Epoch 890/1000\n",
      "1/1 [==============================] - 0s 20ms/step - loss: 7.4701e-07 - mean_squared_error: 7.4701e-07 - val_loss: 1.2101e-06 - val_mean_squared_error: 1.2101e-06\n",
      "Epoch 891/1000\n",
      "1/1 [==============================] - 0s 17ms/step - loss: 7.4532e-07 - mean_squared_error: 7.4532e-07 - val_loss: 1.1660e-06 - val_mean_squared_error: 1.1660e-06\n",
      "Epoch 892/1000\n",
      "1/1 [==============================] - 0s 16ms/step - loss: 7.3370e-07 - mean_squared_error: 7.3370e-07 - val_loss: 1.1512e-06 - val_mean_squared_error: 1.1512e-06\n",
      "Epoch 893/1000\n",
      "1/1 [==============================] - 0s 28ms/step - loss: 7.3425e-07 - mean_squared_error: 7.3425e-07 - val_loss: 1.1117e-06 - val_mean_squared_error: 1.1117e-06\n",
      "Epoch 894/1000\n",
      "1/1 [==============================] - 0s 20ms/step - loss: 7.2476e-07 - mean_squared_error: 7.2476e-07 - val_loss: 1.1311e-06 - val_mean_squared_error: 1.1311e-06\n",
      "Epoch 895/1000\n",
      "1/1 [==============================] - 0s 17ms/step - loss: 6.9028e-07 - mean_squared_error: 6.9028e-07 - val_loss: 1.1248e-06 - val_mean_squared_error: 1.1248e-06\n",
      "Epoch 896/1000\n",
      "1/1 [==============================] - 0s 17ms/step - loss: 6.8046e-07 - mean_squared_error: 6.8046e-07 - val_loss: 1.0761e-06 - val_mean_squared_error: 1.0761e-06\n",
      "Epoch 897/1000\n",
      "1/1 [==============================] - 0s 18ms/step - loss: 6.7044e-07 - mean_squared_error: 6.7044e-07 - val_loss: 1.0390e-06 - val_mean_squared_error: 1.0390e-06\n",
      "Epoch 898/1000\n",
      "1/1 [==============================] - 0s 17ms/step - loss: 6.6404e-07 - mean_squared_error: 6.6404e-07 - val_loss: 1.0807e-06 - val_mean_squared_error: 1.0807e-06\n",
      "Epoch 899/1000\n",
      "1/1 [==============================] - 0s 19ms/step - loss: 6.6435e-07 - mean_squared_error: 6.6435e-07 - val_loss: 1.0706e-06 - val_mean_squared_error: 1.0706e-06\n",
      "Epoch 900/1000\n",
      "1/1 [==============================] - 0s 17ms/step - loss: 6.4818e-07 - mean_squared_error: 6.4818e-07 - val_loss: 9.9174e-07 - val_mean_squared_error: 9.9174e-07\n",
      "Epoch 901/1000\n",
      "1/1 [==============================] - 0s 20ms/step - loss: 6.4175e-07 - mean_squared_error: 6.4175e-07 - val_loss: 9.9079e-07 - val_mean_squared_error: 9.9079e-07\n",
      "Epoch 902/1000\n",
      "1/1 [==============================] - 0s 26ms/step - loss: 6.3047e-07 - mean_squared_error: 6.3047e-07 - val_loss: 1.0109e-06 - val_mean_squared_error: 1.0109e-06\n",
      "Epoch 903/1000\n",
      "1/1 [==============================] - 0s 20ms/step - loss: 6.2604e-07 - mean_squared_error: 6.2604e-07 - val_loss: 1.0044e-06 - val_mean_squared_error: 1.0044e-06\n",
      "Epoch 904/1000\n",
      "1/1 [==============================] - 0s 22ms/step - loss: 6.1728e-07 - mean_squared_error: 6.1728e-07 - val_loss: 9.6660e-07 - val_mean_squared_error: 9.6660e-07\n",
      "Epoch 905/1000\n",
      "1/1 [==============================] - 0s 17ms/step - loss: 6.1017e-07 - mean_squared_error: 6.1017e-07 - val_loss: 9.3089e-07 - val_mean_squared_error: 9.3089e-07\n",
      "Epoch 906/1000\n",
      "1/1 [==============================] - 0s 17ms/step - loss: 6.0354e-07 - mean_squared_error: 6.0354e-07 - val_loss: 9.4325e-07 - val_mean_squared_error: 9.4325e-07\n",
      "Epoch 907/1000\n",
      "1/1 [==============================] - 0s 19ms/step - loss: 5.9484e-07 - mean_squared_error: 5.9484e-07 - val_loss: 9.5493e-07 - val_mean_squared_error: 9.5493e-07\n",
      "Epoch 908/1000\n",
      "1/1 [==============================] - 0s 21ms/step - loss: 5.9098e-07 - mean_squared_error: 5.9098e-07 - val_loss: 9.1720e-07 - val_mean_squared_error: 9.1720e-07\n",
      "Epoch 909/1000\n",
      "1/1 [==============================] - 0s 16ms/step - loss: 5.8282e-07 - mean_squared_error: 5.8282e-07 - val_loss: 8.9633e-07 - val_mean_squared_error: 8.9633e-07\n",
      "Epoch 910/1000\n",
      "1/1 [==============================] - 0s 16ms/step - loss: 5.7290e-07 - mean_squared_error: 5.7290e-07 - val_loss: 8.9470e-07 - val_mean_squared_error: 8.9470e-07\n",
      "Epoch 911/1000\n",
      "1/1 [==============================] - 0s 15ms/step - loss: 5.5615e-07 - mean_squared_error: 5.5615e-07 - val_loss: 8.7303e-07 - val_mean_squared_error: 8.7303e-07\n",
      "Epoch 912/1000\n",
      "1/1 [==============================] - 0s 22ms/step - loss: 5.5053e-07 - mean_squared_error: 5.5053e-07 - val_loss: 8.5381e-07 - val_mean_squared_error: 8.5381e-07\n",
      "Epoch 913/1000\n",
      "1/1 [==============================] - 0s 17ms/step - loss: 5.4069e-07 - mean_squared_error: 5.4069e-07 - val_loss: 8.4708e-07 - val_mean_squared_error: 8.4708e-07\n",
      "Epoch 914/1000\n",
      "1/1 [==============================] - 0s 19ms/step - loss: 5.3496e-07 - mean_squared_error: 5.3496e-07 - val_loss: 8.6043e-07 - val_mean_squared_error: 8.6043e-07\n",
      "Epoch 915/1000\n",
      "1/1 [==============================] - 0s 22ms/step - loss: 5.2668e-07 - mean_squared_error: 5.2668e-07 - val_loss: 8.1260e-07 - val_mean_squared_error: 8.1260e-07\n",
      "Epoch 916/1000\n",
      "1/1 [==============================] - 0s 21ms/step - loss: 5.2511e-07 - mean_squared_error: 5.2511e-07 - val_loss: 7.8001e-07 - val_mean_squared_error: 7.8001e-07\n",
      "Epoch 917/1000\n",
      "1/1 [==============================] - 0s 19ms/step - loss: 5.2147e-07 - mean_squared_error: 5.2147e-07 - val_loss: 8.3798e-07 - val_mean_squared_error: 8.3798e-07\n",
      "Epoch 918/1000\n",
      "1/1 [==============================] - 0s 20ms/step - loss: 5.1030e-07 - mean_squared_error: 5.1030e-07 - val_loss: 8.0138e-07 - val_mean_squared_error: 8.0138e-07\n",
      "Epoch 919/1000\n",
      "1/1 [==============================] - 0s 16ms/step - loss: 5.0166e-07 - mean_squared_error: 5.0166e-07 - val_loss: 7.7214e-07 - val_mean_squared_error: 7.7214e-07\n",
      "Epoch 920/1000\n",
      "1/1 [==============================] - 0s 17ms/step - loss: 4.9485e-07 - mean_squared_error: 4.9485e-07 - val_loss: 7.5023e-07 - val_mean_squared_error: 7.5023e-07\n",
      "Epoch 921/1000\n",
      "1/1 [==============================] - 0s 23ms/step - loss: 4.8883e-07 - mean_squared_error: 4.8883e-07 - val_loss: 7.7685e-07 - val_mean_squared_error: 7.7685e-07\n",
      "Epoch 922/1000\n",
      "1/1 [==============================] - 0s 22ms/step - loss: 4.7308e-07 - mean_squared_error: 4.7308e-07 - val_loss: 7.7826e-07 - val_mean_squared_error: 7.7826e-07\n",
      "Epoch 923/1000\n",
      "1/1 [==============================] - 0s 17ms/step - loss: 4.6761e-07 - mean_squared_error: 4.6761e-07 - val_loss: 7.0762e-07 - val_mean_squared_error: 7.0762e-07\n",
      "Epoch 924/1000\n",
      "1/1 [==============================] - 0s 19ms/step - loss: 4.6304e-07 - mean_squared_error: 4.6304e-07 - val_loss: 7.1726e-07 - val_mean_squared_error: 7.1726e-07\n",
      "Epoch 925/1000\n",
      "1/1 [==============================] - 0s 17ms/step - loss: 4.5159e-07 - mean_squared_error: 4.5159e-07 - val_loss: 7.4176e-07 - val_mean_squared_error: 7.4176e-07\n",
      "Epoch 926/1000\n",
      "1/1 [==============================] - 0s 20ms/step - loss: 4.5438e-07 - mean_squared_error: 4.5438e-07 - val_loss: 7.0909e-07 - val_mean_squared_error: 7.0909e-07\n",
      "Epoch 927/1000\n",
      "1/1 [==============================] - 0s 18ms/step - loss: 4.4774e-07 - mean_squared_error: 4.4774e-07 - val_loss: 6.9179e-07 - val_mean_squared_error: 6.9179e-07\n",
      "Epoch 928/1000\n",
      "1/1 [==============================] - 0s 20ms/step - loss: 4.3984e-07 - mean_squared_error: 4.3984e-07 - val_loss: 6.9283e-07 - val_mean_squared_error: 6.9283e-07\n",
      "Epoch 929/1000\n",
      "1/1 [==============================] - 0s 17ms/step - loss: 4.3612e-07 - mean_squared_error: 4.3612e-07 - val_loss: 6.7878e-07 - val_mean_squared_error: 6.7878e-07\n",
      "Epoch 930/1000\n",
      "1/1 [==============================] - 0s 18ms/step - loss: 4.3052e-07 - mean_squared_error: 4.3052e-07 - val_loss: 6.5458e-07 - val_mean_squared_error: 6.5458e-07\n",
      "Epoch 931/1000\n",
      "1/1 [==============================] - 0s 27ms/step - loss: 4.1680e-07 - mean_squared_error: 4.1680e-07 - val_loss: 6.7247e-07 - val_mean_squared_error: 6.7247e-07\n",
      "Epoch 932/1000\n",
      "1/1 [==============================] - 0s 20ms/step - loss: 4.0801e-07 - mean_squared_error: 4.0801e-07 - val_loss: 6.3605e-07 - val_mean_squared_error: 6.3605e-07\n",
      "Epoch 933/1000\n",
      "1/1 [==============================] - 0s 16ms/step - loss: 4.0247e-07 - mean_squared_error: 4.0247e-07 - val_loss: 6.2676e-07 - val_mean_squared_error: 6.2676e-07\n",
      "Epoch 934/1000\n",
      "1/1 [==============================] - 0s 17ms/step - loss: 3.9708e-07 - mean_squared_error: 3.9708e-07 - val_loss: 6.3175e-07 - val_mean_squared_error: 6.3175e-07\n",
      "Epoch 935/1000\n",
      "1/1 [==============================] - 0s 21ms/step - loss: 3.9748e-07 - mean_squared_error: 3.9748e-07 - val_loss: 6.4485e-07 - val_mean_squared_error: 6.4485e-07\n",
      "Epoch 936/1000\n",
      "1/1 [==============================] - 0s 20ms/step - loss: 3.9072e-07 - mean_squared_error: 3.9072e-07 - val_loss: 5.9559e-07 - val_mean_squared_error: 5.9559e-07\n",
      "Epoch 937/1000\n",
      "1/1 [==============================] - 0s 18ms/step - loss: 3.8276e-07 - mean_squared_error: 3.8276e-07 - val_loss: 5.7146e-07 - val_mean_squared_error: 5.7146e-07\n",
      "Epoch 938/1000\n",
      "1/1 [==============================] - 0s 25ms/step - loss: 3.8215e-07 - mean_squared_error: 3.8215e-07 - val_loss: 6.2797e-07 - val_mean_squared_error: 6.2797e-07\n",
      "Epoch 939/1000\n",
      "1/1 [==============================] - 0s 22ms/step - loss: 3.7304e-07 - mean_squared_error: 3.7304e-07 - val_loss: 6.0714e-07 - val_mean_squared_error: 6.0714e-07\n",
      "Epoch 940/1000\n",
      "1/1 [==============================] - 0s 22ms/step - loss: 3.6918e-07 - mean_squared_error: 3.6918e-07 - val_loss: 5.3926e-07 - val_mean_squared_error: 5.3926e-07\n",
      "Epoch 941/1000\n",
      "1/1 [==============================] - 0s 16ms/step - loss: 3.6490e-07 - mean_squared_error: 3.6490e-07 - val_loss: 5.5335e-07 - val_mean_squared_error: 5.5335e-07\n",
      "Epoch 942/1000\n",
      "1/1 [==============================] - 0s 23ms/step - loss: 3.5326e-07 - mean_squared_error: 3.5326e-07 - val_loss: 5.9694e-07 - val_mean_squared_error: 5.9694e-07\n",
      "Epoch 943/1000\n",
      "1/1 [==============================] - 0s 20ms/step - loss: 3.5354e-07 - mean_squared_error: 3.5354e-07 - val_loss: 5.6629e-07 - val_mean_squared_error: 5.6629e-07\n",
      "Epoch 944/1000\n",
      "1/1 [==============================] - 0s 18ms/step - loss: 3.4618e-07 - mean_squared_error: 3.4618e-07 - val_loss: 5.1607e-07 - val_mean_squared_error: 5.1607e-07\n",
      "Epoch 945/1000\n",
      "1/1 [==============================] - 0s 20ms/step - loss: 3.4255e-07 - mean_squared_error: 3.4255e-07 - val_loss: 5.2523e-07 - val_mean_squared_error: 5.2523e-07\n",
      "Epoch 946/1000\n",
      "1/1 [==============================] - 0s 16ms/step - loss: 3.3818e-07 - mean_squared_error: 3.3818e-07 - val_loss: 5.7328e-07 - val_mean_squared_error: 5.7328e-07\n",
      "Epoch 947/1000\n",
      "1/1 [==============================] - 0s 19ms/step - loss: 3.2649e-07 - mean_squared_error: 3.2649e-07 - val_loss: 5.1900e-07 - val_mean_squared_error: 5.1900e-07\n",
      "Epoch 948/1000\n",
      "1/1 [==============================] - 0s 16ms/step - loss: 3.2785e-07 - mean_squared_error: 3.2785e-07 - val_loss: 4.9291e-07 - val_mean_squared_error: 4.9291e-07\n",
      "Epoch 949/1000\n",
      "1/1 [==============================] - 0s 18ms/step - loss: 3.2204e-07 - mean_squared_error: 3.2204e-07 - val_loss: 4.8953e-07 - val_mean_squared_error: 4.8953e-07\n",
      "Epoch 950/1000\n",
      "1/1 [==============================] - 0s 22ms/step - loss: 3.1752e-07 - mean_squared_error: 3.1752e-07 - val_loss: 5.5295e-07 - val_mean_squared_error: 5.5295e-07\n",
      "Epoch 951/1000\n",
      "1/1 [==============================] - 0s 16ms/step - loss: 3.1423e-07 - mean_squared_error: 3.1423e-07 - val_loss: 4.9551e-07 - val_mean_squared_error: 4.9551e-07\n",
      "Epoch 952/1000\n",
      "1/1 [==============================] - 0s 19ms/step - loss: 3.0031e-07 - mean_squared_error: 3.0031e-07 - val_loss: 4.4876e-07 - val_mean_squared_error: 4.4876e-07\n",
      "Epoch 953/1000\n",
      "1/1 [==============================] - 0s 21ms/step - loss: 3.1061e-07 - mean_squared_error: 3.1061e-07 - val_loss: 4.5999e-07 - val_mean_squared_error: 4.5999e-07\n",
      "Epoch 954/1000\n",
      "1/1 [==============================] - 0s 18ms/step - loss: 2.8972e-07 - mean_squared_error: 2.8972e-07 - val_loss: 5.0648e-07 - val_mean_squared_error: 5.0648e-07\n",
      "Epoch 955/1000\n",
      "1/1 [==============================] - 0s 23ms/step - loss: 2.9849e-07 - mean_squared_error: 2.9849e-07 - val_loss: 4.6282e-07 - val_mean_squared_error: 4.6282e-07\n",
      "Epoch 956/1000\n",
      "1/1 [==============================] - 0s 17ms/step - loss: 2.8921e-07 - mean_squared_error: 2.8921e-07 - val_loss: 4.1987e-07 - val_mean_squared_error: 4.1987e-07\n",
      "Epoch 957/1000\n",
      "1/1 [==============================] - 0s 18ms/step - loss: 2.8505e-07 - mean_squared_error: 2.8505e-07 - val_loss: 4.4059e-07 - val_mean_squared_error: 4.4059e-07\n",
      "Epoch 958/1000\n",
      "1/1 [==============================] - 0s 17ms/step - loss: 2.8269e-07 - mean_squared_error: 2.8269e-07 - val_loss: 4.8955e-07 - val_mean_squared_error: 4.8955e-07\n",
      "Epoch 959/1000\n",
      "1/1 [==============================] - 0s 23ms/step - loss: 2.8546e-07 - mean_squared_error: 2.8546e-07 - val_loss: 4.1218e-07 - val_mean_squared_error: 4.1218e-07\n",
      "Epoch 960/1000\n",
      "1/1 [==============================] - 0s 18ms/step - loss: 2.7097e-07 - mean_squared_error: 2.7097e-07 - val_loss: 4.0042e-07 - val_mean_squared_error: 4.0042e-07\n",
      "Epoch 961/1000\n",
      "1/1 [==============================] - 0s 18ms/step - loss: 2.6800e-07 - mean_squared_error: 2.6800e-07 - val_loss: 4.4171e-07 - val_mean_squared_error: 4.4171e-07\n",
      "Epoch 962/1000\n",
      "1/1 [==============================] - 0s 18ms/step - loss: 2.6477e-07 - mean_squared_error: 2.6477e-07 - val_loss: 4.4089e-07 - val_mean_squared_error: 4.4089e-07\n",
      "Epoch 963/1000\n",
      "1/1 [==============================] - 0s 22ms/step - loss: 2.6817e-07 - mean_squared_error: 2.6817e-07 - val_loss: 3.9240e-07 - val_mean_squared_error: 3.9240e-07\n",
      "Epoch 964/1000\n",
      "1/1 [==============================] - 0s 19ms/step - loss: 2.6376e-07 - mean_squared_error: 2.6376e-07 - val_loss: 3.7998e-07 - val_mean_squared_error: 3.7998e-07\n",
      "Epoch 965/1000\n",
      "1/1 [==============================] - 0s 20ms/step - loss: 2.5980e-07 - mean_squared_error: 2.5980e-07 - val_loss: 4.2790e-07 - val_mean_squared_error: 4.2790e-07\n",
      "Epoch 966/1000\n",
      "1/1 [==============================] - 0s 24ms/step - loss: 2.5446e-07 - mean_squared_error: 2.5446e-07 - val_loss: 4.1293e-07 - val_mean_squared_error: 4.1293e-07\n",
      "Epoch 967/1000\n",
      "1/1 [==============================] - 0s 19ms/step - loss: 2.4878e-07 - mean_squared_error: 2.4878e-07 - val_loss: 3.5826e-07 - val_mean_squared_error: 3.5826e-07\n",
      "Epoch 968/1000\n",
      "1/1 [==============================] - 0s 26ms/step - loss: 2.4568e-07 - mean_squared_error: 2.4568e-07 - val_loss: 3.6953e-07 - val_mean_squared_error: 3.6953e-07\n",
      "Epoch 969/1000\n",
      "1/1 [==============================] - 0s 25ms/step - loss: 2.4604e-07 - mean_squared_error: 2.4604e-07 - val_loss: 4.2045e-07 - val_mean_squared_error: 4.2045e-07\n",
      "Epoch 970/1000\n",
      "1/1 [==============================] - 0s 17ms/step - loss: 2.3755e-07 - mean_squared_error: 2.3755e-07 - val_loss: 3.6266e-07 - val_mean_squared_error: 3.6266e-07\n",
      "Epoch 971/1000\n",
      "1/1 [==============================] - 0s 17ms/step - loss: 2.3047e-07 - mean_squared_error: 2.3047e-07 - val_loss: 3.3646e-07 - val_mean_squared_error: 3.3646e-07\n",
      "Epoch 972/1000\n",
      "1/1 [==============================] - 0s 17ms/step - loss: 2.3703e-07 - mean_squared_error: 2.3703e-07 - val_loss: 3.4743e-07 - val_mean_squared_error: 3.4743e-07\n",
      "Epoch 973/1000\n",
      "1/1 [==============================] - 0s 22ms/step - loss: 2.2522e-07 - mean_squared_error: 2.2522e-07 - val_loss: 3.7472e-07 - val_mean_squared_error: 3.7472e-07\n",
      "Epoch 974/1000\n",
      "1/1 [==============================] - 0s 17ms/step - loss: 2.2043e-07 - mean_squared_error: 2.2043e-07 - val_loss: 3.5574e-07 - val_mean_squared_error: 3.5574e-07\n",
      "Epoch 975/1000\n",
      "1/1 [==============================] - 0s 18ms/step - loss: 2.1484e-07 - mean_squared_error: 2.1484e-07 - val_loss: 3.1542e-07 - val_mean_squared_error: 3.1542e-07\n",
      "Epoch 976/1000\n",
      "1/1 [==============================] - 0s 17ms/step - loss: 2.1647e-07 - mean_squared_error: 2.1647e-07 - val_loss: 3.2845e-07 - val_mean_squared_error: 3.2845e-07\n",
      "Epoch 977/1000\n",
      "1/1 [==============================] - 0s 19ms/step - loss: 2.0671e-07 - mean_squared_error: 2.0671e-07 - val_loss: 3.4138e-07 - val_mean_squared_error: 3.4138e-07\n",
      "Epoch 978/1000\n",
      "1/1 [==============================] - 0s 20ms/step - loss: 2.0724e-07 - mean_squared_error: 2.0724e-07 - val_loss: 3.2792e-07 - val_mean_squared_error: 3.2792e-07\n",
      "Epoch 979/1000\n",
      "1/1 [==============================] - 0s 17ms/step - loss: 2.0248e-07 - mean_squared_error: 2.0248e-07 - val_loss: 3.1291e-07 - val_mean_squared_error: 3.1291e-07\n",
      "Epoch 980/1000\n",
      "1/1 [==============================] - 0s 16ms/step - loss: 2.0041e-07 - mean_squared_error: 2.0041e-07 - val_loss: 3.2068e-07 - val_mean_squared_error: 3.2068e-07\n",
      "Epoch 981/1000\n",
      "1/1 [==============================] - 0s 17ms/step - loss: 1.9715e-07 - mean_squared_error: 1.9715e-07 - val_loss: 3.3074e-07 - val_mean_squared_error: 3.3074e-07\n",
      "Epoch 982/1000\n",
      "1/1 [==============================] - 0s 19ms/step - loss: 2.0065e-07 - mean_squared_error: 2.0065e-07 - val_loss: 3.1004e-07 - val_mean_squared_error: 3.1004e-07\n",
      "Epoch 983/1000\n",
      "1/1 [==============================] - 0s 22ms/step - loss: 1.9589e-07 - mean_squared_error: 1.9589e-07 - val_loss: 2.8669e-07 - val_mean_squared_error: 2.8669e-07\n",
      "Epoch 984/1000\n",
      "1/1 [==============================] - 0s 22ms/step - loss: 1.9600e-07 - mean_squared_error: 1.9600e-07 - val_loss: 3.0154e-07 - val_mean_squared_error: 3.0154e-07\n",
      "Epoch 985/1000\n",
      "1/1 [==============================] - 0s 16ms/step - loss: 1.8888e-07 - mean_squared_error: 1.8888e-07 - val_loss: 2.9635e-07 - val_mean_squared_error: 2.9635e-07\n",
      "Epoch 986/1000\n",
      "1/1 [==============================] - 0s 20ms/step - loss: 1.8788e-07 - mean_squared_error: 1.8788e-07 - val_loss: 2.8494e-07 - val_mean_squared_error: 2.8494e-07\n",
      "Epoch 987/1000\n",
      "1/1 [==============================] - 0s 22ms/step - loss: 1.8404e-07 - mean_squared_error: 1.8404e-07 - val_loss: 2.7498e-07 - val_mean_squared_error: 2.7498e-07\n",
      "Epoch 988/1000\n",
      "1/1 [==============================] - 0s 21ms/step - loss: 1.8202e-07 - mean_squared_error: 1.8202e-07 - val_loss: 2.6920e-07 - val_mean_squared_error: 2.6920e-07\n",
      "Epoch 989/1000\n",
      "1/1 [==============================] - 0s 16ms/step - loss: 1.7913e-07 - mean_squared_error: 1.7913e-07 - val_loss: 2.8283e-07 - val_mean_squared_error: 2.8283e-07\n",
      "Epoch 990/1000\n",
      "1/1 [==============================] - 0s 21ms/step - loss: 1.7476e-07 - mean_squared_error: 1.7476e-07 - val_loss: 2.5421e-07 - val_mean_squared_error: 2.5421e-07\n",
      "Epoch 991/1000\n",
      "1/1 [==============================] - 0s 17ms/step - loss: 1.7271e-07 - mean_squared_error: 1.7271e-07 - val_loss: 2.5286e-07 - val_mean_squared_error: 2.5286e-07\n",
      "Epoch 992/1000\n",
      "1/1 [==============================] - 0s 19ms/step - loss: 1.6537e-07 - mean_squared_error: 1.6537e-07 - val_loss: 2.5386e-07 - val_mean_squared_error: 2.5386e-07\n",
      "Epoch 993/1000\n",
      "1/1 [==============================] - 0s 17ms/step - loss: 1.6709e-07 - mean_squared_error: 1.6709e-07 - val_loss: 2.7076e-07 - val_mean_squared_error: 2.7076e-07\n",
      "Epoch 994/1000\n",
      "1/1 [==============================] - 0s 19ms/step - loss: 1.5931e-07 - mean_squared_error: 1.5931e-07 - val_loss: 2.5649e-07 - val_mean_squared_error: 2.5649e-07\n",
      "Epoch 995/1000\n",
      "1/1 [==============================] - 0s 19ms/step - loss: 1.5727e-07 - mean_squared_error: 1.5727e-07 - val_loss: 2.2301e-07 - val_mean_squared_error: 2.2301e-07\n",
      "Epoch 996/1000\n",
      "1/1 [==============================] - 0s 18ms/step - loss: 1.6194e-07 - mean_squared_error: 1.6194e-07 - val_loss: 2.4957e-07 - val_mean_squared_error: 2.4957e-07\n",
      "Epoch 997/1000\n",
      "1/1 [==============================] - 0s 21ms/step - loss: 1.5592e-07 - mean_squared_error: 1.5592e-07 - val_loss: 2.5940e-07 - val_mean_squared_error: 2.5940e-07\n",
      "Epoch 998/1000\n",
      "1/1 [==============================] - 0s 18ms/step - loss: 1.5362e-07 - mean_squared_error: 1.5362e-07 - val_loss: 2.4445e-07 - val_mean_squared_error: 2.4445e-07\n",
      "Epoch 999/1000\n",
      "1/1 [==============================] - 0s 21ms/step - loss: 1.5057e-07 - mean_squared_error: 1.5057e-07 - val_loss: 2.2838e-07 - val_mean_squared_error: 2.2838e-07\n",
      "Epoch 1000/1000\n",
      "1/1 [==============================] - 0s 17ms/step - loss: 1.4978e-07 - mean_squared_error: 1.4978e-07 - val_loss: 2.3039e-07 - val_mean_squared_error: 2.3039e-07\n",
      "Training took: 22.50 Sec\n"
     ]
    }
   ],
   "source": [
    "t = time.time()\n",
    "#hist = model.fit(inputs, z, epochs=1000, verbose=0)\n",
    "hist =model.fit(inputs, z, validation_data=(inputs_valid,z_valid), epochs=1000, batch_size=1000)\n",
    "print (str.format(\"Training took: {:0.2f} Sec\", time.time() - t))"
   ]
  },
  {
   "cell_type": "code",
   "execution_count": 24,
   "metadata": {},
   "outputs": [
    {
     "output_type": "display_data",
     "data": {
      "text/plain": "<Figure size 432x288 with 1 Axes>",
      "image/svg+xml": "<?xml version=\"1.0\" encoding=\"utf-8\" standalone=\"no\"?>\n<!DOCTYPE svg PUBLIC \"-//W3C//DTD SVG 1.1//EN\"\n  \"http://www.w3.org/Graphics/SVG/1.1/DTD/svg11.dtd\">\n<!-- Created with matplotlib (https://matplotlib.org/) -->\n<svg height=\"262.19625pt\" version=\"1.1\" viewBox=\"0 0 401.690625 262.19625\" width=\"401.690625pt\" xmlns=\"http://www.w3.org/2000/svg\" xmlns:xlink=\"http://www.w3.org/1999/xlink\">\n <metadata>\n  <rdf:RDF xmlns:cc=\"http://creativecommons.org/ns#\" xmlns:dc=\"http://purl.org/dc/elements/1.1/\" xmlns:rdf=\"http://www.w3.org/1999/02/22-rdf-syntax-ns#\">\n   <cc:Work>\n    <dc:type rdf:resource=\"http://purl.org/dc/dcmitype/StillImage\"/>\n    <dc:date>2021-06-15T09:50:37.214028</dc:date>\n    <dc:format>image/svg+xml</dc:format>\n    <dc:creator>\n     <cc:Agent>\n      <dc:title>Matplotlib v3.3.4, https://matplotlib.org/</dc:title>\n     </cc:Agent>\n    </dc:creator>\n   </cc:Work>\n  </rdf:RDF>\n </metadata>\n <defs>\n  <style type=\"text/css\">*{stroke-linecap:butt;stroke-linejoin:round;}</style>\n </defs>\n <g id=\"figure_1\">\n  <g id=\"patch_1\">\n   <path d=\"M 0 262.19625 \nL 401.690625 262.19625 \nL 401.690625 0 \nL 0 0 \nz\n\" style=\"fill:none;\"/>\n  </g>\n  <g id=\"axes_1\">\n   <g id=\"patch_2\">\n    <path d=\"M 59.690625 224.64 \nL 394.490625 224.64 \nL 394.490625 7.2 \nL 59.690625 7.2 \nz\n\" style=\"fill:#ffffff;\"/>\n   </g>\n   <g id=\"matplotlib.axis_1\">\n    <g id=\"xtick_1\">\n     <g id=\"line2d_1\">\n      <defs>\n       <path d=\"M 0 0 \nL 0 3.5 \n\" id=\"mb8a0d6c898\" style=\"stroke:#000000;stroke-width:0.8;\"/>\n      </defs>\n      <g>\n       <use style=\"stroke:#000000;stroke-width:0.8;\" x=\"74.908807\" xlink:href=\"#mb8a0d6c898\" y=\"224.64\"/>\n      </g>\n     </g>\n     <g id=\"text_1\">\n      <!-- 0 -->\n      <g transform=\"translate(71.727557 239.238437)scale(0.1 -0.1)\">\n       <defs>\n        <path d=\"M 31.78125 66.40625 \nQ 24.171875 66.40625 20.328125 58.90625 \nQ 16.5 51.421875 16.5 36.375 \nQ 16.5 21.390625 20.328125 13.890625 \nQ 24.171875 6.390625 31.78125 6.390625 \nQ 39.453125 6.390625 43.28125 13.890625 \nQ 47.125 21.390625 47.125 36.375 \nQ 47.125 51.421875 43.28125 58.90625 \nQ 39.453125 66.40625 31.78125 66.40625 \nz\nM 31.78125 74.21875 \nQ 44.046875 74.21875 50.515625 64.515625 \nQ 56.984375 54.828125 56.984375 36.375 \nQ 56.984375 17.96875 50.515625 8.265625 \nQ 44.046875 -1.421875 31.78125 -1.421875 \nQ 19.53125 -1.421875 13.0625 8.265625 \nQ 6.59375 17.96875 6.59375 36.375 \nQ 6.59375 54.828125 13.0625 64.515625 \nQ 19.53125 74.21875 31.78125 74.21875 \nz\n\" id=\"DejaVuSans-48\"/>\n       </defs>\n       <use xlink:href=\"#DejaVuSans-48\"/>\n      </g>\n     </g>\n    </g>\n    <g id=\"xtick_2\">\n     <g id=\"line2d_2\">\n      <g>\n       <use style=\"stroke:#000000;stroke-width:0.8;\" x=\"135.842468\" xlink:href=\"#mb8a0d6c898\" y=\"224.64\"/>\n      </g>\n     </g>\n     <g id=\"text_2\">\n      <!-- 200 -->\n      <g transform=\"translate(126.298718 239.238437)scale(0.1 -0.1)\">\n       <defs>\n        <path d=\"M 19.1875 8.296875 \nL 53.609375 8.296875 \nL 53.609375 0 \nL 7.328125 0 \nL 7.328125 8.296875 \nQ 12.9375 14.109375 22.625 23.890625 \nQ 32.328125 33.6875 34.8125 36.53125 \nQ 39.546875 41.84375 41.421875 45.53125 \nQ 43.3125 49.21875 43.3125 52.78125 \nQ 43.3125 58.59375 39.234375 62.25 \nQ 35.15625 65.921875 28.609375 65.921875 \nQ 23.96875 65.921875 18.8125 64.3125 \nQ 13.671875 62.703125 7.8125 59.421875 \nL 7.8125 69.390625 \nQ 13.765625 71.78125 18.9375 73 \nQ 24.125 74.21875 28.421875 74.21875 \nQ 39.75 74.21875 46.484375 68.546875 \nQ 53.21875 62.890625 53.21875 53.421875 \nQ 53.21875 48.921875 51.53125 44.890625 \nQ 49.859375 40.875 45.40625 35.40625 \nQ 44.1875 33.984375 37.640625 27.21875 \nQ 31.109375 20.453125 19.1875 8.296875 \nz\n\" id=\"DejaVuSans-50\"/>\n       </defs>\n       <use xlink:href=\"#DejaVuSans-50\"/>\n       <use x=\"63.623047\" xlink:href=\"#DejaVuSans-48\"/>\n       <use x=\"127.246094\" xlink:href=\"#DejaVuSans-48\"/>\n      </g>\n     </g>\n    </g>\n    <g id=\"xtick_3\">\n     <g id=\"line2d_3\">\n      <g>\n       <use style=\"stroke:#000000;stroke-width:0.8;\" x=\"196.776129\" xlink:href=\"#mb8a0d6c898\" y=\"224.64\"/>\n      </g>\n     </g>\n     <g id=\"text_3\">\n      <!-- 400 -->\n      <g transform=\"translate(187.232379 239.238437)scale(0.1 -0.1)\">\n       <defs>\n        <path d=\"M 37.796875 64.3125 \nL 12.890625 25.390625 \nL 37.796875 25.390625 \nz\nM 35.203125 72.90625 \nL 47.609375 72.90625 \nL 47.609375 25.390625 \nL 58.015625 25.390625 \nL 58.015625 17.1875 \nL 47.609375 17.1875 \nL 47.609375 0 \nL 37.796875 0 \nL 37.796875 17.1875 \nL 4.890625 17.1875 \nL 4.890625 26.703125 \nz\n\" id=\"DejaVuSans-52\"/>\n       </defs>\n       <use xlink:href=\"#DejaVuSans-52\"/>\n       <use x=\"63.623047\" xlink:href=\"#DejaVuSans-48\"/>\n       <use x=\"127.246094\" xlink:href=\"#DejaVuSans-48\"/>\n      </g>\n     </g>\n    </g>\n    <g id=\"xtick_4\">\n     <g id=\"line2d_4\">\n      <g>\n       <use style=\"stroke:#000000;stroke-width:0.8;\" x=\"257.70979\" xlink:href=\"#mb8a0d6c898\" y=\"224.64\"/>\n      </g>\n     </g>\n     <g id=\"text_4\">\n      <!-- 600 -->\n      <g transform=\"translate(248.16604 239.238437)scale(0.1 -0.1)\">\n       <defs>\n        <path d=\"M 33.015625 40.375 \nQ 26.375 40.375 22.484375 35.828125 \nQ 18.609375 31.296875 18.609375 23.390625 \nQ 18.609375 15.53125 22.484375 10.953125 \nQ 26.375 6.390625 33.015625 6.390625 \nQ 39.65625 6.390625 43.53125 10.953125 \nQ 47.40625 15.53125 47.40625 23.390625 \nQ 47.40625 31.296875 43.53125 35.828125 \nQ 39.65625 40.375 33.015625 40.375 \nz\nM 52.59375 71.296875 \nL 52.59375 62.3125 \nQ 48.875 64.0625 45.09375 64.984375 \nQ 41.3125 65.921875 37.59375 65.921875 \nQ 27.828125 65.921875 22.671875 59.328125 \nQ 17.53125 52.734375 16.796875 39.40625 \nQ 19.671875 43.65625 24.015625 45.921875 \nQ 28.375 48.1875 33.59375 48.1875 \nQ 44.578125 48.1875 50.953125 41.515625 \nQ 57.328125 34.859375 57.328125 23.390625 \nQ 57.328125 12.15625 50.6875 5.359375 \nQ 44.046875 -1.421875 33.015625 -1.421875 \nQ 20.359375 -1.421875 13.671875 8.265625 \nQ 6.984375 17.96875 6.984375 36.375 \nQ 6.984375 53.65625 15.1875 63.9375 \nQ 23.390625 74.21875 37.203125 74.21875 \nQ 40.921875 74.21875 44.703125 73.484375 \nQ 48.484375 72.75 52.59375 71.296875 \nz\n\" id=\"DejaVuSans-54\"/>\n       </defs>\n       <use xlink:href=\"#DejaVuSans-54\"/>\n       <use x=\"63.623047\" xlink:href=\"#DejaVuSans-48\"/>\n       <use x=\"127.246094\" xlink:href=\"#DejaVuSans-48\"/>\n      </g>\n     </g>\n    </g>\n    <g id=\"xtick_5\">\n     <g id=\"line2d_5\">\n      <g>\n       <use style=\"stroke:#000000;stroke-width:0.8;\" x=\"318.643451\" xlink:href=\"#mb8a0d6c898\" y=\"224.64\"/>\n      </g>\n     </g>\n     <g id=\"text_5\">\n      <!-- 800 -->\n      <g transform=\"translate(309.099701 239.238437)scale(0.1 -0.1)\">\n       <defs>\n        <path d=\"M 31.78125 34.625 \nQ 24.75 34.625 20.71875 30.859375 \nQ 16.703125 27.09375 16.703125 20.515625 \nQ 16.703125 13.921875 20.71875 10.15625 \nQ 24.75 6.390625 31.78125 6.390625 \nQ 38.8125 6.390625 42.859375 10.171875 \nQ 46.921875 13.96875 46.921875 20.515625 \nQ 46.921875 27.09375 42.890625 30.859375 \nQ 38.875 34.625 31.78125 34.625 \nz\nM 21.921875 38.8125 \nQ 15.578125 40.375 12.03125 44.71875 \nQ 8.5 49.078125 8.5 55.328125 \nQ 8.5 64.0625 14.71875 69.140625 \nQ 20.953125 74.21875 31.78125 74.21875 \nQ 42.671875 74.21875 48.875 69.140625 \nQ 55.078125 64.0625 55.078125 55.328125 \nQ 55.078125 49.078125 51.53125 44.71875 \nQ 48 40.375 41.703125 38.8125 \nQ 48.828125 37.15625 52.796875 32.3125 \nQ 56.78125 27.484375 56.78125 20.515625 \nQ 56.78125 9.90625 50.3125 4.234375 \nQ 43.84375 -1.421875 31.78125 -1.421875 \nQ 19.734375 -1.421875 13.25 4.234375 \nQ 6.78125 9.90625 6.78125 20.515625 \nQ 6.78125 27.484375 10.78125 32.3125 \nQ 14.796875 37.15625 21.921875 38.8125 \nz\nM 18.3125 54.390625 \nQ 18.3125 48.734375 21.84375 45.5625 \nQ 25.390625 42.390625 31.78125 42.390625 \nQ 38.140625 42.390625 41.71875 45.5625 \nQ 45.3125 48.734375 45.3125 54.390625 \nQ 45.3125 60.0625 41.71875 63.234375 \nQ 38.140625 66.40625 31.78125 66.40625 \nQ 25.390625 66.40625 21.84375 63.234375 \nQ 18.3125 60.0625 18.3125 54.390625 \nz\n\" id=\"DejaVuSans-56\"/>\n       </defs>\n       <use xlink:href=\"#DejaVuSans-56\"/>\n       <use x=\"63.623047\" xlink:href=\"#DejaVuSans-48\"/>\n       <use x=\"127.246094\" xlink:href=\"#DejaVuSans-48\"/>\n      </g>\n     </g>\n    </g>\n    <g id=\"xtick_6\">\n     <g id=\"line2d_6\">\n      <g>\n       <use style=\"stroke:#000000;stroke-width:0.8;\" x=\"379.577111\" xlink:href=\"#mb8a0d6c898\" y=\"224.64\"/>\n      </g>\n     </g>\n     <g id=\"text_6\">\n      <!-- 1000 -->\n      <g transform=\"translate(366.852111 239.238437)scale(0.1 -0.1)\">\n       <defs>\n        <path d=\"M 12.40625 8.296875 \nL 28.515625 8.296875 \nL 28.515625 63.921875 \nL 10.984375 60.40625 \nL 10.984375 69.390625 \nL 28.421875 72.90625 \nL 38.28125 72.90625 \nL 38.28125 8.296875 \nL 54.390625 8.296875 \nL 54.390625 0 \nL 12.40625 0 \nz\n\" id=\"DejaVuSans-49\"/>\n       </defs>\n       <use xlink:href=\"#DejaVuSans-49\"/>\n       <use x=\"63.623047\" xlink:href=\"#DejaVuSans-48\"/>\n       <use x=\"127.246094\" xlink:href=\"#DejaVuSans-48\"/>\n       <use x=\"190.869141\" xlink:href=\"#DejaVuSans-48\"/>\n      </g>\n     </g>\n    </g>\n    <g id=\"text_7\">\n     <!-- Epoch Number -->\n     <g transform=\"translate(190.104688 252.916562)scale(0.1 -0.1)\">\n      <defs>\n       <path d=\"M 9.8125 72.90625 \nL 55.90625 72.90625 \nL 55.90625 64.59375 \nL 19.671875 64.59375 \nL 19.671875 43.015625 \nL 54.390625 43.015625 \nL 54.390625 34.71875 \nL 19.671875 34.71875 \nL 19.671875 8.296875 \nL 56.78125 8.296875 \nL 56.78125 0 \nL 9.8125 0 \nz\n\" id=\"DejaVuSans-69\"/>\n       <path d=\"M 18.109375 8.203125 \nL 18.109375 -20.796875 \nL 9.078125 -20.796875 \nL 9.078125 54.6875 \nL 18.109375 54.6875 \nL 18.109375 46.390625 \nQ 20.953125 51.265625 25.265625 53.625 \nQ 29.59375 56 35.59375 56 \nQ 45.5625 56 51.78125 48.09375 \nQ 58.015625 40.1875 58.015625 27.296875 \nQ 58.015625 14.40625 51.78125 6.484375 \nQ 45.5625 -1.421875 35.59375 -1.421875 \nQ 29.59375 -1.421875 25.265625 0.953125 \nQ 20.953125 3.328125 18.109375 8.203125 \nz\nM 48.6875 27.296875 \nQ 48.6875 37.203125 44.609375 42.84375 \nQ 40.53125 48.484375 33.40625 48.484375 \nQ 26.265625 48.484375 22.1875 42.84375 \nQ 18.109375 37.203125 18.109375 27.296875 \nQ 18.109375 17.390625 22.1875 11.75 \nQ 26.265625 6.109375 33.40625 6.109375 \nQ 40.53125 6.109375 44.609375 11.75 \nQ 48.6875 17.390625 48.6875 27.296875 \nz\n\" id=\"DejaVuSans-112\"/>\n       <path d=\"M 30.609375 48.390625 \nQ 23.390625 48.390625 19.1875 42.75 \nQ 14.984375 37.109375 14.984375 27.296875 \nQ 14.984375 17.484375 19.15625 11.84375 \nQ 23.34375 6.203125 30.609375 6.203125 \nQ 37.796875 6.203125 41.984375 11.859375 \nQ 46.1875 17.53125 46.1875 27.296875 \nQ 46.1875 37.015625 41.984375 42.703125 \nQ 37.796875 48.390625 30.609375 48.390625 \nz\nM 30.609375 56 \nQ 42.328125 56 49.015625 48.375 \nQ 55.71875 40.765625 55.71875 27.296875 \nQ 55.71875 13.875 49.015625 6.21875 \nQ 42.328125 -1.421875 30.609375 -1.421875 \nQ 18.84375 -1.421875 12.171875 6.21875 \nQ 5.515625 13.875 5.515625 27.296875 \nQ 5.515625 40.765625 12.171875 48.375 \nQ 18.84375 56 30.609375 56 \nz\n\" id=\"DejaVuSans-111\"/>\n       <path d=\"M 48.78125 52.59375 \nL 48.78125 44.1875 \nQ 44.96875 46.296875 41.140625 47.34375 \nQ 37.3125 48.390625 33.40625 48.390625 \nQ 24.65625 48.390625 19.8125 42.84375 \nQ 14.984375 37.3125 14.984375 27.296875 \nQ 14.984375 17.28125 19.8125 11.734375 \nQ 24.65625 6.203125 33.40625 6.203125 \nQ 37.3125 6.203125 41.140625 7.25 \nQ 44.96875 8.296875 48.78125 10.40625 \nL 48.78125 2.09375 \nQ 45.015625 0.34375 40.984375 -0.53125 \nQ 36.96875 -1.421875 32.421875 -1.421875 \nQ 20.0625 -1.421875 12.78125 6.34375 \nQ 5.515625 14.109375 5.515625 27.296875 \nQ 5.515625 40.671875 12.859375 48.328125 \nQ 20.21875 56 33.015625 56 \nQ 37.15625 56 41.109375 55.140625 \nQ 45.0625 54.296875 48.78125 52.59375 \nz\n\" id=\"DejaVuSans-99\"/>\n       <path d=\"M 54.890625 33.015625 \nL 54.890625 0 \nL 45.90625 0 \nL 45.90625 32.71875 \nQ 45.90625 40.484375 42.875 44.328125 \nQ 39.84375 48.1875 33.796875 48.1875 \nQ 26.515625 48.1875 22.3125 43.546875 \nQ 18.109375 38.921875 18.109375 30.90625 \nL 18.109375 0 \nL 9.078125 0 \nL 9.078125 75.984375 \nL 18.109375 75.984375 \nL 18.109375 46.1875 \nQ 21.34375 51.125 25.703125 53.5625 \nQ 30.078125 56 35.796875 56 \nQ 45.21875 56 50.046875 50.171875 \nQ 54.890625 44.34375 54.890625 33.015625 \nz\n\" id=\"DejaVuSans-104\"/>\n       <path id=\"DejaVuSans-32\"/>\n       <path d=\"M 9.8125 72.90625 \nL 23.09375 72.90625 \nL 55.421875 11.921875 \nL 55.421875 72.90625 \nL 64.984375 72.90625 \nL 64.984375 0 \nL 51.703125 0 \nL 19.390625 60.984375 \nL 19.390625 0 \nL 9.8125 0 \nz\n\" id=\"DejaVuSans-78\"/>\n       <path d=\"M 8.5 21.578125 \nL 8.5 54.6875 \nL 17.484375 54.6875 \nL 17.484375 21.921875 \nQ 17.484375 14.15625 20.5 10.265625 \nQ 23.53125 6.390625 29.59375 6.390625 \nQ 36.859375 6.390625 41.078125 11.03125 \nQ 45.3125 15.671875 45.3125 23.6875 \nL 45.3125 54.6875 \nL 54.296875 54.6875 \nL 54.296875 0 \nL 45.3125 0 \nL 45.3125 8.40625 \nQ 42.046875 3.421875 37.71875 1 \nQ 33.40625 -1.421875 27.6875 -1.421875 \nQ 18.265625 -1.421875 13.375 4.4375 \nQ 8.5 10.296875 8.5 21.578125 \nz\nM 31.109375 56 \nz\n\" id=\"DejaVuSans-117\"/>\n       <path d=\"M 52 44.1875 \nQ 55.375 50.25 60.0625 53.125 \nQ 64.75 56 71.09375 56 \nQ 79.640625 56 84.28125 50.015625 \nQ 88.921875 44.046875 88.921875 33.015625 \nL 88.921875 0 \nL 79.890625 0 \nL 79.890625 32.71875 \nQ 79.890625 40.578125 77.09375 44.375 \nQ 74.3125 48.1875 68.609375 48.1875 \nQ 61.625 48.1875 57.5625 43.546875 \nQ 53.515625 38.921875 53.515625 30.90625 \nL 53.515625 0 \nL 44.484375 0 \nL 44.484375 32.71875 \nQ 44.484375 40.625 41.703125 44.40625 \nQ 38.921875 48.1875 33.109375 48.1875 \nQ 26.21875 48.1875 22.15625 43.53125 \nQ 18.109375 38.875 18.109375 30.90625 \nL 18.109375 0 \nL 9.078125 0 \nL 9.078125 54.6875 \nL 18.109375 54.6875 \nL 18.109375 46.1875 \nQ 21.1875 51.21875 25.484375 53.609375 \nQ 29.78125 56 35.6875 56 \nQ 41.65625 56 45.828125 52.96875 \nQ 50 49.953125 52 44.1875 \nz\n\" id=\"DejaVuSans-109\"/>\n       <path d=\"M 48.6875 27.296875 \nQ 48.6875 37.203125 44.609375 42.84375 \nQ 40.53125 48.484375 33.40625 48.484375 \nQ 26.265625 48.484375 22.1875 42.84375 \nQ 18.109375 37.203125 18.109375 27.296875 \nQ 18.109375 17.390625 22.1875 11.75 \nQ 26.265625 6.109375 33.40625 6.109375 \nQ 40.53125 6.109375 44.609375 11.75 \nQ 48.6875 17.390625 48.6875 27.296875 \nz\nM 18.109375 46.390625 \nQ 20.953125 51.265625 25.265625 53.625 \nQ 29.59375 56 35.59375 56 \nQ 45.5625 56 51.78125 48.09375 \nQ 58.015625 40.1875 58.015625 27.296875 \nQ 58.015625 14.40625 51.78125 6.484375 \nQ 45.5625 -1.421875 35.59375 -1.421875 \nQ 29.59375 -1.421875 25.265625 0.953125 \nQ 20.953125 3.328125 18.109375 8.203125 \nL 18.109375 0 \nL 9.078125 0 \nL 9.078125 75.984375 \nL 18.109375 75.984375 \nz\n\" id=\"DejaVuSans-98\"/>\n       <path d=\"M 56.203125 29.59375 \nL 56.203125 25.203125 \nL 14.890625 25.203125 \nQ 15.484375 15.921875 20.484375 11.0625 \nQ 25.484375 6.203125 34.421875 6.203125 \nQ 39.59375 6.203125 44.453125 7.46875 \nQ 49.3125 8.734375 54.109375 11.28125 \nL 54.109375 2.78125 \nQ 49.265625 0.734375 44.1875 -0.34375 \nQ 39.109375 -1.421875 33.890625 -1.421875 \nQ 20.796875 -1.421875 13.15625 6.1875 \nQ 5.515625 13.8125 5.515625 26.8125 \nQ 5.515625 40.234375 12.765625 48.109375 \nQ 20.015625 56 32.328125 56 \nQ 43.359375 56 49.78125 48.890625 \nQ 56.203125 41.796875 56.203125 29.59375 \nz\nM 47.21875 32.234375 \nQ 47.125 39.59375 43.09375 43.984375 \nQ 39.0625 48.390625 32.421875 48.390625 \nQ 24.90625 48.390625 20.390625 44.140625 \nQ 15.875 39.890625 15.1875 32.171875 \nz\n\" id=\"DejaVuSans-101\"/>\n       <path d=\"M 41.109375 46.296875 \nQ 39.59375 47.171875 37.8125 47.578125 \nQ 36.03125 48 33.890625 48 \nQ 26.265625 48 22.1875 43.046875 \nQ 18.109375 38.09375 18.109375 28.8125 \nL 18.109375 0 \nL 9.078125 0 \nL 9.078125 54.6875 \nL 18.109375 54.6875 \nL 18.109375 46.1875 \nQ 20.953125 51.171875 25.484375 53.578125 \nQ 30.03125 56 36.53125 56 \nQ 37.453125 56 38.578125 55.875 \nQ 39.703125 55.765625 41.0625 55.515625 \nz\n\" id=\"DejaVuSans-114\"/>\n      </defs>\n      <use xlink:href=\"#DejaVuSans-69\"/>\n      <use x=\"63.183594\" xlink:href=\"#DejaVuSans-112\"/>\n      <use x=\"126.660156\" xlink:href=\"#DejaVuSans-111\"/>\n      <use x=\"187.841797\" xlink:href=\"#DejaVuSans-99\"/>\n      <use x=\"242.822266\" xlink:href=\"#DejaVuSans-104\"/>\n      <use x=\"306.201172\" xlink:href=\"#DejaVuSans-32\"/>\n      <use x=\"337.988281\" xlink:href=\"#DejaVuSans-78\"/>\n      <use x=\"412.792969\" xlink:href=\"#DejaVuSans-117\"/>\n      <use x=\"476.171875\" xlink:href=\"#DejaVuSans-109\"/>\n      <use x=\"573.583984\" xlink:href=\"#DejaVuSans-98\"/>\n      <use x=\"637.060547\" xlink:href=\"#DejaVuSans-101\"/>\n      <use x=\"698.583984\" xlink:href=\"#DejaVuSans-114\"/>\n     </g>\n    </g>\n   </g>\n   <g id=\"matplotlib.axis_2\">\n    <g id=\"ytick_1\">\n     <g id=\"line2d_7\">\n      <defs>\n       <path d=\"M 0 0 \nL -3.5 0 \n\" id=\"mc38ec2115b\" style=\"stroke:#000000;stroke-width:0.8;\"/>\n      </defs>\n      <g>\n       <use style=\"stroke:#000000;stroke-width:0.8;\" x=\"59.690625\" xlink:href=\"#mc38ec2115b\" y=\"214.758489\"/>\n      </g>\n     </g>\n     <g id=\"text_8\">\n      <!-- 0 -->\n      <g transform=\"translate(46.328125 218.557708)scale(0.1 -0.1)\">\n       <use xlink:href=\"#DejaVuSans-48\"/>\n      </g>\n     </g>\n    </g>\n    <g id=\"ytick_2\">\n     <g id=\"line2d_8\">\n      <g>\n       <use style=\"stroke:#000000;stroke-width:0.8;\" x=\"59.690625\" xlink:href=\"#mc38ec2115b\" y=\"166.796068\"/>\n      </g>\n     </g>\n     <g id=\"text_9\">\n      <!-- 10000 -->\n      <g transform=\"translate(20.878125 170.595287)scale(0.1 -0.1)\">\n       <use xlink:href=\"#DejaVuSans-49\"/>\n       <use x=\"63.623047\" xlink:href=\"#DejaVuSans-48\"/>\n       <use x=\"127.246094\" xlink:href=\"#DejaVuSans-48\"/>\n       <use x=\"190.869141\" xlink:href=\"#DejaVuSans-48\"/>\n       <use x=\"254.492188\" xlink:href=\"#DejaVuSans-48\"/>\n      </g>\n     </g>\n    </g>\n    <g id=\"ytick_3\">\n     <g id=\"line2d_9\">\n      <g>\n       <use style=\"stroke:#000000;stroke-width:0.8;\" x=\"59.690625\" xlink:href=\"#mc38ec2115b\" y=\"118.833646\"/>\n      </g>\n     </g>\n     <g id=\"text_10\">\n      <!-- 20000 -->\n      <g transform=\"translate(20.878125 122.632865)scale(0.1 -0.1)\">\n       <use xlink:href=\"#DejaVuSans-50\"/>\n       <use x=\"63.623047\" xlink:href=\"#DejaVuSans-48\"/>\n       <use x=\"127.246094\" xlink:href=\"#DejaVuSans-48\"/>\n       <use x=\"190.869141\" xlink:href=\"#DejaVuSans-48\"/>\n       <use x=\"254.492188\" xlink:href=\"#DejaVuSans-48\"/>\n      </g>\n     </g>\n    </g>\n    <g id=\"ytick_4\">\n     <g id=\"line2d_10\">\n      <g>\n       <use style=\"stroke:#000000;stroke-width:0.8;\" x=\"59.690625\" xlink:href=\"#mc38ec2115b\" y=\"70.871225\"/>\n      </g>\n     </g>\n     <g id=\"text_11\">\n      <!-- 30000 -->\n      <g transform=\"translate(20.878125 74.670444)scale(0.1 -0.1)\">\n       <defs>\n        <path d=\"M 40.578125 39.3125 \nQ 47.65625 37.796875 51.625 33 \nQ 55.609375 28.21875 55.609375 21.1875 \nQ 55.609375 10.40625 48.1875 4.484375 \nQ 40.765625 -1.421875 27.09375 -1.421875 \nQ 22.515625 -1.421875 17.65625 -0.515625 \nQ 12.796875 0.390625 7.625 2.203125 \nL 7.625 11.71875 \nQ 11.71875 9.328125 16.59375 8.109375 \nQ 21.484375 6.890625 26.8125 6.890625 \nQ 36.078125 6.890625 40.9375 10.546875 \nQ 45.796875 14.203125 45.796875 21.1875 \nQ 45.796875 27.640625 41.28125 31.265625 \nQ 36.765625 34.90625 28.71875 34.90625 \nL 20.21875 34.90625 \nL 20.21875 43.015625 \nL 29.109375 43.015625 \nQ 36.375 43.015625 40.234375 45.921875 \nQ 44.09375 48.828125 44.09375 54.296875 \nQ 44.09375 59.90625 40.109375 62.90625 \nQ 36.140625 65.921875 28.71875 65.921875 \nQ 24.65625 65.921875 20.015625 65.03125 \nQ 15.375 64.15625 9.8125 62.3125 \nL 9.8125 71.09375 \nQ 15.4375 72.65625 20.34375 73.4375 \nQ 25.25 74.21875 29.59375 74.21875 \nQ 40.828125 74.21875 47.359375 69.109375 \nQ 53.90625 64.015625 53.90625 55.328125 \nQ 53.90625 49.265625 50.4375 45.09375 \nQ 46.96875 40.921875 40.578125 39.3125 \nz\n\" id=\"DejaVuSans-51\"/>\n       </defs>\n       <use xlink:href=\"#DejaVuSans-51\"/>\n       <use x=\"63.623047\" xlink:href=\"#DejaVuSans-48\"/>\n       <use x=\"127.246094\" xlink:href=\"#DejaVuSans-48\"/>\n       <use x=\"190.869141\" xlink:href=\"#DejaVuSans-48\"/>\n       <use x=\"254.492188\" xlink:href=\"#DejaVuSans-48\"/>\n      </g>\n     </g>\n    </g>\n    <g id=\"ytick_5\">\n     <g id=\"line2d_11\">\n      <g>\n       <use style=\"stroke:#000000;stroke-width:0.8;\" x=\"59.690625\" xlink:href=\"#mc38ec2115b\" y=\"22.908804\"/>\n      </g>\n     </g>\n     <g id=\"text_12\">\n      <!-- 40000 -->\n      <g transform=\"translate(20.878125 26.708022)scale(0.1 -0.1)\">\n       <use xlink:href=\"#DejaVuSans-52\"/>\n       <use x=\"63.623047\" xlink:href=\"#DejaVuSans-48\"/>\n       <use x=\"127.246094\" xlink:href=\"#DejaVuSans-48\"/>\n       <use x=\"190.869141\" xlink:href=\"#DejaVuSans-48\"/>\n       <use x=\"254.492188\" xlink:href=\"#DejaVuSans-48\"/>\n      </g>\n     </g>\n    </g>\n    <g id=\"text_13\">\n     <!-- Loss Magnitude -->\n     <g transform=\"translate(14.798438 154.966094)rotate(-90)scale(0.1 -0.1)\">\n      <defs>\n       <path d=\"M 9.8125 72.90625 \nL 19.671875 72.90625 \nL 19.671875 8.296875 \nL 55.171875 8.296875 \nL 55.171875 0 \nL 9.8125 0 \nz\n\" id=\"DejaVuSans-76\"/>\n       <path d=\"M 44.28125 53.078125 \nL 44.28125 44.578125 \nQ 40.484375 46.53125 36.375 47.5 \nQ 32.28125 48.484375 27.875 48.484375 \nQ 21.1875 48.484375 17.84375 46.4375 \nQ 14.5 44.390625 14.5 40.28125 \nQ 14.5 37.15625 16.890625 35.375 \nQ 19.28125 33.59375 26.515625 31.984375 \nL 29.59375 31.296875 \nQ 39.15625 29.25 43.1875 25.515625 \nQ 47.21875 21.78125 47.21875 15.09375 \nQ 47.21875 7.46875 41.1875 3.015625 \nQ 35.15625 -1.421875 24.609375 -1.421875 \nQ 20.21875 -1.421875 15.453125 -0.5625 \nQ 10.6875 0.296875 5.421875 2 \nL 5.421875 11.28125 \nQ 10.40625 8.6875 15.234375 7.390625 \nQ 20.0625 6.109375 24.8125 6.109375 \nQ 31.15625 6.109375 34.5625 8.28125 \nQ 37.984375 10.453125 37.984375 14.40625 \nQ 37.984375 18.0625 35.515625 20.015625 \nQ 33.0625 21.96875 24.703125 23.78125 \nL 21.578125 24.515625 \nQ 13.234375 26.265625 9.515625 29.90625 \nQ 5.8125 33.546875 5.8125 39.890625 \nQ 5.8125 47.609375 11.28125 51.796875 \nQ 16.75 56 26.8125 56 \nQ 31.78125 56 36.171875 55.265625 \nQ 40.578125 54.546875 44.28125 53.078125 \nz\n\" id=\"DejaVuSans-115\"/>\n       <path d=\"M 9.8125 72.90625 \nL 24.515625 72.90625 \nL 43.109375 23.296875 \nL 61.8125 72.90625 \nL 76.515625 72.90625 \nL 76.515625 0 \nL 66.890625 0 \nL 66.890625 64.015625 \nL 48.09375 14.015625 \nL 38.1875 14.015625 \nL 19.390625 64.015625 \nL 19.390625 0 \nL 9.8125 0 \nz\n\" id=\"DejaVuSans-77\"/>\n       <path d=\"M 34.28125 27.484375 \nQ 23.390625 27.484375 19.1875 25 \nQ 14.984375 22.515625 14.984375 16.5 \nQ 14.984375 11.71875 18.140625 8.90625 \nQ 21.296875 6.109375 26.703125 6.109375 \nQ 34.1875 6.109375 38.703125 11.40625 \nQ 43.21875 16.703125 43.21875 25.484375 \nL 43.21875 27.484375 \nz\nM 52.203125 31.203125 \nL 52.203125 0 \nL 43.21875 0 \nL 43.21875 8.296875 \nQ 40.140625 3.328125 35.546875 0.953125 \nQ 30.953125 -1.421875 24.3125 -1.421875 \nQ 15.921875 -1.421875 10.953125 3.296875 \nQ 6 8.015625 6 15.921875 \nQ 6 25.140625 12.171875 29.828125 \nQ 18.359375 34.515625 30.609375 34.515625 \nL 43.21875 34.515625 \nL 43.21875 35.40625 \nQ 43.21875 41.609375 39.140625 45 \nQ 35.0625 48.390625 27.6875 48.390625 \nQ 23 48.390625 18.546875 47.265625 \nQ 14.109375 46.140625 10.015625 43.890625 \nL 10.015625 52.203125 \nQ 14.9375 54.109375 19.578125 55.046875 \nQ 24.21875 56 28.609375 56 \nQ 40.484375 56 46.34375 49.84375 \nQ 52.203125 43.703125 52.203125 31.203125 \nz\n\" id=\"DejaVuSans-97\"/>\n       <path d=\"M 45.40625 27.984375 \nQ 45.40625 37.75 41.375 43.109375 \nQ 37.359375 48.484375 30.078125 48.484375 \nQ 22.859375 48.484375 18.828125 43.109375 \nQ 14.796875 37.75 14.796875 27.984375 \nQ 14.796875 18.265625 18.828125 12.890625 \nQ 22.859375 7.515625 30.078125 7.515625 \nQ 37.359375 7.515625 41.375 12.890625 \nQ 45.40625 18.265625 45.40625 27.984375 \nz\nM 54.390625 6.78125 \nQ 54.390625 -7.171875 48.1875 -13.984375 \nQ 42 -20.796875 29.203125 -20.796875 \nQ 24.46875 -20.796875 20.265625 -20.09375 \nQ 16.0625 -19.390625 12.109375 -17.921875 \nL 12.109375 -9.1875 \nQ 16.0625 -11.328125 19.921875 -12.34375 \nQ 23.78125 -13.375 27.78125 -13.375 \nQ 36.625 -13.375 41.015625 -8.765625 \nQ 45.40625 -4.15625 45.40625 5.171875 \nL 45.40625 9.625 \nQ 42.625 4.78125 38.28125 2.390625 \nQ 33.9375 0 27.875 0 \nQ 17.828125 0 11.671875 7.65625 \nQ 5.515625 15.328125 5.515625 27.984375 \nQ 5.515625 40.671875 11.671875 48.328125 \nQ 17.828125 56 27.875 56 \nQ 33.9375 56 38.28125 53.609375 \nQ 42.625 51.21875 45.40625 46.390625 \nL 45.40625 54.6875 \nL 54.390625 54.6875 \nz\n\" id=\"DejaVuSans-103\"/>\n       <path d=\"M 54.890625 33.015625 \nL 54.890625 0 \nL 45.90625 0 \nL 45.90625 32.71875 \nQ 45.90625 40.484375 42.875 44.328125 \nQ 39.84375 48.1875 33.796875 48.1875 \nQ 26.515625 48.1875 22.3125 43.546875 \nQ 18.109375 38.921875 18.109375 30.90625 \nL 18.109375 0 \nL 9.078125 0 \nL 9.078125 54.6875 \nL 18.109375 54.6875 \nL 18.109375 46.1875 \nQ 21.34375 51.125 25.703125 53.5625 \nQ 30.078125 56 35.796875 56 \nQ 45.21875 56 50.046875 50.171875 \nQ 54.890625 44.34375 54.890625 33.015625 \nz\n\" id=\"DejaVuSans-110\"/>\n       <path d=\"M 9.421875 54.6875 \nL 18.40625 54.6875 \nL 18.40625 0 \nL 9.421875 0 \nz\nM 9.421875 75.984375 \nL 18.40625 75.984375 \nL 18.40625 64.59375 \nL 9.421875 64.59375 \nz\n\" id=\"DejaVuSans-105\"/>\n       <path d=\"M 18.3125 70.21875 \nL 18.3125 54.6875 \nL 36.8125 54.6875 \nL 36.8125 47.703125 \nL 18.3125 47.703125 \nL 18.3125 18.015625 \nQ 18.3125 11.328125 20.140625 9.421875 \nQ 21.96875 7.515625 27.59375 7.515625 \nL 36.8125 7.515625 \nL 36.8125 0 \nL 27.59375 0 \nQ 17.1875 0 13.234375 3.875 \nQ 9.28125 7.765625 9.28125 18.015625 \nL 9.28125 47.703125 \nL 2.6875 47.703125 \nL 2.6875 54.6875 \nL 9.28125 54.6875 \nL 9.28125 70.21875 \nz\n\" id=\"DejaVuSans-116\"/>\n       <path d=\"M 45.40625 46.390625 \nL 45.40625 75.984375 \nL 54.390625 75.984375 \nL 54.390625 0 \nL 45.40625 0 \nL 45.40625 8.203125 \nQ 42.578125 3.328125 38.25 0.953125 \nQ 33.9375 -1.421875 27.875 -1.421875 \nQ 17.96875 -1.421875 11.734375 6.484375 \nQ 5.515625 14.40625 5.515625 27.296875 \nQ 5.515625 40.1875 11.734375 48.09375 \nQ 17.96875 56 27.875 56 \nQ 33.9375 56 38.25 53.625 \nQ 42.578125 51.265625 45.40625 46.390625 \nz\nM 14.796875 27.296875 \nQ 14.796875 17.390625 18.875 11.75 \nQ 22.953125 6.109375 30.078125 6.109375 \nQ 37.203125 6.109375 41.296875 11.75 \nQ 45.40625 17.390625 45.40625 27.296875 \nQ 45.40625 37.203125 41.296875 42.84375 \nQ 37.203125 48.484375 30.078125 48.484375 \nQ 22.953125 48.484375 18.875 42.84375 \nQ 14.796875 37.203125 14.796875 27.296875 \nz\n\" id=\"DejaVuSans-100\"/>\n      </defs>\n      <use xlink:href=\"#DejaVuSans-76\"/>\n      <use x=\"53.962891\" xlink:href=\"#DejaVuSans-111\"/>\n      <use x=\"115.144531\" xlink:href=\"#DejaVuSans-115\"/>\n      <use x=\"167.244141\" xlink:href=\"#DejaVuSans-115\"/>\n      <use x=\"219.34375\" xlink:href=\"#DejaVuSans-32\"/>\n      <use x=\"251.130859\" xlink:href=\"#DejaVuSans-77\"/>\n      <use x=\"337.410156\" xlink:href=\"#DejaVuSans-97\"/>\n      <use x=\"398.689453\" xlink:href=\"#DejaVuSans-103\"/>\n      <use x=\"462.166016\" xlink:href=\"#DejaVuSans-110\"/>\n      <use x=\"525.544922\" xlink:href=\"#DejaVuSans-105\"/>\n      <use x=\"553.328125\" xlink:href=\"#DejaVuSans-116\"/>\n      <use x=\"592.537109\" xlink:href=\"#DejaVuSans-117\"/>\n      <use x=\"655.916016\" xlink:href=\"#DejaVuSans-100\"/>\n      <use x=\"719.392578\" xlink:href=\"#DejaVuSans-101\"/>\n     </g>\n    </g>\n   </g>\n   <g id=\"line2d_12\">\n    <path clip-path=\"url(#p6f9350e4a8)\" d=\"M 74.908807 17.083636 \nL 75.822812 64.988428 \nL 76.432148 88.303973 \nL 77.041485 104.917228 \nL 77.650822 115.479687 \nL 78.260158 121.184395 \nL 78.564826 122.721179 \nL 79.174163 124.287292 \nL 80.088168 125.740938 \nL 80.697505 127.506573 \nL 81.306841 130.252075 \nL 82.220846 135.810835 \nL 84.353524 149.752518 \nL 85.572197 155.969516 \nL 87.400207 163.758829 \nL 91.056227 178.538231 \nL 92.579568 183.655697 \nL 94.407578 189.057184 \nL 96.235588 193.803756 \nL 97.75893 197.207196 \nL 99.282271 200.144352 \nL 100.805613 202.682076 \nL 102.328954 204.852832 \nL 103.852296 206.686515 \nL 105.375637 208.226444 \nL 107.203647 209.740524 \nL 109.031657 210.942365 \nL 110.859667 211.886116 \nL 112.992345 212.723657 \nL 115.429691 213.409905 \nL 118.171706 213.928419 \nL 121.523057 214.314343 \nL 125.788414 214.567802 \nL 132.491116 214.712149 \nL 148.333868 214.753981 \nL 379.272443 214.756364 \nL 379.272443 214.756364 \n\" style=\"fill:none;stroke:#1f77b4;stroke-linecap:square;stroke-width:1.5;\"/>\n   </g>\n   <g id=\"patch_3\">\n    <path d=\"M 59.690625 224.64 \nL 59.690625 7.2 \n\" style=\"fill:none;stroke:#000000;stroke-linecap:square;stroke-linejoin:miter;stroke-width:0.8;\"/>\n   </g>\n   <g id=\"patch_4\">\n    <path d=\"M 394.490625 224.64 \nL 394.490625 7.2 \n\" style=\"fill:none;stroke:#000000;stroke-linecap:square;stroke-linejoin:miter;stroke-width:0.8;\"/>\n   </g>\n   <g id=\"patch_5\">\n    <path d=\"M 59.690625 224.64 \nL 394.490625 224.64 \n\" style=\"fill:none;stroke:#000000;stroke-linecap:square;stroke-linejoin:miter;stroke-width:0.8;\"/>\n   </g>\n   <g id=\"patch_6\">\n    <path d=\"M 59.690625 7.2 \nL 394.490625 7.2 \n\" style=\"fill:none;stroke:#000000;stroke-linecap:square;stroke-linejoin:miter;stroke-width:0.8;\"/>\n   </g>\n  </g>\n </g>\n <defs>\n  <clipPath id=\"p6f9350e4a8\">\n   <rect height=\"217.44\" width=\"334.8\" x=\"59.690625\" y=\"7.2\"/>\n  </clipPath>\n </defs>\n</svg>\n",
      "image/png": "[encoded data removed]"
     },
     "metadata": {
      "needs_background": "light"
     }
    }
   ],
   "source": [
    "import matplotlib.pyplot as plt\n",
    "plt.xlabel('Epoch Number')\n",
    "plt.ylabel(\"Loss Magnitude\")\n",
    "plt.plot(hist.history['loss']);"
   ]
  },
  {
   "cell_type": "code",
   "execution_count": 50,
   "metadata": {},
   "outputs": [
    {
     "output_type": "execute_result",
     "data": {
      "text/plain": [
       "[array([[ 4.9999857],\n",
       "        [-3.000012 ]], dtype=float32),\n",
       " array([7.0017557], dtype=float32)]"
      ]
     },
     "metadata": {},
     "execution_count": 50
    }
   ],
   "source": [
    "model.get_weights()"
   ]
  },
  {
   "cell_type": "code",
   "execution_count": 51,
   "metadata": {},
   "outputs": [
    {
     "output_type": "stream",
     "name": "stdout",
     "text": [
      "INFO:tensorflow:Assets written to: models/c_to_f/assets\n"
     ]
    }
   ],
   "source": [
    "model.save('models/c_to_f')"
   ]
  },
  {
   "cell_type": "code",
   "execution_count": 52,
   "metadata": {},
   "outputs": [],
   "source": [
    "model.save('models/c_to_f.h5')"
   ]
  },
  {
   "cell_type": "code",
   "execution_count": 53,
   "metadata": {},
   "outputs": [],
   "source": [
    "predictions = model.predict(inputs_valid)\n"
   ]
  },
  {
   "cell_type": "code",
   "execution_count": 54,
   "metadata": {},
   "outputs": [
    {
     "output_type": "stream",
     "name": "stdout",
     "text": [
      "[[ 257.28714]\n [ 216.90991]\n [ 240.48961]\n [ 398.03967]\n [ 178.63579]\n [ 327.93457]\n [ 143.85698]\n [ 355.66232]\n [-127.59227]\n [ 309.1588 ]]\n"
     ]
    }
   ],
   "source": [
    "print(predictions)"
   ]
  },
  {
   "cell_type": "code",
   "execution_count": 60,
   "metadata": {},
   "outputs": [],
   "source": [
    "from tensorflow.keras import backend as K\n",
    "K.clear_session()"
   ]
  },
  {
   "cell_type": "code",
   "execution_count": null,
   "metadata": {},
   "outputs": [],
   "source": []
  }
 ]
}